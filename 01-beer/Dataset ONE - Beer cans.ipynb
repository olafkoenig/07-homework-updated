{
 "cells": [
  {
   "cell_type": "markdown",
   "metadata": {
    "collapsed": true,
    "jupyter": {
     "outputs_hidden": true
    }
   },
   "source": [
    "# Homework 7, Part One: Lots and lots of questions about beer"
   ]
  },
  {
   "cell_type": "markdown",
   "metadata": {},
   "source": [
    "### Do your importing and your setup"
   ]
  },
  {
   "cell_type": "code",
   "execution_count": 1,
   "metadata": {},
   "outputs": [],
   "source": [
    "import pandas as pd"
   ]
  },
  {
   "cell_type": "markdown",
   "metadata": {},
   "source": [
    "## Read in the file `craftcans.csv`, and look at the first first rows"
   ]
  },
  {
   "cell_type": "code",
   "execution_count": 2,
   "metadata": {},
   "outputs": [
    {
     "data": {
      "application/vnd.microsoft.datawrangler.viewer.v0+json": {
       "columns": [
        {
         "name": "index",
         "rawType": "int64",
         "type": "integer"
        },
        {
         "name": "Beer",
         "rawType": "object",
         "type": "string"
        },
        {
         "name": "Brewery",
         "rawType": "object",
         "type": "unknown"
        },
        {
         "name": "Location",
         "rawType": "object",
         "type": "unknown"
        },
        {
         "name": "Style",
         "rawType": "object",
         "type": "unknown"
        },
        {
         "name": "Size",
         "rawType": "object",
         "type": "unknown"
        },
        {
         "name": "ABV",
         "rawType": "object",
         "type": "unknown"
        },
        {
         "name": "IBUs",
         "rawType": "float64",
         "type": "float"
        }
       ],
       "ref": "3a50389b-2941-4550-892c-034a476a8122",
       "rows": [
        [
         "0",
         "Get Together",
         "NorthGate Brewing",
         "Minneapolis, MN",
         "American IPA",
         "16 oz.",
         "4.50%",
         "50.0"
        ],
        [
         "1",
         "Maggie's Leap",
         "NorthGate Brewing",
         "Minneapolis, MN",
         "Milk / Sweet Stout",
         "16 oz.",
         "4.90%",
         "26.0"
        ],
        [
         "2",
         "Wall's End",
         "NorthGate Brewing",
         "Minneapolis, MN",
         "English Brown Ale",
         "16 oz.",
         "4.80%",
         "19.0"
        ],
        [
         "3",
         "Pumpion",
         "NorthGate Brewing",
         "Minneapolis, MN",
         "Pumpkin Ale",
         "16 oz.",
         "6.00%",
         "38.0"
        ],
        [
         "4",
         "Stronghold",
         "NorthGate Brewing",
         "Minneapolis, MN",
         "American Porter",
         "16 oz.",
         "6.00%",
         "25.0"
        ],
        [
         "5",
         "Parapet ESB",
         "NorthGate Brewing",
         "Minneapolis, MN",
         "Extra Special / Strong Bitter (ESB)",
         "16 oz.",
         "5.60%",
         "47.0"
        ],
        [
         "6",
         "Citra Ass Down",
         "Against the Grain Brewery",
         "Louisville, KY",
         "American Double / Imperial IPA",
         "16 oz.",
         "8.00%",
         "68.0"
        ],
        [
         "7",
         "London Balling",
         "Against the Grain Brewery",
         "Louisville, KY",
         "English Barleywine",
         "16 oz.",
         "12.50%",
         "80.0"
        ],
        [
         "8",
         "35 K",
         "Against the Grain Brewery",
         "Louisville, KY",
         "Milk / Sweet Stout",
         "16 oz.",
         "7.70%",
         "25.0"
        ],
        [
         "9",
         "A Beer",
         "Against the Grain Brewery",
         "Louisville, KY",
         "American Pale Ale (APA)",
         "16 oz.",
         "4.20%",
         "42.0"
        ],
        [
         "10",
         "Rules are Rules",
         "Against the Grain Brewery",
         "Louisville, KY",
         "German Pilsener",
         "16 oz.",
         "5.00%",
         "25.0"
        ],
        [
         "11",
         "Flesh Gourd'n",
         "Against the Grain Brewery",
         "Louisville, KY",
         "Pumpkin Ale",
         "16 oz.",
         "6.60%",
         "21.0"
        ],
        [
         "12",
         "Sho'nuff",
         "Against the Grain Brewery",
         "Louisville, KY",
         "Belgian Pale Ale",
         "16 oz.",
         "4.00%",
         "13.0"
        ],
        [
         "13",
         "Bloody Show",
         "Against the Grain Brewery",
         "Louisville, KY",
         "American Pilsner",
         "16 oz.",
         "5.50%",
         "17.0"
        ],
        [
         "14",
         "Rico Sauvin",
         "Against the Grain Brewery",
         "Louisville, KY",
         "American Double / Imperial IPA",
         "16 oz.",
         "7.60%",
         "68.0"
        ],
        [
         "15",
         "Coq de la Marche",
         "Against the Grain Brewery",
         "Louisville, KY",
         "Saison / Farmhouse Ale",
         "16 oz.",
         "5.10%",
         "38.0"
        ],
        [
         "16",
         "Kamen Knuddeln",
         "Against the Grain Brewery",
         "Louisville, KY",
         "American Wild Ale",
         "16 oz.",
         "6.50%",
         null
        ],
        [
         "17",
         "Pile of Face",
         "Against the Grain Brewery",
         "Louisville, KY",
         "American IPA",
         "16 oz.",
         "6.00%",
         "65.0"
        ],
        [
         "18",
         "The Brown Note",
         "Against the Grain Brewery",
         "Louisville, KY",
         "English Brown Ale",
         "16 oz.",
         "5.00%",
         "20.0"
        ],
        [
         "19",
         "House Lager",
         "Jack's Abby Craft Lagers",
         "Framingham, MA",
         "Keller Bier / Zwickel Bier",
         "16 oz.",
         "5.20%",
         "18.0"
        ],
        [
         "20",
         "Leisure Time",
         "Jack's Abby Craft Lagers",
         "Framingham, MA",
         "American Pale Lager",
         "12 oz.",
         "4.80%",
         "15.0"
        ],
        [
         "21",
         "Excess IPL",
         "Jack's Abby Craft Lagers",
         "Framingham, MA",
         "American India Pale Lager",
         "16 oz.",
         "7.20%",
         "80.0"
        ],
        [
         "22",
         "Hoponius Union",
         "Jack's Abby Craft Lagers",
         "Framingham, MA",
         "American India Pale Lager",
         "12 oz.",
         "6.70%",
         "65.0"
        ],
        [
         "23",
         "Calyptra",
         "Jack's Abby Craft Lagers",
         "Framingham, MA",
         "American India Pale Lager",
         "12 oz.",
         "4.90%",
         "45.0"
        ],
        [
         "24",
         "Habitus (2014)",
         "Mike Hess Brewing Company",
         "San Diego, CA",
         "American Double / Imperial IPA",
         "16 oz.",
         "8.00%",
         "100.0"
        ],
        [
         "25",
         "Solis",
         "Mike Hess Brewing Company",
         "San Diego, CA",
         "American IPA",
         "16 oz.",
         "7.50%",
         "85.0"
        ],
        [
         "26",
         "Jucundus",
         "Mike Hess Brewing Company",
         "San Diego, CA",
         "Wheat Ale",
         "16 oz.",
         "6.00%",
         "24.0"
        ],
        [
         "27",
         "Habitus",
         "Mike Hess Brewing Company",
         "San Diego, CA",
         "American Double / Imperial IPA",
         "16 oz.",
         "8.00%",
         "100.0"
        ],
        [
         "28",
         "Grazias",
         "Mike Hess Brewing Company",
         "San Diego, CA",
         "Cream Ale",
         "16 oz.",
         "6.30%",
         "30.0"
        ],
        [
         "29",
         "Claritas",
         "Mike Hess Brewing Company",
         "San Diego, CA",
         "Kölsch",
         "16 oz.",
         "5.80%",
         "28.0"
        ],
        [
         "30",
         "Park",
         "Fort Point Beer Company",
         "San Francisco, CA",
         "American Pale Wheat Ale",
         "12 oz.",
         "4.70%",
         "19.0"
        ],
        [
         "31",
         "Westfalia",
         "Fort Point Beer Company",
         "San Francisco, CA",
         "American Amber / Red Ale",
         "12 oz.",
         "5.60%",
         "16.0"
        ],
        [
         "32",
         "KSA",
         "Fort Point Beer Company",
         "San Francisco, CA",
         "Kölsch",
         "12 oz.",
         "4.60%",
         "17.0"
        ],
        [
         "33",
         "Villager",
         "Fort Point Beer Company",
         "San Francisco, CA",
         "American IPA",
         "12 oz.",
         "6.30%",
         "42.0"
        ],
        [
         "34",
         "Blackbeard",
         "COAST Brewing Company",
         "Charleston, SC",
         "American Double / Imperial Stout",
         "12 oz.",
         "9.30%",
         null
        ],
        [
         "35",
         "Rye Knot",
         "COAST Brewing Company",
         "Charleston, SC",
         "American Brown Ale",
         "12 oz.",
         "6.20%",
         null
        ],
        [
         "36",
         "Dead Arm",
         "COAST Brewing Company",
         "Charleston, SC",
         "American Pale Ale (APA)",
         "12 oz.",
         "6.00%",
         null
        ],
        [
         "37",
         "32°/50° Kölsch",
         "COAST Brewing Company",
         "Charleston, SC",
         "Kölsch",
         "16 oz.",
         "4.80%",
         null
        ],
        [
         "38",
         "HopArt",
         "COAST Brewing Company",
         "Charleston, SC",
         "American IPA",
         "16 oz.",
         "7.70%",
         null
        ],
        [
         "39",
         "Boy King",
         "COAST Brewing Company",
         "Charleston, SC",
         "American Double / Imperial IPA",
         "16 oz.",
         "9.70%",
         null
        ],
        [
         "40",
         "Denver Pale Ale (Artist Series No. 1)",
         "Great Divide Brewing Company",
         "Denver, CO",
         "American Pale Ale (APA)",
         "12 oz.",
         "5.00%",
         null
        ],
        [
         "41",
         "Hibernation Ale",
         "Great Divide Brewing Company",
         "Denver, CO",
         "Old Ale",
         "12 oz.",
         "8.70%",
         null
        ],
        [
         "42",
         "Whitewater",
         "Great Divide Brewing Company",
         "Denver, CO",
         "American Pale Wheat Ale",
         "12 oz.",
         "6.10%",
         null
        ],
        [
         "43",
         "Rumble",
         "Great Divide Brewing Company",
         "Denver, CO",
         "American IPA",
         "12 oz.",
         "7.10%",
         null
        ],
        [
         "44",
         "Orabelle",
         "Great Divide Brewing Company",
         "Denver, CO",
         "Tripel",
         "12 oz.",
         "8.30%",
         null
        ],
        [
         "45",
         "Lasso",
         "Great Divide Brewing Company",
         "Denver, CO",
         "American IPA",
         "12 oz.",
         "5.00%",
         null
        ],
        [
         "46",
         "Yeti Imperial Stout",
         "Great Divide Brewing Company",
         "Denver, CO",
         "Russian Imperial Stout",
         "12 oz.",
         "9.50%",
         "75.0"
        ],
        [
         "47",
         "Colette",
         "Great Divide Brewing Company",
         "Denver, CO",
         "Saison / Farmhouse Ale",
         "12 oz.",
         "7.30%",
         null
        ],
        [
         "48",
         "Titan IPA",
         "Great Divide Brewing Company",
         "Denver, CO",
         "American IPA",
         "12 oz.",
         "7.10%",
         null
        ],
        [
         "49",
         "Peck's Porter",
         "Tapistry Brewing",
         "Bridgman, MI",
         "American Porter",
         "16 oz.",
         "6.50%",
         "35.0"
        ]
       ],
       "shape": {
        "columns": 7,
        "rows": 2416
       }
      },
      "text/html": [
       "<div>\n",
       "<style scoped>\n",
       "    .dataframe tbody tr th:only-of-type {\n",
       "        vertical-align: middle;\n",
       "    }\n",
       "\n",
       "    .dataframe tbody tr th {\n",
       "        vertical-align: top;\n",
       "    }\n",
       "\n",
       "    .dataframe thead th {\n",
       "        text-align: right;\n",
       "    }\n",
       "</style>\n",
       "<table border=\"1\" class=\"dataframe\">\n",
       "  <thead>\n",
       "    <tr style=\"text-align: right;\">\n",
       "      <th></th>\n",
       "      <th>Beer</th>\n",
       "      <th>Brewery</th>\n",
       "      <th>Location</th>\n",
       "      <th>Style</th>\n",
       "      <th>Size</th>\n",
       "      <th>ABV</th>\n",
       "      <th>IBUs</th>\n",
       "    </tr>\n",
       "  </thead>\n",
       "  <tbody>\n",
       "    <tr>\n",
       "      <th>0</th>\n",
       "      <td>Get Together</td>\n",
       "      <td>NorthGate Brewing</td>\n",
       "      <td>Minneapolis, MN</td>\n",
       "      <td>American IPA</td>\n",
       "      <td>16 oz.</td>\n",
       "      <td>4.50%</td>\n",
       "      <td>50.0</td>\n",
       "    </tr>\n",
       "    <tr>\n",
       "      <th>1</th>\n",
       "      <td>Maggie's Leap</td>\n",
       "      <td>NorthGate Brewing</td>\n",
       "      <td>Minneapolis, MN</td>\n",
       "      <td>Milk / Sweet Stout</td>\n",
       "      <td>16 oz.</td>\n",
       "      <td>4.90%</td>\n",
       "      <td>26.0</td>\n",
       "    </tr>\n",
       "    <tr>\n",
       "      <th>2</th>\n",
       "      <td>Wall's End</td>\n",
       "      <td>NorthGate Brewing</td>\n",
       "      <td>Minneapolis, MN</td>\n",
       "      <td>English Brown Ale</td>\n",
       "      <td>16 oz.</td>\n",
       "      <td>4.80%</td>\n",
       "      <td>19.0</td>\n",
       "    </tr>\n",
       "    <tr>\n",
       "      <th>3</th>\n",
       "      <td>Pumpion</td>\n",
       "      <td>NorthGate Brewing</td>\n",
       "      <td>Minneapolis, MN</td>\n",
       "      <td>Pumpkin Ale</td>\n",
       "      <td>16 oz.</td>\n",
       "      <td>6.00%</td>\n",
       "      <td>38.0</td>\n",
       "    </tr>\n",
       "    <tr>\n",
       "      <th>4</th>\n",
       "      <td>Stronghold</td>\n",
       "      <td>NorthGate Brewing</td>\n",
       "      <td>Minneapolis, MN</td>\n",
       "      <td>American Porter</td>\n",
       "      <td>16 oz.</td>\n",
       "      <td>6.00%</td>\n",
       "      <td>25.0</td>\n",
       "    </tr>\n",
       "    <tr>\n",
       "      <th>...</th>\n",
       "      <td>...</td>\n",
       "      <td>...</td>\n",
       "      <td>...</td>\n",
       "      <td>...</td>\n",
       "      <td>...</td>\n",
       "      <td>...</td>\n",
       "      <td>...</td>\n",
       "    </tr>\n",
       "    <tr>\n",
       "      <th>2411</th>\n",
       "      <td>Mama's Little Yella Pils</td>\n",
       "      <td>Oskar Blues Brewery</td>\n",
       "      <td>Longmont, CO</td>\n",
       "      <td>Czech Pilsener</td>\n",
       "      <td>12 oz.</td>\n",
       "      <td>5.30%</td>\n",
       "      <td>35.0</td>\n",
       "    </tr>\n",
       "    <tr>\n",
       "      <th>2412</th>\n",
       "      <td>GUBNA Imperial IPA</td>\n",
       "      <td>Oskar Blues Brewery</td>\n",
       "      <td>Longmont, CO</td>\n",
       "      <td>American Double / Imperial IPA</td>\n",
       "      <td>12 oz.</td>\n",
       "      <td>9.90%</td>\n",
       "      <td>100.0</td>\n",
       "    </tr>\n",
       "    <tr>\n",
       "      <th>2413</th>\n",
       "      <td>Old Chub</td>\n",
       "      <td>Oskar Blues Brewery</td>\n",
       "      <td>Longmont, CO</td>\n",
       "      <td>Scottish Ale</td>\n",
       "      <td>12 oz.</td>\n",
       "      <td>8.00%</td>\n",
       "      <td>35.0</td>\n",
       "    </tr>\n",
       "    <tr>\n",
       "      <th>2414</th>\n",
       "      <td>Gordon Ale (2009)</td>\n",
       "      <td>Oskar Blues Brewery</td>\n",
       "      <td>Longmont, CO</td>\n",
       "      <td>American Double / Imperial IPA</td>\n",
       "      <td>12 oz.</td>\n",
       "      <td>8.70%</td>\n",
       "      <td>85.0</td>\n",
       "    </tr>\n",
       "    <tr>\n",
       "      <th>2415</th>\n",
       "      <td>Dale's Pale Ale</td>\n",
       "      <td>Oskar Blues Brewery</td>\n",
       "      <td>Longmont, CO</td>\n",
       "      <td>American Pale Ale (APA)</td>\n",
       "      <td>12 oz.</td>\n",
       "      <td>6.50%</td>\n",
       "      <td>65.0</td>\n",
       "    </tr>\n",
       "  </tbody>\n",
       "</table>\n",
       "<p>2416 rows × 7 columns</p>\n",
       "</div>"
      ],
      "text/plain": [
       "                          Beer              Brewery         Location  \\\n",
       "0                 Get Together    NorthGate Brewing  Minneapolis, MN   \n",
       "1                Maggie's Leap    NorthGate Brewing  Minneapolis, MN   \n",
       "2                   Wall's End    NorthGate Brewing  Minneapolis, MN   \n",
       "3                      Pumpion    NorthGate Brewing  Minneapolis, MN   \n",
       "4                   Stronghold    NorthGate Brewing  Minneapolis, MN   \n",
       "...                        ...                  ...              ...   \n",
       "2411  Mama's Little Yella Pils  Oskar Blues Brewery     Longmont, CO   \n",
       "2412        GUBNA Imperial IPA  Oskar Blues Brewery     Longmont, CO   \n",
       "2413                  Old Chub  Oskar Blues Brewery     Longmont, CO   \n",
       "2414         Gordon Ale (2009)  Oskar Blues Brewery     Longmont, CO   \n",
       "2415           Dale's Pale Ale  Oskar Blues Brewery     Longmont, CO   \n",
       "\n",
       "                               Style    Size    ABV   IBUs  \n",
       "0                       American IPA  16 oz.  4.50%   50.0  \n",
       "1                 Milk / Sweet Stout  16 oz.  4.90%   26.0  \n",
       "2                  English Brown Ale  16 oz.  4.80%   19.0  \n",
       "3                        Pumpkin Ale  16 oz.  6.00%   38.0  \n",
       "4                    American Porter  16 oz.  6.00%   25.0  \n",
       "...                              ...     ...    ...    ...  \n",
       "2411                  Czech Pilsener  12 oz.  5.30%   35.0  \n",
       "2412  American Double / Imperial IPA  12 oz.  9.90%  100.0  \n",
       "2413                    Scottish Ale  12 oz.  8.00%   35.0  \n",
       "2414  American Double / Imperial IPA  12 oz.  8.70%   85.0  \n",
       "2415         American Pale Ale (APA)  12 oz.  6.50%   65.0  \n",
       "\n",
       "[2416 rows x 7 columns]"
      ]
     },
     "execution_count": 2,
     "metadata": {},
     "output_type": "execute_result"
    }
   ],
   "source": [
    "df = pd.read_csv('craftcans.csv', na_values = ['Does not apply', 'Nan', 'nan', 'inf'])\n",
    "df[:1]\n",
    "df"
   ]
  },
  {
   "cell_type": "markdown",
   "metadata": {},
   "source": [
    "## How many rows do you have in the data? What are the column types?"
   ]
  },
  {
   "cell_type": "code",
   "execution_count": 3,
   "metadata": {},
   "outputs": [
    {
     "data": {
      "text/plain": [
       "(2416, 7)"
      ]
     },
     "execution_count": 3,
     "metadata": {},
     "output_type": "execute_result"
    }
   ],
   "source": [
    "df.shape"
   ]
  },
  {
   "cell_type": "code",
   "execution_count": 4,
   "metadata": {},
   "outputs": [
    {
     "name": "stdout",
     "output_type": "stream",
     "text": [
      "<class 'pandas.core.frame.DataFrame'>\n",
      "RangeIndex: 2416 entries, 0 to 2415\n",
      "Data columns (total 7 columns):\n",
      " #   Column    Non-Null Count  Dtype  \n",
      "---  ------    --------------  -----  \n",
      " 0   Beer      2416 non-null   object \n",
      " 1   Brewery   2410 non-null   object \n",
      " 2   Location  2410 non-null   object \n",
      " 3   Style     2405 non-null   object \n",
      " 4   Size      2410 non-null   object \n",
      " 5   ABV       2348 non-null   object \n",
      " 6   IBUs      1405 non-null   float64\n",
      "dtypes: float64(1), object(6)\n",
      "memory usage: 132.3+ KB\n"
     ]
    }
   ],
   "source": [
    "df.info()"
   ]
  },
  {
   "cell_type": "markdown",
   "metadata": {},
   "source": [
    "# Checking out our alcohol"
   ]
  },
  {
   "cell_type": "markdown",
   "metadata": {},
   "source": [
    "## What are the top 10 producers in terms of different cans of beer?"
   ]
  },
  {
   "cell_type": "code",
   "execution_count": 5,
   "metadata": {},
   "outputs": [
    {
     "data": {
      "application/vnd.microsoft.datawrangler.viewer.v0+json": {
       "columns": [
        {
         "name": "index",
         "rawType": "int64",
         "type": "integer"
        },
        {
         "name": "Beer",
         "rawType": "object",
         "type": "string"
        },
        {
         "name": "Brewery",
         "rawType": "object",
         "type": "string"
        },
        {
         "name": "Location",
         "rawType": "object",
         "type": "string"
        },
        {
         "name": "Style",
         "rawType": "object",
         "type": "string"
        },
        {
         "name": "Size",
         "rawType": "object",
         "type": "string"
        },
        {
         "name": "ABV",
         "rawType": "object",
         "type": "string"
        },
        {
         "name": "IBUs",
         "rawType": "float64",
         "type": "float"
        }
       ],
       "ref": "8adf4b29-7dee-4993-b12c-bb593c76ba3f",
       "rows": [
        [
         "115",
         "4Beans",
         "Sixpoint Craft Ales",
         "Brooklyn, NY",
         "Baltic Porter",
         "12 oz.",
         "10.00%",
         "52.0"
        ],
        [
         "210",
         "Jammer",
         "Sixpoint Craft Ales",
         "Brooklyn, NY",
         "Gose",
         "12 oz. Slimline",
         "4.20%",
         "16.0"
        ],
        [
         "246",
         "Abigale",
         "Sixpoint Craft Ales",
         "Brooklyn, NY",
         "Belgian Pale Ale",
         "12 oz.",
         "8.00%",
         null
        ],
        [
         "421",
         "Rad",
         "Sixpoint Craft Ales",
         "Brooklyn, NY",
         "Fruit / Vegetable Beer",
         "16 oz.",
         "3.20%",
         "7.0"
        ],
        [
         "588",
         "Bengali",
         "Sixpoint Craft Ales",
         "Brooklyn, NY",
         "American IPA",
         "24 oz. \"Silo Can\"",
         "6.50%",
         "62.0"
        ],
        [
         "713",
         "Sensi Harvest",
         "Sixpoint Craft Ales",
         "Brooklyn, NY",
         "American Pale Ale (APA)",
         "12 oz.",
         "4.70%",
         "50.0"
        ],
        [
         "969",
         "Hi-Res",
         "Sixpoint Craft Ales",
         "Brooklyn, NY",
         "American Double / Imperial IPA",
         "12 oz.",
         "9.90%",
         "111.0"
        ],
        [
         "1057",
         "Global Warmer",
         "Sixpoint Craft Ales",
         "Brooklyn, NY",
         "American Strong Ale",
         "12 oz.",
         "7.00%",
         "70.0"
        ],
        [
         "1074",
         "Autumnation (2013)",
         "Sixpoint Craft Ales",
         "Brooklyn, NY",
         "American IPA",
         "16 oz.",
         "6.70%",
         "74.0"
        ],
        [
         "1267",
         "The Crisp",
         "Sixpoint Craft Ales",
         "Brooklyn, NY",
         "German Pilsener",
         "16 oz.",
         "5.40%",
         "42.0"
        ],
        [
         "1268",
         "Sweet Action",
         "Sixpoint Craft Ales",
         "Brooklyn, NY",
         "Cream Ale",
         "16 oz.",
         "5.20%",
         "34.0"
        ],
        [
         "1269",
         "Righteous Ale",
         "Sixpoint Craft Ales",
         "Brooklyn, NY",
         "Rye Beer",
         "16 oz.",
         "6.30%",
         "57.0"
        ],
        [
         "1270",
         "Bengali Tiger",
         "Sixpoint Craft Ales",
         "Brooklyn, NY",
         "American IPA",
         "16 oz.",
         "6.40%",
         "62.0"
        ],
        [
         "1624",
         "3Beans",
         "Sixpoint Craft Ales",
         "Brooklyn, NY",
         "Baltic Porter",
         "12 oz.",
         "9.90%",
         "85.0"
        ],
        [
         "1836",
         "Brownstone",
         "Sixpoint Craft Ales",
         "Brooklyn, NY",
         "American Brown Ale",
         "16 oz.",
         "5.90%",
         "47.0"
        ],
        [
         "1970",
         "Apollo",
         "Sixpoint Craft Ales",
         "Brooklyn, NY",
         "American Pale Wheat Ale",
         "16 oz.",
         "5.20%",
         "11.0"
        ],
        [
         "1971",
         "Harbinger",
         "Sixpoint Craft Ales",
         "Brooklyn, NY",
         "Saison / Farmhouse Ale",
         "16 oz.",
         "4.90%",
         "35.0"
        ],
        [
         "1972",
         "Resin",
         "Sixpoint Craft Ales",
         "Brooklyn, NY",
         "American Double / Imperial IPA",
         "12 oz.",
         "9.10%",
         "103.0"
        ],
        [
         "2062",
         "Diesel",
         "Sixpoint Craft Ales",
         "Brooklyn, NY",
         "American Stout",
         "16 oz.",
         "6.30%",
         "69.0"
        ],
        [
         "2074",
         "Autumnation (2011-12) (2011)",
         "Sixpoint Craft Ales",
         "Brooklyn, NY",
         "Pumpkin Ale",
         "16 oz.",
         "6.00%",
         "48.0"
        ],
        [
         "2140",
         "The Crisp (2011)",
         "Sixpoint Craft Ales",
         "Brooklyn, NY",
         "German Pilsener",
         "16 oz.",
         "5.40%",
         "42.0"
        ],
        [
         "2141",
         "Sweet Action (2011)",
         "Sixpoint Craft Ales",
         "Brooklyn, NY",
         "Cream Ale",
         "16 oz.",
         "5.20%",
         "34.0"
        ],
        [
         "2142",
         "Righteous Ale (2011)",
         "Sixpoint Craft Ales",
         "Brooklyn, NY",
         "Rye Beer",
         "16 oz.",
         "6.30%",
         "57.0"
        ],
        [
         "2143",
         "Bengali Tiger (2011)",
         "Sixpoint Craft Ales",
         "Brooklyn, NY",
         "American IPA",
         "16 oz.",
         "6.40%",
         "62.0"
        ]
       ],
       "shape": {
        "columns": 7,
        "rows": 24
       }
      },
      "text/html": [
       "<div>\n",
       "<style scoped>\n",
       "    .dataframe tbody tr th:only-of-type {\n",
       "        vertical-align: middle;\n",
       "    }\n",
       "\n",
       "    .dataframe tbody tr th {\n",
       "        vertical-align: top;\n",
       "    }\n",
       "\n",
       "    .dataframe thead th {\n",
       "        text-align: right;\n",
       "    }\n",
       "</style>\n",
       "<table border=\"1\" class=\"dataframe\">\n",
       "  <thead>\n",
       "    <tr style=\"text-align: right;\">\n",
       "      <th></th>\n",
       "      <th>Beer</th>\n",
       "      <th>Brewery</th>\n",
       "      <th>Location</th>\n",
       "      <th>Style</th>\n",
       "      <th>Size</th>\n",
       "      <th>ABV</th>\n",
       "      <th>IBUs</th>\n",
       "    </tr>\n",
       "  </thead>\n",
       "  <tbody>\n",
       "    <tr>\n",
       "      <th>115</th>\n",
       "      <td>4Beans</td>\n",
       "      <td>Sixpoint Craft Ales</td>\n",
       "      <td>Brooklyn, NY</td>\n",
       "      <td>Baltic Porter</td>\n",
       "      <td>12 oz.</td>\n",
       "      <td>10.00%</td>\n",
       "      <td>52.0</td>\n",
       "    </tr>\n",
       "    <tr>\n",
       "      <th>210</th>\n",
       "      <td>Jammer</td>\n",
       "      <td>Sixpoint Craft Ales</td>\n",
       "      <td>Brooklyn, NY</td>\n",
       "      <td>Gose</td>\n",
       "      <td>12 oz. Slimline</td>\n",
       "      <td>4.20%</td>\n",
       "      <td>16.0</td>\n",
       "    </tr>\n",
       "    <tr>\n",
       "      <th>246</th>\n",
       "      <td>Abigale</td>\n",
       "      <td>Sixpoint Craft Ales</td>\n",
       "      <td>Brooklyn, NY</td>\n",
       "      <td>Belgian Pale Ale</td>\n",
       "      <td>12 oz.</td>\n",
       "      <td>8.00%</td>\n",
       "      <td>NaN</td>\n",
       "    </tr>\n",
       "    <tr>\n",
       "      <th>421</th>\n",
       "      <td>Rad</td>\n",
       "      <td>Sixpoint Craft Ales</td>\n",
       "      <td>Brooklyn, NY</td>\n",
       "      <td>Fruit / Vegetable Beer</td>\n",
       "      <td>16 oz.</td>\n",
       "      <td>3.20%</td>\n",
       "      <td>7.0</td>\n",
       "    </tr>\n",
       "    <tr>\n",
       "      <th>588</th>\n",
       "      <td>Bengali</td>\n",
       "      <td>Sixpoint Craft Ales</td>\n",
       "      <td>Brooklyn, NY</td>\n",
       "      <td>American IPA</td>\n",
       "      <td>24 oz. \"Silo Can\"</td>\n",
       "      <td>6.50%</td>\n",
       "      <td>62.0</td>\n",
       "    </tr>\n",
       "    <tr>\n",
       "      <th>713</th>\n",
       "      <td>Sensi Harvest</td>\n",
       "      <td>Sixpoint Craft Ales</td>\n",
       "      <td>Brooklyn, NY</td>\n",
       "      <td>American Pale Ale (APA)</td>\n",
       "      <td>12 oz.</td>\n",
       "      <td>4.70%</td>\n",
       "      <td>50.0</td>\n",
       "    </tr>\n",
       "    <tr>\n",
       "      <th>969</th>\n",
       "      <td>Hi-Res</td>\n",
       "      <td>Sixpoint Craft Ales</td>\n",
       "      <td>Brooklyn, NY</td>\n",
       "      <td>American Double / Imperial IPA</td>\n",
       "      <td>12 oz.</td>\n",
       "      <td>9.90%</td>\n",
       "      <td>111.0</td>\n",
       "    </tr>\n",
       "    <tr>\n",
       "      <th>1057</th>\n",
       "      <td>Global Warmer</td>\n",
       "      <td>Sixpoint Craft Ales</td>\n",
       "      <td>Brooklyn, NY</td>\n",
       "      <td>American Strong Ale</td>\n",
       "      <td>12 oz.</td>\n",
       "      <td>7.00%</td>\n",
       "      <td>70.0</td>\n",
       "    </tr>\n",
       "    <tr>\n",
       "      <th>1074</th>\n",
       "      <td>Autumnation (2013)</td>\n",
       "      <td>Sixpoint Craft Ales</td>\n",
       "      <td>Brooklyn, NY</td>\n",
       "      <td>American IPA</td>\n",
       "      <td>16 oz.</td>\n",
       "      <td>6.70%</td>\n",
       "      <td>74.0</td>\n",
       "    </tr>\n",
       "    <tr>\n",
       "      <th>1267</th>\n",
       "      <td>The Crisp</td>\n",
       "      <td>Sixpoint Craft Ales</td>\n",
       "      <td>Brooklyn, NY</td>\n",
       "      <td>German Pilsener</td>\n",
       "      <td>16 oz.</td>\n",
       "      <td>5.40%</td>\n",
       "      <td>42.0</td>\n",
       "    </tr>\n",
       "    <tr>\n",
       "      <th>1268</th>\n",
       "      <td>Sweet Action</td>\n",
       "      <td>Sixpoint Craft Ales</td>\n",
       "      <td>Brooklyn, NY</td>\n",
       "      <td>Cream Ale</td>\n",
       "      <td>16 oz.</td>\n",
       "      <td>5.20%</td>\n",
       "      <td>34.0</td>\n",
       "    </tr>\n",
       "    <tr>\n",
       "      <th>1269</th>\n",
       "      <td>Righteous Ale</td>\n",
       "      <td>Sixpoint Craft Ales</td>\n",
       "      <td>Brooklyn, NY</td>\n",
       "      <td>Rye Beer</td>\n",
       "      <td>16 oz.</td>\n",
       "      <td>6.30%</td>\n",
       "      <td>57.0</td>\n",
       "    </tr>\n",
       "    <tr>\n",
       "      <th>1270</th>\n",
       "      <td>Bengali Tiger</td>\n",
       "      <td>Sixpoint Craft Ales</td>\n",
       "      <td>Brooklyn, NY</td>\n",
       "      <td>American IPA</td>\n",
       "      <td>16 oz.</td>\n",
       "      <td>6.40%</td>\n",
       "      <td>62.0</td>\n",
       "    </tr>\n",
       "    <tr>\n",
       "      <th>1624</th>\n",
       "      <td>3Beans</td>\n",
       "      <td>Sixpoint Craft Ales</td>\n",
       "      <td>Brooklyn, NY</td>\n",
       "      <td>Baltic Porter</td>\n",
       "      <td>12 oz.</td>\n",
       "      <td>9.90%</td>\n",
       "      <td>85.0</td>\n",
       "    </tr>\n",
       "    <tr>\n",
       "      <th>1836</th>\n",
       "      <td>Brownstone</td>\n",
       "      <td>Sixpoint Craft Ales</td>\n",
       "      <td>Brooklyn, NY</td>\n",
       "      <td>American Brown Ale</td>\n",
       "      <td>16 oz.</td>\n",
       "      <td>5.90%</td>\n",
       "      <td>47.0</td>\n",
       "    </tr>\n",
       "    <tr>\n",
       "      <th>1970</th>\n",
       "      <td>Apollo</td>\n",
       "      <td>Sixpoint Craft Ales</td>\n",
       "      <td>Brooklyn, NY</td>\n",
       "      <td>American Pale Wheat Ale</td>\n",
       "      <td>16 oz.</td>\n",
       "      <td>5.20%</td>\n",
       "      <td>11.0</td>\n",
       "    </tr>\n",
       "    <tr>\n",
       "      <th>1971</th>\n",
       "      <td>Harbinger</td>\n",
       "      <td>Sixpoint Craft Ales</td>\n",
       "      <td>Brooklyn, NY</td>\n",
       "      <td>Saison / Farmhouse Ale</td>\n",
       "      <td>16 oz.</td>\n",
       "      <td>4.90%</td>\n",
       "      <td>35.0</td>\n",
       "    </tr>\n",
       "    <tr>\n",
       "      <th>1972</th>\n",
       "      <td>Resin</td>\n",
       "      <td>Sixpoint Craft Ales</td>\n",
       "      <td>Brooklyn, NY</td>\n",
       "      <td>American Double / Imperial IPA</td>\n",
       "      <td>12 oz.</td>\n",
       "      <td>9.10%</td>\n",
       "      <td>103.0</td>\n",
       "    </tr>\n",
       "    <tr>\n",
       "      <th>2062</th>\n",
       "      <td>Diesel</td>\n",
       "      <td>Sixpoint Craft Ales</td>\n",
       "      <td>Brooklyn, NY</td>\n",
       "      <td>American Stout</td>\n",
       "      <td>16 oz.</td>\n",
       "      <td>6.30%</td>\n",
       "      <td>69.0</td>\n",
       "    </tr>\n",
       "    <tr>\n",
       "      <th>2074</th>\n",
       "      <td>Autumnation (2011-12) (2011)</td>\n",
       "      <td>Sixpoint Craft Ales</td>\n",
       "      <td>Brooklyn, NY</td>\n",
       "      <td>Pumpkin Ale</td>\n",
       "      <td>16 oz.</td>\n",
       "      <td>6.00%</td>\n",
       "      <td>48.0</td>\n",
       "    </tr>\n",
       "    <tr>\n",
       "      <th>2140</th>\n",
       "      <td>The Crisp (2011)</td>\n",
       "      <td>Sixpoint Craft Ales</td>\n",
       "      <td>Brooklyn, NY</td>\n",
       "      <td>German Pilsener</td>\n",
       "      <td>16 oz.</td>\n",
       "      <td>5.40%</td>\n",
       "      <td>42.0</td>\n",
       "    </tr>\n",
       "    <tr>\n",
       "      <th>2141</th>\n",
       "      <td>Sweet Action (2011)</td>\n",
       "      <td>Sixpoint Craft Ales</td>\n",
       "      <td>Brooklyn, NY</td>\n",
       "      <td>Cream Ale</td>\n",
       "      <td>16 oz.</td>\n",
       "      <td>5.20%</td>\n",
       "      <td>34.0</td>\n",
       "    </tr>\n",
       "    <tr>\n",
       "      <th>2142</th>\n",
       "      <td>Righteous Ale (2011)</td>\n",
       "      <td>Sixpoint Craft Ales</td>\n",
       "      <td>Brooklyn, NY</td>\n",
       "      <td>Rye Beer</td>\n",
       "      <td>16 oz.</td>\n",
       "      <td>6.30%</td>\n",
       "      <td>57.0</td>\n",
       "    </tr>\n",
       "    <tr>\n",
       "      <th>2143</th>\n",
       "      <td>Bengali Tiger (2011)</td>\n",
       "      <td>Sixpoint Craft Ales</td>\n",
       "      <td>Brooklyn, NY</td>\n",
       "      <td>American IPA</td>\n",
       "      <td>16 oz.</td>\n",
       "      <td>6.40%</td>\n",
       "      <td>62.0</td>\n",
       "    </tr>\n",
       "  </tbody>\n",
       "</table>\n",
       "</div>"
      ],
      "text/plain": [
       "                              Beer              Brewery      Location  \\\n",
       "115                         4Beans  Sixpoint Craft Ales  Brooklyn, NY   \n",
       "210                         Jammer  Sixpoint Craft Ales  Brooklyn, NY   \n",
       "246                        Abigale  Sixpoint Craft Ales  Brooklyn, NY   \n",
       "421                            Rad  Sixpoint Craft Ales  Brooklyn, NY   \n",
       "588                        Bengali  Sixpoint Craft Ales  Brooklyn, NY   \n",
       "713                  Sensi Harvest  Sixpoint Craft Ales  Brooklyn, NY   \n",
       "969                         Hi-Res  Sixpoint Craft Ales  Brooklyn, NY   \n",
       "1057                 Global Warmer  Sixpoint Craft Ales  Brooklyn, NY   \n",
       "1074            Autumnation (2013)  Sixpoint Craft Ales  Brooklyn, NY   \n",
       "1267                     The Crisp  Sixpoint Craft Ales  Brooklyn, NY   \n",
       "1268                  Sweet Action  Sixpoint Craft Ales  Brooklyn, NY   \n",
       "1269                 Righteous Ale  Sixpoint Craft Ales  Brooklyn, NY   \n",
       "1270                 Bengali Tiger  Sixpoint Craft Ales  Brooklyn, NY   \n",
       "1624                        3Beans  Sixpoint Craft Ales  Brooklyn, NY   \n",
       "1836                    Brownstone  Sixpoint Craft Ales  Brooklyn, NY   \n",
       "1970                        Apollo  Sixpoint Craft Ales  Brooklyn, NY   \n",
       "1971                     Harbinger  Sixpoint Craft Ales  Brooklyn, NY   \n",
       "1972                         Resin  Sixpoint Craft Ales  Brooklyn, NY   \n",
       "2062                        Diesel  Sixpoint Craft Ales  Brooklyn, NY   \n",
       "2074  Autumnation (2011-12) (2011)  Sixpoint Craft Ales  Brooklyn, NY   \n",
       "2140              The Crisp (2011)  Sixpoint Craft Ales  Brooklyn, NY   \n",
       "2141           Sweet Action (2011)  Sixpoint Craft Ales  Brooklyn, NY   \n",
       "2142          Righteous Ale (2011)  Sixpoint Craft Ales  Brooklyn, NY   \n",
       "2143          Bengali Tiger (2011)  Sixpoint Craft Ales  Brooklyn, NY   \n",
       "\n",
       "                               Style               Size     ABV   IBUs  \n",
       "115                    Baltic Porter             12 oz.  10.00%   52.0  \n",
       "210                             Gose    12 oz. Slimline   4.20%   16.0  \n",
       "246                 Belgian Pale Ale             12 oz.   8.00%    NaN  \n",
       "421           Fruit / Vegetable Beer             16 oz.   3.20%    7.0  \n",
       "588                     American IPA  24 oz. \"Silo Can\"   6.50%   62.0  \n",
       "713          American Pale Ale (APA)             12 oz.   4.70%   50.0  \n",
       "969   American Double / Imperial IPA             12 oz.   9.90%  111.0  \n",
       "1057             American Strong Ale             12 oz.   7.00%   70.0  \n",
       "1074                    American IPA             16 oz.   6.70%   74.0  \n",
       "1267                 German Pilsener             16 oz.   5.40%   42.0  \n",
       "1268                       Cream Ale             16 oz.   5.20%   34.0  \n",
       "1269                        Rye Beer             16 oz.   6.30%   57.0  \n",
       "1270                    American IPA             16 oz.   6.40%   62.0  \n",
       "1624                   Baltic Porter             12 oz.   9.90%   85.0  \n",
       "1836              American Brown Ale             16 oz.   5.90%   47.0  \n",
       "1970         American Pale Wheat Ale             16 oz.   5.20%   11.0  \n",
       "1971          Saison / Farmhouse Ale             16 oz.   4.90%   35.0  \n",
       "1972  American Double / Imperial IPA             12 oz.   9.10%  103.0  \n",
       "2062                  American Stout             16 oz.   6.30%   69.0  \n",
       "2074                     Pumpkin Ale             16 oz.   6.00%   48.0  \n",
       "2140                 German Pilsener             16 oz.   5.40%   42.0  \n",
       "2141                       Cream Ale             16 oz.   5.20%   34.0  \n",
       "2142                        Rye Beer             16 oz.   6.30%   57.0  \n",
       "2143                    American IPA             16 oz.   6.40%   62.0  "
      ]
     },
     "execution_count": 5,
     "metadata": {},
     "output_type": "execute_result"
    }
   ],
   "source": [
    "df[df['Brewery'] == \"Sixpoint Craft Ales\"]"
   ]
  },
  {
   "cell_type": "code",
   "execution_count": 6,
   "metadata": {},
   "outputs": [
    {
     "data": {
      "application/vnd.microsoft.datawrangler.viewer.v0+json": {
       "columns": [
        {
         "name": "index",
         "rawType": "int64",
         "type": "integer"
        },
        {
         "name": "Brewery",
         "rawType": "object",
         "type": "string"
        },
        {
         "name": "nb",
         "rawType": "int64",
         "type": "integer"
        }
       ],
       "ref": "670959e4-88ec-495e-b4c8-074a17acfb9e",
       "rows": [
        [
         "94",
         "Brewery Vivant",
         "62"
        ],
        [
         "367",
         "Oskar Blues Brewery",
         "46"
        ],
        [
         "466",
         "Sun King Brewing Company",
         "38"
        ],
        [
         "133",
         "Cigar City Brewing Company",
         "25"
        ],
        [
         "437",
         "Sixpoint Craft Ales",
         "24"
        ],
        [
         "255",
         "Hopworks Urban Brewery",
         "23"
        ],
        [
         "459",
         "Stevens Point Brewery",
         "22"
        ],
        [
         "3",
         "21st Amendment Brewery",
         "20"
        ],
        [
         "225",
         "Great Crescent Brewery",
         "20"
        ],
        [
         "81",
         "Bonfire Brewing Company",
         "19"
        ]
       ],
       "shape": {
        "columns": 2,
        "rows": 10
       }
      },
      "text/html": [
       "<div>\n",
       "<style scoped>\n",
       "    .dataframe tbody tr th:only-of-type {\n",
       "        vertical-align: middle;\n",
       "    }\n",
       "\n",
       "    .dataframe tbody tr th {\n",
       "        vertical-align: top;\n",
       "    }\n",
       "\n",
       "    .dataframe thead th {\n",
       "        text-align: right;\n",
       "    }\n",
       "</style>\n",
       "<table border=\"1\" class=\"dataframe\">\n",
       "  <thead>\n",
       "    <tr style=\"text-align: right;\">\n",
       "      <th></th>\n",
       "      <th>Brewery</th>\n",
       "      <th>nb</th>\n",
       "    </tr>\n",
       "  </thead>\n",
       "  <tbody>\n",
       "    <tr>\n",
       "      <th>94</th>\n",
       "      <td>Brewery Vivant</td>\n",
       "      <td>62</td>\n",
       "    </tr>\n",
       "    <tr>\n",
       "      <th>367</th>\n",
       "      <td>Oskar Blues Brewery</td>\n",
       "      <td>46</td>\n",
       "    </tr>\n",
       "    <tr>\n",
       "      <th>466</th>\n",
       "      <td>Sun King Brewing Company</td>\n",
       "      <td>38</td>\n",
       "    </tr>\n",
       "    <tr>\n",
       "      <th>133</th>\n",
       "      <td>Cigar City Brewing Company</td>\n",
       "      <td>25</td>\n",
       "    </tr>\n",
       "    <tr>\n",
       "      <th>437</th>\n",
       "      <td>Sixpoint Craft Ales</td>\n",
       "      <td>24</td>\n",
       "    </tr>\n",
       "    <tr>\n",
       "      <th>255</th>\n",
       "      <td>Hopworks Urban Brewery</td>\n",
       "      <td>23</td>\n",
       "    </tr>\n",
       "    <tr>\n",
       "      <th>459</th>\n",
       "      <td>Stevens Point Brewery</td>\n",
       "      <td>22</td>\n",
       "    </tr>\n",
       "    <tr>\n",
       "      <th>3</th>\n",
       "      <td>21st Amendment Brewery</td>\n",
       "      <td>20</td>\n",
       "    </tr>\n",
       "    <tr>\n",
       "      <th>225</th>\n",
       "      <td>Great Crescent Brewery</td>\n",
       "      <td>20</td>\n",
       "    </tr>\n",
       "    <tr>\n",
       "      <th>81</th>\n",
       "      <td>Bonfire Brewing Company</td>\n",
       "      <td>19</td>\n",
       "    </tr>\n",
       "  </tbody>\n",
       "</table>\n",
       "</div>"
      ],
      "text/plain": [
       "                        Brewery  nb\n",
       "94               Brewery Vivant  62\n",
       "367         Oskar Blues Brewery  46\n",
       "466    Sun King Brewing Company  38\n",
       "133  Cigar City Brewing Company  25\n",
       "437         Sixpoint Craft Ales  24\n",
       "255      Hopworks Urban Brewery  23\n",
       "459       Stevens Point Brewery  22\n",
       "3        21st Amendment Brewery  20\n",
       "225      Great Crescent Brewery  20\n",
       "81      Bonfire Brewing Company  19"
      ]
     },
     "execution_count": 6,
     "metadata": {},
     "output_type": "execute_result"
    }
   ],
   "source": [
    "(df.groupby(\"Brewery\")\n",
    "    .size()\n",
    "    .reset_index(name=\"nb\")\n",
    "    .sort_values(\"nb\", ascending=False)\n",
    "    .head(n =10)\n",
    ")"
   ]
  },
  {
   "cell_type": "markdown",
   "metadata": {},
   "source": [
    "## What is the most common ABV? (alcohol by volume)"
   ]
  },
  {
   "cell_type": "code",
   "execution_count": 7,
   "metadata": {},
   "outputs": [
    {
     "data": {
      "application/vnd.microsoft.datawrangler.viewer.v0+json": {
       "columns": [
        {
         "name": "index",
         "rawType": "int64",
         "type": "integer"
        },
        {
         "name": "ABV",
         "rawType": "object",
         "type": "string"
        }
       ],
       "ref": "8cf90260-5f34-4884-b97b-bcedcb9b1905",
       "rows": [
        [
         "0",
         "5.00%"
        ]
       ],
       "shape": {
        "columns": 1,
        "rows": 1
       }
      },
      "text/plain": [
       "0    5.00%\n",
       "Name: ABV, dtype: object"
      ]
     },
     "execution_count": 7,
     "metadata": {},
     "output_type": "execute_result"
    }
   ],
   "source": [
    "# \"common\" is ambiguous could be the mode\n",
    "df['ABV'].mode()"
   ]
  },
  {
   "cell_type": "markdown",
   "metadata": {},
   "source": [
    "## Oh, weird, ABV isn't a number. Convert it to a number for me, please.\n",
    "\n",
    "It's going to take a few steps!\n",
    "\n",
    "### First, let's just look at the ABV column by itself"
   ]
  },
  {
   "cell_type": "code",
   "execution_count": 8,
   "metadata": {},
   "outputs": [
    {
     "data": {
      "application/vnd.microsoft.datawrangler.viewer.v0+json": {
       "columns": [
        {
         "name": "index",
         "rawType": "int64",
         "type": "integer"
        },
        {
         "name": "ABV",
         "rawType": "object",
         "type": "unknown"
        }
       ],
       "ref": "e26c9daf-bcf2-4e8b-bc4d-af64843b987a",
       "rows": [
        [
         "0",
         "4.50%"
        ],
        [
         "1",
         "4.90%"
        ],
        [
         "2",
         "4.80%"
        ],
        [
         "3",
         "6.00%"
        ],
        [
         "4",
         "6.00%"
        ],
        [
         "5",
         "5.60%"
        ],
        [
         "6",
         "8.00%"
        ],
        [
         "7",
         "12.50%"
        ],
        [
         "8",
         "7.70%"
        ],
        [
         "9",
         "4.20%"
        ],
        [
         "10",
         "5.00%"
        ],
        [
         "11",
         "6.60%"
        ],
        [
         "12",
         "4.00%"
        ],
        [
         "13",
         "5.50%"
        ],
        [
         "14",
         "7.60%"
        ],
        [
         "15",
         "5.10%"
        ],
        [
         "16",
         "6.50%"
        ],
        [
         "17",
         "6.00%"
        ],
        [
         "18",
         "5.00%"
        ],
        [
         "19",
         "5.20%"
        ],
        [
         "20",
         "4.80%"
        ],
        [
         "21",
         "7.20%"
        ],
        [
         "22",
         "6.70%"
        ],
        [
         "23",
         "4.90%"
        ],
        [
         "24",
         "8.00%"
        ],
        [
         "25",
         "7.50%"
        ],
        [
         "26",
         "6.00%"
        ],
        [
         "27",
         "8.00%"
        ],
        [
         "28",
         "6.30%"
        ],
        [
         "29",
         "5.80%"
        ],
        [
         "30",
         "4.70%"
        ],
        [
         "31",
         "5.60%"
        ],
        [
         "32",
         "4.60%"
        ],
        [
         "33",
         "6.30%"
        ],
        [
         "34",
         "9.30%"
        ],
        [
         "35",
         "6.20%"
        ],
        [
         "36",
         "6.00%"
        ],
        [
         "37",
         "4.80%"
        ],
        [
         "38",
         "7.70%"
        ],
        [
         "39",
         "9.70%"
        ],
        [
         "40",
         "5.00%"
        ],
        [
         "41",
         "8.70%"
        ],
        [
         "42",
         "6.10%"
        ],
        [
         "43",
         "7.10%"
        ],
        [
         "44",
         "8.30%"
        ],
        [
         "45",
         "5.00%"
        ],
        [
         "46",
         "9.50%"
        ],
        [
         "47",
         "7.30%"
        ],
        [
         "48",
         "7.10%"
        ],
        [
         "49",
         "6.50%"
        ]
       ],
       "shape": {
        "columns": 1,
        "rows": 2416
       }
      },
      "text/plain": [
       "0       4.50%\n",
       "1       4.90%\n",
       "2       4.80%\n",
       "3       6.00%\n",
       "4       6.00%\n",
       "        ...  \n",
       "2411    5.30%\n",
       "2412    9.90%\n",
       "2413    8.00%\n",
       "2414    8.70%\n",
       "2415    6.50%\n",
       "Name: ABV, Length: 2416, dtype: object"
      ]
     },
     "execution_count": 8,
     "metadata": {},
     "output_type": "execute_result"
    }
   ],
   "source": [
    "df['ABV']"
   ]
  },
  {
   "cell_type": "markdown",
   "metadata": {},
   "source": [
    "### Hm, `%` isn't part of  a number. Let's remove it.\n",
    "\n",
    "When you're confident you got it right, save the results back into the `ABV` column.\n",
    "\n",
    "- *Tip: In programming the easiest way to remove something is to *replacing it with nothing*.*\n",
    "- *Tip: \"nothing\" might seem like `NaN` sinc we talked about it a lot in class, but in this case it isn't! It's just an empty string, like \"\"*\n",
    "- *Tip: `.replace` is used for replacing ENTIRE cells, while `.str.replace` is useful for replacing PARTS of cells (see my New York example)*"
   ]
  },
  {
   "cell_type": "code",
   "execution_count": 9,
   "metadata": {},
   "outputs": [
    {
     "data": {
      "application/vnd.microsoft.datawrangler.viewer.v0+json": {
       "columns": [
        {
         "name": "index",
         "rawType": "int64",
         "type": "integer"
        },
        {
         "name": "ABV",
         "rawType": "object",
         "type": "unknown"
        }
       ],
       "ref": "1afeb5cc-9600-4504-a28e-610ebdf2f879",
       "rows": [
        [
         "0",
         "4.50"
        ],
        [
         "1",
         "4.90"
        ],
        [
         "2",
         "4.80"
        ],
        [
         "3",
         "6.00"
        ],
        [
         "4",
         "6.00"
        ],
        [
         "5",
         "5.60"
        ],
        [
         "6",
         "8.00"
        ],
        [
         "7",
         "12.50"
        ],
        [
         "8",
         "7.70"
        ],
        [
         "9",
         "4.20"
        ],
        [
         "10",
         "5.00"
        ],
        [
         "11",
         "6.60"
        ],
        [
         "12",
         "4.00"
        ],
        [
         "13",
         "5.50"
        ],
        [
         "14",
         "7.60"
        ],
        [
         "15",
         "5.10"
        ],
        [
         "16",
         "6.50"
        ],
        [
         "17",
         "6.00"
        ],
        [
         "18",
         "5.00"
        ],
        [
         "19",
         "5.20"
        ],
        [
         "20",
         "4.80"
        ],
        [
         "21",
         "7.20"
        ],
        [
         "22",
         "6.70"
        ],
        [
         "23",
         "4.90"
        ],
        [
         "24",
         "8.00"
        ],
        [
         "25",
         "7.50"
        ],
        [
         "26",
         "6.00"
        ],
        [
         "27",
         "8.00"
        ],
        [
         "28",
         "6.30"
        ],
        [
         "29",
         "5.80"
        ],
        [
         "30",
         "4.70"
        ],
        [
         "31",
         "5.60"
        ],
        [
         "32",
         "4.60"
        ],
        [
         "33",
         "6.30"
        ],
        [
         "34",
         "9.30"
        ],
        [
         "35",
         "6.20"
        ],
        [
         "36",
         "6.00"
        ],
        [
         "37",
         "4.80"
        ],
        [
         "38",
         "7.70"
        ],
        [
         "39",
         "9.70"
        ],
        [
         "40",
         "5.00"
        ],
        [
         "41",
         "8.70"
        ],
        [
         "42",
         "6.10"
        ],
        [
         "43",
         "7.10"
        ],
        [
         "44",
         "8.30"
        ],
        [
         "45",
         "5.00"
        ],
        [
         "46",
         "9.50"
        ],
        [
         "47",
         "7.30"
        ],
        [
         "48",
         "7.10"
        ],
        [
         "49",
         "6.50"
        ]
       ],
       "shape": {
        "columns": 1,
        "rows": 2416
       }
      },
      "text/plain": [
       "0       4.50\n",
       "1       4.90\n",
       "2       4.80\n",
       "3       6.00\n",
       "4       6.00\n",
       "        ... \n",
       "2411    5.30\n",
       "2412    9.90\n",
       "2413    8.00\n",
       "2414    8.70\n",
       "2415    6.50\n",
       "Name: ABV, Length: 2416, dtype: object"
      ]
     },
     "execution_count": 9,
     "metadata": {},
     "output_type": "execute_result"
    }
   ],
   "source": [
    "df['ABV'].str.replace(\"%\", \"\")"
   ]
  },
  {
   "cell_type": "markdown",
   "metadata": {},
   "source": [
    "### Now let's turn `ABV` into a numeric data type\n",
    "\n",
    "Save the results back into the `ABV` column (again), and then check `df.dtypes` to make sure it worked.\n",
    "\n",
    "- *Tip: We used `.astype(int)` during class, but this has a decimal in it...*"
   ]
  },
  {
   "cell_type": "code",
   "execution_count": 10,
   "metadata": {},
   "outputs": [],
   "source": [
    "df['ABV'] = df['ABV'].str.replace(\"%\", \"\").astype(float)"
   ]
  },
  {
   "cell_type": "code",
   "execution_count": 11,
   "metadata": {},
   "outputs": [
    {
     "name": "stdout",
     "output_type": "stream",
     "text": [
      "<class 'pandas.core.frame.DataFrame'>\n",
      "RangeIndex: 2416 entries, 0 to 2415\n",
      "Data columns (total 7 columns):\n",
      " #   Column    Non-Null Count  Dtype  \n",
      "---  ------    --------------  -----  \n",
      " 0   Beer      2416 non-null   object \n",
      " 1   Brewery   2410 non-null   object \n",
      " 2   Location  2410 non-null   object \n",
      " 3   Style     2405 non-null   object \n",
      " 4   Size      2410 non-null   object \n",
      " 5   ABV       2348 non-null   float64\n",
      " 6   IBUs      1405 non-null   float64\n",
      "dtypes: float64(2), object(5)\n",
      "memory usage: 132.3+ KB\n"
     ]
    }
   ],
   "source": [
    "df.info()"
   ]
  },
  {
   "cell_type": "markdown",
   "metadata": {},
   "source": [
    "## What's the ABV of the average beer look like?\n",
    "\n",
    "### Show me in two different ways: one command to show the `median`/`mean`/etc, and secondly show me a chart"
   ]
  },
  {
   "cell_type": "code",
   "execution_count": 12,
   "metadata": {},
   "outputs": [
    {
     "data": {
      "text/plain": [
       "np.float64(5.977342419080068)"
      ]
     },
     "execution_count": 12,
     "metadata": {},
     "output_type": "execute_result"
    }
   ],
   "source": [
    "df['ABV'].mean()"
   ]
  },
  {
   "cell_type": "code",
   "execution_count": 13,
   "metadata": {},
   "outputs": [
    {
     "data": {
      "text/plain": [
       "np.float64(5.6)"
      ]
     },
     "execution_count": 13,
     "metadata": {},
     "output_type": "execute_result"
    }
   ],
   "source": [
    "df['ABV'].median()"
   ]
  },
  {
   "cell_type": "markdown",
   "metadata": {},
   "source": [
    "### We don't have ABV for all of the beers, how many are we missing them from?\n",
    "\n",
    "- *Tip: You can use `isnull()` or `notnull()` to see where a column is missing data.*\n",
    "- *Tip: You just want to count how many `True`s and `False`s there are.*\n",
    "- *Tip: What does `.sum()` do when you have trues and falses? What about `.value_counts()`?*"
   ]
  },
  {
   "cell_type": "code",
   "execution_count": 14,
   "metadata": {},
   "outputs": [
    {
     "data": {
      "application/vnd.microsoft.datawrangler.viewer.v0+json": {
       "columns": [
        {
         "name": "ABV",
         "rawType": "bool",
         "type": "boolean"
        },
        {
         "name": "count",
         "rawType": "int64",
         "type": "integer"
        }
       ],
       "ref": "bce6b3a2-9af9-48b9-ab94-28601f6ca883",
       "rows": [
        [
         "False",
         "2348"
        ],
        [
         "True",
         "68"
        ]
       ],
       "shape": {
        "columns": 1,
        "rows": 2
       }
      },
      "text/plain": [
       "ABV\n",
       "False    2348\n",
       "True       68\n",
       "Name: count, dtype: int64"
      ]
     },
     "execution_count": 14,
     "metadata": {},
     "output_type": "execute_result"
    }
   ],
   "source": [
    "df['ABV'].isnull().sum()\n",
    "df['ABV'].notnull().sum()\n",
    "\n",
    "df['ABV'].isnull().value_counts()"
   ]
  },
  {
   "cell_type": "markdown",
   "metadata": {},
   "source": [
    "# Looking at location\n",
    "\n",
    "Brooklyn used to produce 80% of the country's beer! Let's see if it's still true."
   ]
  },
  {
   "cell_type": "markdown",
   "metadata": {},
   "source": [
    "## What are the top 10 cities in the US for canned craft beer?"
   ]
  },
  {
   "cell_type": "code",
   "execution_count": 15,
   "metadata": {},
   "outputs": [
    {
     "data": {
      "application/vnd.microsoft.datawrangler.viewer.v0+json": {
       "columns": [
        {
         "name": "index",
         "rawType": "int64",
         "type": "integer"
        },
        {
         "name": "Location",
         "rawType": "object",
         "type": "string"
        },
        {
         "name": "nb",
         "rawType": "int64",
         "type": "integer"
        }
       ],
       "ref": "cc7dd525-ed61-4518-8702-b3ffa489f9b3",
       "rows": [
        [
         "141",
         "Grand Rapids, MI",
         "66"
        ],
        [
         "73",
         "Chicago, IL",
         "55"
        ],
        [
         "293",
         "Portland, OR",
         "52"
        ],
        [
         "166",
         "Indianapolis, IN",
         "43"
        ],
        [
         "313",
         "San Diego, CA",
         "42"
        ],
        [
         "47",
         "Boulder, CO",
         "41"
        ],
        [
         "96",
         "Denver, CO",
         "40"
        ],
        [
         "55",
         "Brooklyn, NY",
         "38"
        ],
        [
         "320",
         "Seattle, WA",
         "35"
        ],
        [
         "206",
         "Longmont, CO",
         "33"
        ]
       ],
       "shape": {
        "columns": 2,
        "rows": 10
       }
      },
      "text/html": [
       "<div>\n",
       "<style scoped>\n",
       "    .dataframe tbody tr th:only-of-type {\n",
       "        vertical-align: middle;\n",
       "    }\n",
       "\n",
       "    .dataframe tbody tr th {\n",
       "        vertical-align: top;\n",
       "    }\n",
       "\n",
       "    .dataframe thead th {\n",
       "        text-align: right;\n",
       "    }\n",
       "</style>\n",
       "<table border=\"1\" class=\"dataframe\">\n",
       "  <thead>\n",
       "    <tr style=\"text-align: right;\">\n",
       "      <th></th>\n",
       "      <th>Location</th>\n",
       "      <th>nb</th>\n",
       "    </tr>\n",
       "  </thead>\n",
       "  <tbody>\n",
       "    <tr>\n",
       "      <th>141</th>\n",
       "      <td>Grand Rapids, MI</td>\n",
       "      <td>66</td>\n",
       "    </tr>\n",
       "    <tr>\n",
       "      <th>73</th>\n",
       "      <td>Chicago, IL</td>\n",
       "      <td>55</td>\n",
       "    </tr>\n",
       "    <tr>\n",
       "      <th>293</th>\n",
       "      <td>Portland, OR</td>\n",
       "      <td>52</td>\n",
       "    </tr>\n",
       "    <tr>\n",
       "      <th>166</th>\n",
       "      <td>Indianapolis, IN</td>\n",
       "      <td>43</td>\n",
       "    </tr>\n",
       "    <tr>\n",
       "      <th>313</th>\n",
       "      <td>San Diego, CA</td>\n",
       "      <td>42</td>\n",
       "    </tr>\n",
       "    <tr>\n",
       "      <th>47</th>\n",
       "      <td>Boulder, CO</td>\n",
       "      <td>41</td>\n",
       "    </tr>\n",
       "    <tr>\n",
       "      <th>96</th>\n",
       "      <td>Denver, CO</td>\n",
       "      <td>40</td>\n",
       "    </tr>\n",
       "    <tr>\n",
       "      <th>55</th>\n",
       "      <td>Brooklyn, NY</td>\n",
       "      <td>38</td>\n",
       "    </tr>\n",
       "    <tr>\n",
       "      <th>320</th>\n",
       "      <td>Seattle, WA</td>\n",
       "      <td>35</td>\n",
       "    </tr>\n",
       "    <tr>\n",
       "      <th>206</th>\n",
       "      <td>Longmont, CO</td>\n",
       "      <td>33</td>\n",
       "    </tr>\n",
       "  </tbody>\n",
       "</table>\n",
       "</div>"
      ],
      "text/plain": [
       "             Location  nb\n",
       "141  Grand Rapids, MI  66\n",
       "73        Chicago, IL  55\n",
       "293      Portland, OR  52\n",
       "166  Indianapolis, IN  43\n",
       "313     San Diego, CA  42\n",
       "47        Boulder, CO  41\n",
       "96         Denver, CO  40\n",
       "55       Brooklyn, NY  38\n",
       "320       Seattle, WA  35\n",
       "206      Longmont, CO  33"
      ]
     },
     "execution_count": 15,
     "metadata": {},
     "output_type": "execute_result"
    }
   ],
   "source": [
    "(df.groupby(\"Location\")\n",
    "    .size()\n",
    "    .reset_index(name=\"nb\")\n",
    "    .sort_values(\"nb\", ascending=False)\n",
    "    .head(n =10)\n",
    ")"
   ]
  },
  {
   "cell_type": "markdown",
   "metadata": {},
   "source": [
    "## List all of the beer from Brooklyn, NY"
   ]
  },
  {
   "cell_type": "code",
   "execution_count": 16,
   "metadata": {},
   "outputs": [
    {
     "data": {
      "application/vnd.microsoft.datawrangler.viewer.v0+json": {
       "columns": [
        {
         "name": "index",
         "rawType": "int64",
         "type": "integer"
        },
        {
         "name": "Beer",
         "rawType": "object",
         "type": "string"
        },
        {
         "name": "Brewery",
         "rawType": "object",
         "type": "string"
        },
        {
         "name": "Location",
         "rawType": "object",
         "type": "string"
        },
        {
         "name": "Style",
         "rawType": "object",
         "type": "string"
        },
        {
         "name": "Size",
         "rawType": "object",
         "type": "string"
        },
        {
         "name": "ABV",
         "rawType": "float64",
         "type": "float"
        },
        {
         "name": "IBUs",
         "rawType": "float64",
         "type": "float"
        }
       ],
       "ref": "e74b4c4d-8c5d-41b1-885d-5453884f62fe",
       "rows": [
        [
         "115",
         "4Beans",
         "Sixpoint Craft Ales",
         "Brooklyn, NY",
         "Baltic Porter",
         "12 oz.",
         "10.0",
         "52.0"
        ],
        [
         "210",
         "Jammer",
         "Sixpoint Craft Ales",
         "Brooklyn, NY",
         "Gose",
         "12 oz. Slimline",
         "4.2",
         "16.0"
        ],
        [
         "246",
         "Abigale",
         "Sixpoint Craft Ales",
         "Brooklyn, NY",
         "Belgian Pale Ale",
         "12 oz.",
         "8.0",
         null
        ],
        [
         "404",
         "Nomader Weiss",
         "Evil Twin Brewing",
         "Brooklyn, NY",
         "Berliner Weissbier",
         "12 oz.",
         "4.0",
         null
        ],
        [
         "421",
         "Rad",
         "Sixpoint Craft Ales",
         "Brooklyn, NY",
         "Fruit / Vegetable Beer",
         "16 oz.",
         "3.2",
         "7.0"
        ],
        [
         "439",
         "Molotov Lite",
         "Evil Twin Brewing",
         "Brooklyn, NY",
         "American Double / Imperial IPA",
         "16 oz.",
         "8.5",
         null
        ],
        [
         "588",
         "Bengali",
         "Sixpoint Craft Ales",
         "Brooklyn, NY",
         "American IPA",
         "24 oz. \"Silo Can\"",
         "6.5",
         "62.0"
        ],
        [
         "713",
         "Sensi Harvest",
         "Sixpoint Craft Ales",
         "Brooklyn, NY",
         "American Pale Ale (APA)",
         "12 oz.",
         "4.7",
         "50.0"
        ],
        [
         "969",
         "Hi-Res",
         "Sixpoint Craft Ales",
         "Brooklyn, NY",
         "American Double / Imperial IPA",
         "12 oz.",
         "9.9",
         "111.0"
        ],
        [
         "987",
         "KelSo Nut Brown Lager",
         "KelSo Beer Company",
         "Brooklyn, NY",
         "Euro Dark Lager",
         "12 oz.",
         "5.7",
         "19.0"
        ],
        [
         "1057",
         "Global Warmer",
         "Sixpoint Craft Ales",
         "Brooklyn, NY",
         "American Strong Ale",
         "12 oz.",
         "7.0",
         "70.0"
        ],
        [
         "1074",
         "Autumnation (2013)",
         "Sixpoint Craft Ales",
         "Brooklyn, NY",
         "American IPA",
         "16 oz.",
         "6.7",
         "74.0"
        ],
        [
         "1093",
         "KelSo India Pale Ale",
         "KelSo Beer Company",
         "Brooklyn, NY",
         "American IPA",
         "12 oz.",
         "6.0",
         "64.0"
        ],
        [
         "1267",
         "The Crisp",
         "Sixpoint Craft Ales",
         "Brooklyn, NY",
         "German Pilsener",
         "16 oz.",
         "5.4",
         "42.0"
        ],
        [
         "1268",
         "Sweet Action",
         "Sixpoint Craft Ales",
         "Brooklyn, NY",
         "Cream Ale",
         "16 oz.",
         "5.2",
         "34.0"
        ],
        [
         "1269",
         "Righteous Ale",
         "Sixpoint Craft Ales",
         "Brooklyn, NY",
         "Rye Beer",
         "16 oz.",
         "6.3",
         "57.0"
        ],
        [
         "1270",
         "Bengali Tiger",
         "Sixpoint Craft Ales",
         "Brooklyn, NY",
         "American IPA",
         "16 oz.",
         "6.4",
         "62.0"
        ],
        [
         "1305",
         "KelSo Pilsner",
         "KelSo Beer Company",
         "Brooklyn, NY",
         "Czech Pilsener",
         "12 oz.",
         "5.5",
         "23.0"
        ],
        [
         "1365",
         "Hipster Ale (Two Roads Brewing)",
         "Evil Twin Brewing",
         "Brooklyn, NY",
         "American Pale Ale (APA)",
         "12 oz.",
         "5.5",
         null
        ],
        [
         "1366",
         "Bikini Beer",
         "Evil Twin Brewing",
         "Brooklyn, NY",
         "American IPA",
         "12 oz.",
         "2.7",
         null
        ],
        [
         "1373",
         "East India Pale Ale",
         "Brooklyn Brewery",
         "Brooklyn, NY",
         "English India Pale Ale (IPA)",
         "16 oz.",
         "6.8",
         "47.0"
        ],
        [
         "1624",
         "3Beans",
         "Sixpoint Craft Ales",
         "Brooklyn, NY",
         "Baltic Porter",
         "12 oz.",
         "9.9",
         "85.0"
        ],
        [
         "1836",
         "Brownstone",
         "Sixpoint Craft Ales",
         "Brooklyn, NY",
         "American Brown Ale",
         "16 oz.",
         "5.9",
         "47.0"
        ],
        [
         "1857",
         "Brooklyn Summer Ale",
         "Brooklyn Brewery",
         "Brooklyn, NY",
         "English Pale Mild Ale",
         "12 oz.",
         "4.5",
         null
        ],
        [
         "1962",
         "Hipster Ale (Westbrook Brewing)",
         "Evil Twin Brewing",
         "Brooklyn, NY",
         "American Pale Ale (APA)",
         "12 oz.",
         "5.5",
         null
        ],
        [
         "1970",
         "Apollo",
         "Sixpoint Craft Ales",
         "Brooklyn, NY",
         "American Pale Wheat Ale",
         "16 oz.",
         "5.2",
         "11.0"
        ],
        [
         "1971",
         "Harbinger",
         "Sixpoint Craft Ales",
         "Brooklyn, NY",
         "Saison / Farmhouse Ale",
         "16 oz.",
         "4.9",
         "35.0"
        ],
        [
         "1972",
         "Resin",
         "Sixpoint Craft Ales",
         "Brooklyn, NY",
         "American Double / Imperial IPA",
         "12 oz.",
         "9.1",
         "103.0"
        ],
        [
         "2027",
         "East India Pale Ale",
         "Brooklyn Brewery",
         "Brooklyn, NY",
         "English India Pale Ale (IPA)",
         "12 oz.",
         "6.8",
         "47.0"
        ],
        [
         "2062",
         "Diesel",
         "Sixpoint Craft Ales",
         "Brooklyn, NY",
         "American Stout",
         "16 oz.",
         "6.3",
         "69.0"
        ],
        [
         "2074",
         "Autumnation (2011-12) (2011)",
         "Sixpoint Craft Ales",
         "Brooklyn, NY",
         "Pumpkin Ale",
         "16 oz.",
         "6.0",
         "48.0"
        ],
        [
         "2140",
         "The Crisp (2011)",
         "Sixpoint Craft Ales",
         "Brooklyn, NY",
         "German Pilsener",
         "16 oz.",
         "5.4",
         "42.0"
        ],
        [
         "2141",
         "Sweet Action (2011)",
         "Sixpoint Craft Ales",
         "Brooklyn, NY",
         "Cream Ale",
         "16 oz.",
         "5.2",
         "34.0"
        ],
        [
         "2142",
         "Righteous Ale (2011)",
         "Sixpoint Craft Ales",
         "Brooklyn, NY",
         "Rye Beer",
         "16 oz.",
         "6.3",
         "57.0"
        ],
        [
         "2143",
         "Bengali Tiger (2011)",
         "Sixpoint Craft Ales",
         "Brooklyn, NY",
         "American IPA",
         "16 oz.",
         "6.4",
         "62.0"
        ],
        [
         "2219",
         "Brooklyn Summer Ale (2011)",
         "Brooklyn Brewery",
         "Brooklyn, NY",
         "English Pale Mild Ale",
         "12 oz.",
         "4.5",
         null
        ],
        [
         "2350",
         "Brooklyn Lager (16 oz.)",
         "Brooklyn Brewery",
         "Brooklyn, NY",
         "American Amber / Red Lager",
         "16 oz.",
         "5.2",
         null
        ],
        [
         "2351",
         "Brooklyn Lager (12 oz.)",
         "Brooklyn Brewery",
         "Brooklyn, NY",
         "American Amber / Red Lager",
         "12 oz.",
         "5.2",
         null
        ]
       ],
       "shape": {
        "columns": 7,
        "rows": 38
       }
      },
      "text/html": [
       "<div>\n",
       "<style scoped>\n",
       "    .dataframe tbody tr th:only-of-type {\n",
       "        vertical-align: middle;\n",
       "    }\n",
       "\n",
       "    .dataframe tbody tr th {\n",
       "        vertical-align: top;\n",
       "    }\n",
       "\n",
       "    .dataframe thead th {\n",
       "        text-align: right;\n",
       "    }\n",
       "</style>\n",
       "<table border=\"1\" class=\"dataframe\">\n",
       "  <thead>\n",
       "    <tr style=\"text-align: right;\">\n",
       "      <th></th>\n",
       "      <th>Beer</th>\n",
       "      <th>Brewery</th>\n",
       "      <th>Location</th>\n",
       "      <th>Style</th>\n",
       "      <th>Size</th>\n",
       "      <th>ABV</th>\n",
       "      <th>IBUs</th>\n",
       "    </tr>\n",
       "  </thead>\n",
       "  <tbody>\n",
       "    <tr>\n",
       "      <th>115</th>\n",
       "      <td>4Beans</td>\n",
       "      <td>Sixpoint Craft Ales</td>\n",
       "      <td>Brooklyn, NY</td>\n",
       "      <td>Baltic Porter</td>\n",
       "      <td>12 oz.</td>\n",
       "      <td>10.0</td>\n",
       "      <td>52.0</td>\n",
       "    </tr>\n",
       "    <tr>\n",
       "      <th>210</th>\n",
       "      <td>Jammer</td>\n",
       "      <td>Sixpoint Craft Ales</td>\n",
       "      <td>Brooklyn, NY</td>\n",
       "      <td>Gose</td>\n",
       "      <td>12 oz. Slimline</td>\n",
       "      <td>4.2</td>\n",
       "      <td>16.0</td>\n",
       "    </tr>\n",
       "    <tr>\n",
       "      <th>246</th>\n",
       "      <td>Abigale</td>\n",
       "      <td>Sixpoint Craft Ales</td>\n",
       "      <td>Brooklyn, NY</td>\n",
       "      <td>Belgian Pale Ale</td>\n",
       "      <td>12 oz.</td>\n",
       "      <td>8.0</td>\n",
       "      <td>NaN</td>\n",
       "    </tr>\n",
       "    <tr>\n",
       "      <th>404</th>\n",
       "      <td>Nomader Weiss</td>\n",
       "      <td>Evil Twin Brewing</td>\n",
       "      <td>Brooklyn, NY</td>\n",
       "      <td>Berliner Weissbier</td>\n",
       "      <td>12 oz.</td>\n",
       "      <td>4.0</td>\n",
       "      <td>NaN</td>\n",
       "    </tr>\n",
       "    <tr>\n",
       "      <th>421</th>\n",
       "      <td>Rad</td>\n",
       "      <td>Sixpoint Craft Ales</td>\n",
       "      <td>Brooklyn, NY</td>\n",
       "      <td>Fruit / Vegetable Beer</td>\n",
       "      <td>16 oz.</td>\n",
       "      <td>3.2</td>\n",
       "      <td>7.0</td>\n",
       "    </tr>\n",
       "    <tr>\n",
       "      <th>439</th>\n",
       "      <td>Molotov Lite</td>\n",
       "      <td>Evil Twin Brewing</td>\n",
       "      <td>Brooklyn, NY</td>\n",
       "      <td>American Double / Imperial IPA</td>\n",
       "      <td>16 oz.</td>\n",
       "      <td>8.5</td>\n",
       "      <td>NaN</td>\n",
       "    </tr>\n",
       "    <tr>\n",
       "      <th>588</th>\n",
       "      <td>Bengali</td>\n",
       "      <td>Sixpoint Craft Ales</td>\n",
       "      <td>Brooklyn, NY</td>\n",
       "      <td>American IPA</td>\n",
       "      <td>24 oz. \"Silo Can\"</td>\n",
       "      <td>6.5</td>\n",
       "      <td>62.0</td>\n",
       "    </tr>\n",
       "    <tr>\n",
       "      <th>713</th>\n",
       "      <td>Sensi Harvest</td>\n",
       "      <td>Sixpoint Craft Ales</td>\n",
       "      <td>Brooklyn, NY</td>\n",
       "      <td>American Pale Ale (APA)</td>\n",
       "      <td>12 oz.</td>\n",
       "      <td>4.7</td>\n",
       "      <td>50.0</td>\n",
       "    </tr>\n",
       "    <tr>\n",
       "      <th>969</th>\n",
       "      <td>Hi-Res</td>\n",
       "      <td>Sixpoint Craft Ales</td>\n",
       "      <td>Brooklyn, NY</td>\n",
       "      <td>American Double / Imperial IPA</td>\n",
       "      <td>12 oz.</td>\n",
       "      <td>9.9</td>\n",
       "      <td>111.0</td>\n",
       "    </tr>\n",
       "    <tr>\n",
       "      <th>987</th>\n",
       "      <td>KelSo Nut Brown Lager</td>\n",
       "      <td>KelSo Beer Company</td>\n",
       "      <td>Brooklyn, NY</td>\n",
       "      <td>Euro Dark Lager</td>\n",
       "      <td>12 oz.</td>\n",
       "      <td>5.7</td>\n",
       "      <td>19.0</td>\n",
       "    </tr>\n",
       "    <tr>\n",
       "      <th>1057</th>\n",
       "      <td>Global Warmer</td>\n",
       "      <td>Sixpoint Craft Ales</td>\n",
       "      <td>Brooklyn, NY</td>\n",
       "      <td>American Strong Ale</td>\n",
       "      <td>12 oz.</td>\n",
       "      <td>7.0</td>\n",
       "      <td>70.0</td>\n",
       "    </tr>\n",
       "    <tr>\n",
       "      <th>1074</th>\n",
       "      <td>Autumnation (2013)</td>\n",
       "      <td>Sixpoint Craft Ales</td>\n",
       "      <td>Brooklyn, NY</td>\n",
       "      <td>American IPA</td>\n",
       "      <td>16 oz.</td>\n",
       "      <td>6.7</td>\n",
       "      <td>74.0</td>\n",
       "    </tr>\n",
       "    <tr>\n",
       "      <th>1093</th>\n",
       "      <td>KelSo India Pale Ale</td>\n",
       "      <td>KelSo Beer Company</td>\n",
       "      <td>Brooklyn, NY</td>\n",
       "      <td>American IPA</td>\n",
       "      <td>12 oz.</td>\n",
       "      <td>6.0</td>\n",
       "      <td>64.0</td>\n",
       "    </tr>\n",
       "    <tr>\n",
       "      <th>1267</th>\n",
       "      <td>The Crisp</td>\n",
       "      <td>Sixpoint Craft Ales</td>\n",
       "      <td>Brooklyn, NY</td>\n",
       "      <td>German Pilsener</td>\n",
       "      <td>16 oz.</td>\n",
       "      <td>5.4</td>\n",
       "      <td>42.0</td>\n",
       "    </tr>\n",
       "    <tr>\n",
       "      <th>1268</th>\n",
       "      <td>Sweet Action</td>\n",
       "      <td>Sixpoint Craft Ales</td>\n",
       "      <td>Brooklyn, NY</td>\n",
       "      <td>Cream Ale</td>\n",
       "      <td>16 oz.</td>\n",
       "      <td>5.2</td>\n",
       "      <td>34.0</td>\n",
       "    </tr>\n",
       "    <tr>\n",
       "      <th>1269</th>\n",
       "      <td>Righteous Ale</td>\n",
       "      <td>Sixpoint Craft Ales</td>\n",
       "      <td>Brooklyn, NY</td>\n",
       "      <td>Rye Beer</td>\n",
       "      <td>16 oz.</td>\n",
       "      <td>6.3</td>\n",
       "      <td>57.0</td>\n",
       "    </tr>\n",
       "    <tr>\n",
       "      <th>1270</th>\n",
       "      <td>Bengali Tiger</td>\n",
       "      <td>Sixpoint Craft Ales</td>\n",
       "      <td>Brooklyn, NY</td>\n",
       "      <td>American IPA</td>\n",
       "      <td>16 oz.</td>\n",
       "      <td>6.4</td>\n",
       "      <td>62.0</td>\n",
       "    </tr>\n",
       "    <tr>\n",
       "      <th>1305</th>\n",
       "      <td>KelSo Pilsner</td>\n",
       "      <td>KelSo Beer Company</td>\n",
       "      <td>Brooklyn, NY</td>\n",
       "      <td>Czech Pilsener</td>\n",
       "      <td>12 oz.</td>\n",
       "      <td>5.5</td>\n",
       "      <td>23.0</td>\n",
       "    </tr>\n",
       "    <tr>\n",
       "      <th>1365</th>\n",
       "      <td>Hipster Ale (Two Roads Brewing)</td>\n",
       "      <td>Evil Twin Brewing</td>\n",
       "      <td>Brooklyn, NY</td>\n",
       "      <td>American Pale Ale (APA)</td>\n",
       "      <td>12 oz.</td>\n",
       "      <td>5.5</td>\n",
       "      <td>NaN</td>\n",
       "    </tr>\n",
       "    <tr>\n",
       "      <th>1366</th>\n",
       "      <td>Bikini Beer</td>\n",
       "      <td>Evil Twin Brewing</td>\n",
       "      <td>Brooklyn, NY</td>\n",
       "      <td>American IPA</td>\n",
       "      <td>12 oz.</td>\n",
       "      <td>2.7</td>\n",
       "      <td>NaN</td>\n",
       "    </tr>\n",
       "    <tr>\n",
       "      <th>1373</th>\n",
       "      <td>East India Pale Ale</td>\n",
       "      <td>Brooklyn Brewery</td>\n",
       "      <td>Brooklyn, NY</td>\n",
       "      <td>English India Pale Ale (IPA)</td>\n",
       "      <td>16 oz.</td>\n",
       "      <td>6.8</td>\n",
       "      <td>47.0</td>\n",
       "    </tr>\n",
       "    <tr>\n",
       "      <th>1624</th>\n",
       "      <td>3Beans</td>\n",
       "      <td>Sixpoint Craft Ales</td>\n",
       "      <td>Brooklyn, NY</td>\n",
       "      <td>Baltic Porter</td>\n",
       "      <td>12 oz.</td>\n",
       "      <td>9.9</td>\n",
       "      <td>85.0</td>\n",
       "    </tr>\n",
       "    <tr>\n",
       "      <th>1836</th>\n",
       "      <td>Brownstone</td>\n",
       "      <td>Sixpoint Craft Ales</td>\n",
       "      <td>Brooklyn, NY</td>\n",
       "      <td>American Brown Ale</td>\n",
       "      <td>16 oz.</td>\n",
       "      <td>5.9</td>\n",
       "      <td>47.0</td>\n",
       "    </tr>\n",
       "    <tr>\n",
       "      <th>1857</th>\n",
       "      <td>Brooklyn Summer Ale</td>\n",
       "      <td>Brooklyn Brewery</td>\n",
       "      <td>Brooklyn, NY</td>\n",
       "      <td>English Pale Mild Ale</td>\n",
       "      <td>12 oz.</td>\n",
       "      <td>4.5</td>\n",
       "      <td>NaN</td>\n",
       "    </tr>\n",
       "    <tr>\n",
       "      <th>1962</th>\n",
       "      <td>Hipster Ale (Westbrook Brewing)</td>\n",
       "      <td>Evil Twin Brewing</td>\n",
       "      <td>Brooklyn, NY</td>\n",
       "      <td>American Pale Ale (APA)</td>\n",
       "      <td>12 oz.</td>\n",
       "      <td>5.5</td>\n",
       "      <td>NaN</td>\n",
       "    </tr>\n",
       "    <tr>\n",
       "      <th>1970</th>\n",
       "      <td>Apollo</td>\n",
       "      <td>Sixpoint Craft Ales</td>\n",
       "      <td>Brooklyn, NY</td>\n",
       "      <td>American Pale Wheat Ale</td>\n",
       "      <td>16 oz.</td>\n",
       "      <td>5.2</td>\n",
       "      <td>11.0</td>\n",
       "    </tr>\n",
       "    <tr>\n",
       "      <th>1971</th>\n",
       "      <td>Harbinger</td>\n",
       "      <td>Sixpoint Craft Ales</td>\n",
       "      <td>Brooklyn, NY</td>\n",
       "      <td>Saison / Farmhouse Ale</td>\n",
       "      <td>16 oz.</td>\n",
       "      <td>4.9</td>\n",
       "      <td>35.0</td>\n",
       "    </tr>\n",
       "    <tr>\n",
       "      <th>1972</th>\n",
       "      <td>Resin</td>\n",
       "      <td>Sixpoint Craft Ales</td>\n",
       "      <td>Brooklyn, NY</td>\n",
       "      <td>American Double / Imperial IPA</td>\n",
       "      <td>12 oz.</td>\n",
       "      <td>9.1</td>\n",
       "      <td>103.0</td>\n",
       "    </tr>\n",
       "    <tr>\n",
       "      <th>2027</th>\n",
       "      <td>East India Pale Ale</td>\n",
       "      <td>Brooklyn Brewery</td>\n",
       "      <td>Brooklyn, NY</td>\n",
       "      <td>English India Pale Ale (IPA)</td>\n",
       "      <td>12 oz.</td>\n",
       "      <td>6.8</td>\n",
       "      <td>47.0</td>\n",
       "    </tr>\n",
       "    <tr>\n",
       "      <th>2062</th>\n",
       "      <td>Diesel</td>\n",
       "      <td>Sixpoint Craft Ales</td>\n",
       "      <td>Brooklyn, NY</td>\n",
       "      <td>American Stout</td>\n",
       "      <td>16 oz.</td>\n",
       "      <td>6.3</td>\n",
       "      <td>69.0</td>\n",
       "    </tr>\n",
       "    <tr>\n",
       "      <th>2074</th>\n",
       "      <td>Autumnation (2011-12) (2011)</td>\n",
       "      <td>Sixpoint Craft Ales</td>\n",
       "      <td>Brooklyn, NY</td>\n",
       "      <td>Pumpkin Ale</td>\n",
       "      <td>16 oz.</td>\n",
       "      <td>6.0</td>\n",
       "      <td>48.0</td>\n",
       "    </tr>\n",
       "    <tr>\n",
       "      <th>2140</th>\n",
       "      <td>The Crisp (2011)</td>\n",
       "      <td>Sixpoint Craft Ales</td>\n",
       "      <td>Brooklyn, NY</td>\n",
       "      <td>German Pilsener</td>\n",
       "      <td>16 oz.</td>\n",
       "      <td>5.4</td>\n",
       "      <td>42.0</td>\n",
       "    </tr>\n",
       "    <tr>\n",
       "      <th>2141</th>\n",
       "      <td>Sweet Action (2011)</td>\n",
       "      <td>Sixpoint Craft Ales</td>\n",
       "      <td>Brooklyn, NY</td>\n",
       "      <td>Cream Ale</td>\n",
       "      <td>16 oz.</td>\n",
       "      <td>5.2</td>\n",
       "      <td>34.0</td>\n",
       "    </tr>\n",
       "    <tr>\n",
       "      <th>2142</th>\n",
       "      <td>Righteous Ale (2011)</td>\n",
       "      <td>Sixpoint Craft Ales</td>\n",
       "      <td>Brooklyn, NY</td>\n",
       "      <td>Rye Beer</td>\n",
       "      <td>16 oz.</td>\n",
       "      <td>6.3</td>\n",
       "      <td>57.0</td>\n",
       "    </tr>\n",
       "    <tr>\n",
       "      <th>2143</th>\n",
       "      <td>Bengali Tiger (2011)</td>\n",
       "      <td>Sixpoint Craft Ales</td>\n",
       "      <td>Brooklyn, NY</td>\n",
       "      <td>American IPA</td>\n",
       "      <td>16 oz.</td>\n",
       "      <td>6.4</td>\n",
       "      <td>62.0</td>\n",
       "    </tr>\n",
       "    <tr>\n",
       "      <th>2219</th>\n",
       "      <td>Brooklyn Summer Ale (2011)</td>\n",
       "      <td>Brooklyn Brewery</td>\n",
       "      <td>Brooklyn, NY</td>\n",
       "      <td>English Pale Mild Ale</td>\n",
       "      <td>12 oz.</td>\n",
       "      <td>4.5</td>\n",
       "      <td>NaN</td>\n",
       "    </tr>\n",
       "    <tr>\n",
       "      <th>2350</th>\n",
       "      <td>Brooklyn Lager (16 oz.)</td>\n",
       "      <td>Brooklyn Brewery</td>\n",
       "      <td>Brooklyn, NY</td>\n",
       "      <td>American Amber / Red Lager</td>\n",
       "      <td>16 oz.</td>\n",
       "      <td>5.2</td>\n",
       "      <td>NaN</td>\n",
       "    </tr>\n",
       "    <tr>\n",
       "      <th>2351</th>\n",
       "      <td>Brooklyn Lager (12 oz.)</td>\n",
       "      <td>Brooklyn Brewery</td>\n",
       "      <td>Brooklyn, NY</td>\n",
       "      <td>American Amber / Red Lager</td>\n",
       "      <td>12 oz.</td>\n",
       "      <td>5.2</td>\n",
       "      <td>NaN</td>\n",
       "    </tr>\n",
       "  </tbody>\n",
       "</table>\n",
       "</div>"
      ],
      "text/plain": [
       "                                 Beer              Brewery      Location  \\\n",
       "115                            4Beans  Sixpoint Craft Ales  Brooklyn, NY   \n",
       "210                            Jammer  Sixpoint Craft Ales  Brooklyn, NY   \n",
       "246                           Abigale  Sixpoint Craft Ales  Brooklyn, NY   \n",
       "404                     Nomader Weiss    Evil Twin Brewing  Brooklyn, NY   \n",
       "421                               Rad  Sixpoint Craft Ales  Brooklyn, NY   \n",
       "439                      Molotov Lite    Evil Twin Brewing  Brooklyn, NY   \n",
       "588                           Bengali  Sixpoint Craft Ales  Brooklyn, NY   \n",
       "713                     Sensi Harvest  Sixpoint Craft Ales  Brooklyn, NY   \n",
       "969                            Hi-Res  Sixpoint Craft Ales  Brooklyn, NY   \n",
       "987             KelSo Nut Brown Lager   KelSo Beer Company  Brooklyn, NY   \n",
       "1057                    Global Warmer  Sixpoint Craft Ales  Brooklyn, NY   \n",
       "1074               Autumnation (2013)  Sixpoint Craft Ales  Brooklyn, NY   \n",
       "1093             KelSo India Pale Ale   KelSo Beer Company  Brooklyn, NY   \n",
       "1267                        The Crisp  Sixpoint Craft Ales  Brooklyn, NY   \n",
       "1268                     Sweet Action  Sixpoint Craft Ales  Brooklyn, NY   \n",
       "1269                    Righteous Ale  Sixpoint Craft Ales  Brooklyn, NY   \n",
       "1270                    Bengali Tiger  Sixpoint Craft Ales  Brooklyn, NY   \n",
       "1305                    KelSo Pilsner   KelSo Beer Company  Brooklyn, NY   \n",
       "1365  Hipster Ale (Two Roads Brewing)    Evil Twin Brewing  Brooklyn, NY   \n",
       "1366                      Bikini Beer    Evil Twin Brewing  Brooklyn, NY   \n",
       "1373              East India Pale Ale     Brooklyn Brewery  Brooklyn, NY   \n",
       "1624                           3Beans  Sixpoint Craft Ales  Brooklyn, NY   \n",
       "1836                       Brownstone  Sixpoint Craft Ales  Brooklyn, NY   \n",
       "1857              Brooklyn Summer Ale     Brooklyn Brewery  Brooklyn, NY   \n",
       "1962  Hipster Ale (Westbrook Brewing)    Evil Twin Brewing  Brooklyn, NY   \n",
       "1970                           Apollo  Sixpoint Craft Ales  Brooklyn, NY   \n",
       "1971                        Harbinger  Sixpoint Craft Ales  Brooklyn, NY   \n",
       "1972                            Resin  Sixpoint Craft Ales  Brooklyn, NY   \n",
       "2027              East India Pale Ale     Brooklyn Brewery  Brooklyn, NY   \n",
       "2062                           Diesel  Sixpoint Craft Ales  Brooklyn, NY   \n",
       "2074     Autumnation (2011-12) (2011)  Sixpoint Craft Ales  Brooklyn, NY   \n",
       "2140                 The Crisp (2011)  Sixpoint Craft Ales  Brooklyn, NY   \n",
       "2141              Sweet Action (2011)  Sixpoint Craft Ales  Brooklyn, NY   \n",
       "2142             Righteous Ale (2011)  Sixpoint Craft Ales  Brooklyn, NY   \n",
       "2143             Bengali Tiger (2011)  Sixpoint Craft Ales  Brooklyn, NY   \n",
       "2219       Brooklyn Summer Ale (2011)     Brooklyn Brewery  Brooklyn, NY   \n",
       "2350          Brooklyn Lager (16 oz.)     Brooklyn Brewery  Brooklyn, NY   \n",
       "2351          Brooklyn Lager (12 oz.)     Brooklyn Brewery  Brooklyn, NY   \n",
       "\n",
       "                               Style               Size   ABV   IBUs  \n",
       "115                    Baltic Porter             12 oz.  10.0   52.0  \n",
       "210                             Gose    12 oz. Slimline   4.2   16.0  \n",
       "246                 Belgian Pale Ale             12 oz.   8.0    NaN  \n",
       "404               Berliner Weissbier             12 oz.   4.0    NaN  \n",
       "421           Fruit / Vegetable Beer             16 oz.   3.2    7.0  \n",
       "439   American Double / Imperial IPA             16 oz.   8.5    NaN  \n",
       "588                     American IPA  24 oz. \"Silo Can\"   6.5   62.0  \n",
       "713          American Pale Ale (APA)             12 oz.   4.7   50.0  \n",
       "969   American Double / Imperial IPA             12 oz.   9.9  111.0  \n",
       "987                  Euro Dark Lager             12 oz.   5.7   19.0  \n",
       "1057             American Strong Ale             12 oz.   7.0   70.0  \n",
       "1074                    American IPA             16 oz.   6.7   74.0  \n",
       "1093                    American IPA             12 oz.   6.0   64.0  \n",
       "1267                 German Pilsener             16 oz.   5.4   42.0  \n",
       "1268                       Cream Ale             16 oz.   5.2   34.0  \n",
       "1269                        Rye Beer             16 oz.   6.3   57.0  \n",
       "1270                    American IPA             16 oz.   6.4   62.0  \n",
       "1305                  Czech Pilsener             12 oz.   5.5   23.0  \n",
       "1365         American Pale Ale (APA)             12 oz.   5.5    NaN  \n",
       "1366                    American IPA             12 oz.   2.7    NaN  \n",
       "1373    English India Pale Ale (IPA)             16 oz.   6.8   47.0  \n",
       "1624                   Baltic Porter             12 oz.   9.9   85.0  \n",
       "1836              American Brown Ale             16 oz.   5.9   47.0  \n",
       "1857           English Pale Mild Ale             12 oz.   4.5    NaN  \n",
       "1962         American Pale Ale (APA)             12 oz.   5.5    NaN  \n",
       "1970         American Pale Wheat Ale             16 oz.   5.2   11.0  \n",
       "1971          Saison / Farmhouse Ale             16 oz.   4.9   35.0  \n",
       "1972  American Double / Imperial IPA             12 oz.   9.1  103.0  \n",
       "2027    English India Pale Ale (IPA)             12 oz.   6.8   47.0  \n",
       "2062                  American Stout             16 oz.   6.3   69.0  \n",
       "2074                     Pumpkin Ale             16 oz.   6.0   48.0  \n",
       "2140                 German Pilsener             16 oz.   5.4   42.0  \n",
       "2141                       Cream Ale             16 oz.   5.2   34.0  \n",
       "2142                        Rye Beer             16 oz.   6.3   57.0  \n",
       "2143                    American IPA             16 oz.   6.4   62.0  \n",
       "2219           English Pale Mild Ale             12 oz.   4.5    NaN  \n",
       "2350      American Amber / Red Lager             16 oz.   5.2    NaN  \n",
       "2351      American Amber / Red Lager             12 oz.   5.2    NaN  "
      ]
     },
     "execution_count": 16,
     "metadata": {},
     "output_type": "execute_result"
    }
   ],
   "source": [
    "df[df['Location'] == \"Brooklyn, NY\"]"
   ]
  },
  {
   "cell_type": "markdown",
   "metadata": {},
   "source": [
    "## What brewery in Brooklyn puts out the most different cans of beer?"
   ]
  },
  {
   "cell_type": "code",
   "execution_count": 17,
   "metadata": {},
   "outputs": [
    {
     "data": {
      "application/vnd.microsoft.datawrangler.viewer.v0+json": {
       "columns": [
        {
         "name": "index",
         "rawType": "int64",
         "type": "integer"
        },
        {
         "name": "Brewery",
         "rawType": "object",
         "type": "string"
        },
        {
         "name": "nb",
         "rawType": "int64",
         "type": "integer"
        }
       ],
       "ref": "7dcd59ff-6ac7-4088-950d-f2788aef046d",
       "rows": [
        [
         "3",
         "Sixpoint Craft Ales",
         "24"
        ]
       ],
       "shape": {
        "columns": 2,
        "rows": 1
       }
      },
      "text/html": [
       "<div>\n",
       "<style scoped>\n",
       "    .dataframe tbody tr th:only-of-type {\n",
       "        vertical-align: middle;\n",
       "    }\n",
       "\n",
       "    .dataframe tbody tr th {\n",
       "        vertical-align: top;\n",
       "    }\n",
       "\n",
       "    .dataframe thead th {\n",
       "        text-align: right;\n",
       "    }\n",
       "</style>\n",
       "<table border=\"1\" class=\"dataframe\">\n",
       "  <thead>\n",
       "    <tr style=\"text-align: right;\">\n",
       "      <th></th>\n",
       "      <th>Brewery</th>\n",
       "      <th>nb</th>\n",
       "    </tr>\n",
       "  </thead>\n",
       "  <tbody>\n",
       "    <tr>\n",
       "      <th>3</th>\n",
       "      <td>Sixpoint Craft Ales</td>\n",
       "      <td>24</td>\n",
       "    </tr>\n",
       "  </tbody>\n",
       "</table>\n",
       "</div>"
      ],
      "text/plain": [
       "               Brewery  nb\n",
       "3  Sixpoint Craft Ales  24"
      ]
     },
     "execution_count": 17,
     "metadata": {},
     "output_type": "execute_result"
    }
   ],
   "source": [
    "(\n",
    "    df[df['Location'] == \"Brooklyn, NY\"]\n",
    "    .groupby('Brewery')\n",
    "    .size()\n",
    "    .reset_index(name=\"nb\")\n",
    "    .sort_values(\"nb\", ascending=False)\n",
    "    .head(n=1)\n",
    ")"
   ]
  },
  {
   "cell_type": "markdown",
   "metadata": {},
   "source": [
    "## What are the five most common styles of beer produced by Sixpoint?"
   ]
  },
  {
   "cell_type": "code",
   "execution_count": 18,
   "metadata": {},
   "outputs": [
    {
     "data": {
      "application/vnd.microsoft.datawrangler.viewer.v0+json": {
       "columns": [
        {
         "name": "Style",
         "rawType": "object",
         "type": "string"
        },
        {
         "name": "count",
         "rawType": "int64",
         "type": "integer"
        }
       ],
       "ref": "7f962912-d7ba-4099-8c8d-b8e47103647e",
       "rows": [
        [
         "American IPA",
         "4"
        ],
        [
         "Baltic Porter",
         "2"
        ],
        [
         "American Double / Imperial IPA",
         "2"
        ],
        [
         "German Pilsener",
         "2"
        ],
        [
         "Cream Ale",
         "2"
        ]
       ],
       "shape": {
        "columns": 1,
        "rows": 5
       }
      },
      "text/plain": [
       "Style\n",
       "American IPA                      4\n",
       "Baltic Porter                     2\n",
       "American Double / Imperial IPA    2\n",
       "German Pilsener                   2\n",
       "Cream Ale                         2\n",
       "Name: count, dtype: int64"
      ]
     },
     "execution_count": 18,
     "metadata": {},
     "output_type": "execute_result"
    }
   ],
   "source": [
    "# (\n",
    "#     df[df['Brewery'] == \"Sixpoint Craft Ales\"]\n",
    "#     .groupby('Style')\n",
    "#     .size()\n",
    "#     .reset_index(name=\"nb\")\n",
    "#     .sort_values(\"nb\", ascending=False)\n",
    "#     .head(n =5)\n",
    "# )\n",
    "\n",
    "df[df['Brewery'] == \"Sixpoint Craft Ales\"]['Style'].value_counts().head(5)\n"
   ]
  },
  {
   "cell_type": "markdown",
   "metadata": {},
   "source": [
    "## List all of the breweries in New York state.\n",
    "\n",
    "- *Tip: We want to match *part* of the `Location` column, but not all of it.*\n",
    "- *Tip: Watch out for `NaN` values! You might be close, but you'll need to pass an extra parameter to make it work without an error.*\n",
    "- *Tip: If you want to be extra fancy, you can create a new column with just the state abbreviation and then filter on that.*"
   ]
  },
  {
   "cell_type": "code",
   "execution_count": 19,
   "metadata": {},
   "outputs": [
    {
     "data": {
      "application/vnd.microsoft.datawrangler.viewer.v0+json": {
       "columns": [
        {
         "name": "index",
         "rawType": "int64",
         "type": "integer"
        },
        {
         "name": "Beer",
         "rawType": "object",
         "type": "string"
        },
        {
         "name": "Brewery",
         "rawType": "object",
         "type": "string"
        },
        {
         "name": "Location",
         "rawType": "object",
         "type": "string"
        },
        {
         "name": "Style",
         "rawType": "object",
         "type": "string"
        },
        {
         "name": "Size",
         "rawType": "object",
         "type": "string"
        },
        {
         "name": "ABV",
         "rawType": "float64",
         "type": "float"
        },
        {
         "name": "IBUs",
         "rawType": "float64",
         "type": "float"
        }
       ],
       "ref": "0c438bb6-0a82-4c89-a091-e8a575c0d802",
       "rows": [
        [
         "115",
         "4Beans",
         "Sixpoint Craft Ales",
         "Brooklyn, NY",
         "Baltic Porter",
         "12 oz.",
         "10.0",
         "52.0"
        ],
        [
         "210",
         "Jammer",
         "Sixpoint Craft Ales",
         "Brooklyn, NY",
         "Gose",
         "12 oz. Slimline",
         "4.2",
         "16.0"
        ],
        [
         "246",
         "Abigale",
         "Sixpoint Craft Ales",
         "Brooklyn, NY",
         "Belgian Pale Ale",
         "12 oz.",
         "8.0",
         null
        ],
        [
         "404",
         "Nomader Weiss",
         "Evil Twin Brewing",
         "Brooklyn, NY",
         "Berliner Weissbier",
         "12 oz.",
         "4.0",
         null
        ],
        [
         "421",
         "Rad",
         "Sixpoint Craft Ales",
         "Brooklyn, NY",
         "Fruit / Vegetable Beer",
         "16 oz.",
         "3.2",
         "7.0"
        ],
        [
         "439",
         "Molotov Lite",
         "Evil Twin Brewing",
         "Brooklyn, NY",
         "American Double / Imperial IPA",
         "16 oz.",
         "8.5",
         null
        ],
        [
         "588",
         "Bengali",
         "Sixpoint Craft Ales",
         "Brooklyn, NY",
         "American IPA",
         "24 oz. \"Silo Can\"",
         "6.5",
         "62.0"
        ],
        [
         "598",
         "8 Barrel",
         "Chatham Brewing",
         "Chatham, NY",
         "American Strong Ale",
         "16 oz.",
         "8.0",
         "69.0"
        ],
        [
         "599",
         "Oktoberfest",
         "Chatham Brewing",
         "Chatham, NY",
         "Märzen / Oktoberfest",
         "16 oz.",
         "5.5",
         "40.0"
        ],
        [
         "628",
         "Cream Ale",
         "Newburgh Brewing Company",
         "Newburgh, NY",
         "Cream Ale",
         "12 oz.",
         "4.2",
         "35.0"
        ],
        [
         "653",
         "Montauk Light",
         "Southampton Publick House",
         "Southampton, NY",
         "Light Lager",
         "12 oz.",
         "3.5",
         null
        ],
        [
         "713",
         "Sensi Harvest",
         "Sixpoint Craft Ales",
         "Brooklyn, NY",
         "American Pale Ale (APA)",
         "12 oz.",
         "4.7",
         "50.0"
        ],
        [
         "768",
         "Montauk Summer Ale",
         "Montauk Brewing Company",
         "Montauk, NY",
         "American Blonde Ale",
         "12 oz.",
         "5.6",
         "28.0"
        ],
        [
         "769",
         "Driftwood Ale",
         "Montauk Brewing Company",
         "Montauk, NY",
         "Extra Special / Strong Bitter (ESB)",
         "12 oz.",
         "6.0",
         "49.0"
        ],
        [
         "837",
         "Our Legacy IPA",
         "Matt Brewing Company",
         "Utica, NY",
         "American IPA",
         "12 oz.",
         "6.5",
         "60.0"
        ],
        [
         "918",
         "Bronx Summer Pale Ale",
         "The Bronx Brewery",
         "Bronx, NY",
         "American Pale Ale (APA)",
         "16 oz.",
         "5.2",
         "16.0"
        ],
        [
         "919",
         "Bronx Black Pale Ale",
         "The Bronx Brewery",
         "Bronx, NY",
         "American Black Ale",
         "16 oz.",
         "5.7",
         "46.0"
        ],
        [
         "969",
         "Hi-Res",
         "Sixpoint Craft Ales",
         "Brooklyn, NY",
         "American Double / Imperial IPA",
         "12 oz.",
         "9.9",
         "111.0"
        ],
        [
         "987",
         "KelSo Nut Brown Lager",
         "KelSo Beer Company",
         "Brooklyn, NY",
         "Euro Dark Lager",
         "12 oz.",
         "5.7",
         "19.0"
        ],
        [
         "1057",
         "Global Warmer",
         "Sixpoint Craft Ales",
         "Brooklyn, NY",
         "American Strong Ale",
         "12 oz.",
         "7.0",
         "70.0"
        ],
        [
         "1074",
         "Autumnation (2013)",
         "Sixpoint Craft Ales",
         "Brooklyn, NY",
         "American IPA",
         "16 oz.",
         "6.7",
         "74.0"
        ],
        [
         "1093",
         "KelSo India Pale Ale",
         "KelSo Beer Company",
         "Brooklyn, NY",
         "American IPA",
         "12 oz.",
         "6.0",
         "64.0"
        ],
        [
         "1267",
         "The Crisp",
         "Sixpoint Craft Ales",
         "Brooklyn, NY",
         "German Pilsener",
         "16 oz.",
         "5.4",
         "42.0"
        ],
        [
         "1268",
         "Sweet Action",
         "Sixpoint Craft Ales",
         "Brooklyn, NY",
         "Cream Ale",
         "16 oz.",
         "5.2",
         "34.0"
        ],
        [
         "1269",
         "Righteous Ale",
         "Sixpoint Craft Ales",
         "Brooklyn, NY",
         "Rye Beer",
         "16 oz.",
         "6.3",
         "57.0"
        ],
        [
         "1270",
         "Bengali Tiger",
         "Sixpoint Craft Ales",
         "Brooklyn, NY",
         "American IPA",
         "16 oz.",
         "6.4",
         "62.0"
        ],
        [
         "1295",
         "Saranac Shandy",
         "Matt Brewing Company",
         "Utica, NY",
         "Shandy",
         "12 oz.",
         "4.2",
         null
        ],
        [
         "1305",
         "KelSo Pilsner",
         "KelSo Beer Company",
         "Brooklyn, NY",
         "Czech Pilsener",
         "12 oz.",
         "5.5",
         "23.0"
        ],
        [
         "1365",
         "Hipster Ale (Two Roads Brewing)",
         "Evil Twin Brewing",
         "Brooklyn, NY",
         "American Pale Ale (APA)",
         "12 oz.",
         "5.5",
         null
        ],
        [
         "1366",
         "Bikini Beer",
         "Evil Twin Brewing",
         "Brooklyn, NY",
         "American IPA",
         "12 oz.",
         "2.7",
         null
        ],
        [
         "1373",
         "East India Pale Ale",
         "Brooklyn Brewery",
         "Brooklyn, NY",
         "English India Pale Ale (IPA)",
         "16 oz.",
         "6.8",
         "47.0"
        ],
        [
         "1514",
         "Our Legacy IPA",
         "Matt Brewing Company",
         "Utica, NY",
         "American IPA",
         "16 oz.",
         "6.5",
         "60.0"
        ],
        [
         "1608",
         "Bronx Pale Ale",
         "The Bronx Brewery",
         "Bronx, NY",
         "American Pale Ale (APA)",
         "16 oz.",
         "6.3",
         "50.0"
        ],
        [
         "1624",
         "3Beans",
         "Sixpoint Craft Ales",
         "Brooklyn, NY",
         "Baltic Porter",
         "12 oz.",
         "9.9",
         "85.0"
        ],
        [
         "1679",
         "Manhattan Gold Lager (1990)",
         "The Manhattan Brewing Company",
         "New York, NY",
         "American Amber / Red Lager",
         "12 oz.",
         null,
         null
        ],
        [
         "1682",
         "Saranac Golden Pilsener (2003)",
         "Matt Brewing Company",
         "Utica, NY",
         "German Pilsener",
         "12 oz.",
         "5.1",
         null
        ],
        [
         "1683",
         "Saranac Adirondack Light (2002)",
         "Matt Brewing Company",
         "Utica, NY",
         "Light Lager",
         "12 oz.",
         "4.5",
         null
        ],
        [
         "1684",
         "DAX Light (1998)",
         "Matt Brewing Company",
         "Utica, NY",
         "Light Lager",
         "12 oz.",
         "4.5",
         null
        ],
        [
         "1685",
         "Saranac Traditional Lager (2000)",
         "Matt Brewing Company",
         "Utica, NY",
         "American Pale Lager",
         "12 oz.",
         "4.8",
         null
        ],
        [
         "1686",
         "Pomegranate Wheat (2008)",
         "Matt Brewing Company",
         "Utica, NY",
         "Fruit / Vegetable Beer",
         "12 oz.",
         "4.7",
         null
        ],
        [
         "1703",
         "Toxic Sludge",
         "Blue Point Brewing Company",
         "Patchogue, NY",
         "American Black Ale",
         "16 oz.",
         "7.0",
         null
        ],
        [
         "1836",
         "Brownstone",
         "Sixpoint Craft Ales",
         "Brooklyn, NY",
         "American Brown Ale",
         "16 oz.",
         "5.9",
         "47.0"
        ],
        [
         "1841",
         "Blueberry Blonde Ale",
         "Matt Brewing Company",
         "Utica, NY",
         "American Blonde Ale",
         "12 oz.",
         "5.0",
         "12.0"
        ],
        [
         "1857",
         "Brooklyn Summer Ale",
         "Brooklyn Brewery",
         "Brooklyn, NY",
         "English Pale Mild Ale",
         "12 oz.",
         "4.5",
         null
        ],
        [
         "1913",
         "Blue Point White IPA",
         "Blue Point Brewing Company",
         "Patchogue, NY",
         "American White IPA",
         "12 oz.",
         "6.0",
         "40.0"
        ],
        [
         "1919",
         "Saranac White IPA",
         "Matt Brewing Company",
         "Utica, NY",
         "American IPA",
         "12 oz.",
         "6.0",
         null
        ],
        [
         "1935",
         "Blue Point Summer Ale",
         "Blue Point Brewing Company",
         "Patchogue, NY",
         "American Blonde Ale",
         "12 oz.",
         "4.4",
         "16.0"
        ],
        [
         "1937",
         "Toasted Lager",
         "Blue Point Brewing Company",
         "Patchogue, NY",
         "Vienna Lager",
         "12 oz.",
         "5.5",
         "28.0"
        ],
        [
         "1962",
         "Hipster Ale (Westbrook Brewing)",
         "Evil Twin Brewing",
         "Brooklyn, NY",
         "American Pale Ale (APA)",
         "12 oz.",
         "5.5",
         null
        ],
        [
         "1970",
         "Apollo",
         "Sixpoint Craft Ales",
         "Brooklyn, NY",
         "American Pale Wheat Ale",
         "16 oz.",
         "5.2",
         "11.0"
        ]
       ],
       "shape": {
        "columns": 7,
        "rows": 74
       }
      },
      "text/html": [
       "<div>\n",
       "<style scoped>\n",
       "    .dataframe tbody tr th:only-of-type {\n",
       "        vertical-align: middle;\n",
       "    }\n",
       "\n",
       "    .dataframe tbody tr th {\n",
       "        vertical-align: top;\n",
       "    }\n",
       "\n",
       "    .dataframe thead th {\n",
       "        text-align: right;\n",
       "    }\n",
       "</style>\n",
       "<table border=\"1\" class=\"dataframe\">\n",
       "  <thead>\n",
       "    <tr style=\"text-align: right;\">\n",
       "      <th></th>\n",
       "      <th>Beer</th>\n",
       "      <th>Brewery</th>\n",
       "      <th>Location</th>\n",
       "      <th>Style</th>\n",
       "      <th>Size</th>\n",
       "      <th>ABV</th>\n",
       "      <th>IBUs</th>\n",
       "    </tr>\n",
       "  </thead>\n",
       "  <tbody>\n",
       "    <tr>\n",
       "      <th>115</th>\n",
       "      <td>4Beans</td>\n",
       "      <td>Sixpoint Craft Ales</td>\n",
       "      <td>Brooklyn, NY</td>\n",
       "      <td>Baltic Porter</td>\n",
       "      <td>12 oz.</td>\n",
       "      <td>10.0</td>\n",
       "      <td>52.0</td>\n",
       "    </tr>\n",
       "    <tr>\n",
       "      <th>210</th>\n",
       "      <td>Jammer</td>\n",
       "      <td>Sixpoint Craft Ales</td>\n",
       "      <td>Brooklyn, NY</td>\n",
       "      <td>Gose</td>\n",
       "      <td>12 oz. Slimline</td>\n",
       "      <td>4.2</td>\n",
       "      <td>16.0</td>\n",
       "    </tr>\n",
       "    <tr>\n",
       "      <th>246</th>\n",
       "      <td>Abigale</td>\n",
       "      <td>Sixpoint Craft Ales</td>\n",
       "      <td>Brooklyn, NY</td>\n",
       "      <td>Belgian Pale Ale</td>\n",
       "      <td>12 oz.</td>\n",
       "      <td>8.0</td>\n",
       "      <td>NaN</td>\n",
       "    </tr>\n",
       "    <tr>\n",
       "      <th>404</th>\n",
       "      <td>Nomader Weiss</td>\n",
       "      <td>Evil Twin Brewing</td>\n",
       "      <td>Brooklyn, NY</td>\n",
       "      <td>Berliner Weissbier</td>\n",
       "      <td>12 oz.</td>\n",
       "      <td>4.0</td>\n",
       "      <td>NaN</td>\n",
       "    </tr>\n",
       "    <tr>\n",
       "      <th>421</th>\n",
       "      <td>Rad</td>\n",
       "      <td>Sixpoint Craft Ales</td>\n",
       "      <td>Brooklyn, NY</td>\n",
       "      <td>Fruit / Vegetable Beer</td>\n",
       "      <td>16 oz.</td>\n",
       "      <td>3.2</td>\n",
       "      <td>7.0</td>\n",
       "    </tr>\n",
       "    <tr>\n",
       "      <th>...</th>\n",
       "      <td>...</td>\n",
       "      <td>...</td>\n",
       "      <td>...</td>\n",
       "      <td>...</td>\n",
       "      <td>...</td>\n",
       "      <td>...</td>\n",
       "      <td>...</td>\n",
       "    </tr>\n",
       "    <tr>\n",
       "      <th>2351</th>\n",
       "      <td>Brooklyn Lager (12 oz.)</td>\n",
       "      <td>Brooklyn Brewery</td>\n",
       "      <td>Brooklyn, NY</td>\n",
       "      <td>American Amber / Red Lager</td>\n",
       "      <td>12 oz.</td>\n",
       "      <td>5.2</td>\n",
       "      <td>NaN</td>\n",
       "    </tr>\n",
       "    <tr>\n",
       "      <th>2364</th>\n",
       "      <td>Heinnieweisse Weissebier</td>\n",
       "      <td>Butternuts Beer and Ale</td>\n",
       "      <td>Garrattsville, NY</td>\n",
       "      <td>Hefeweizen</td>\n",
       "      <td>12 oz.</td>\n",
       "      <td>4.9</td>\n",
       "      <td>NaN</td>\n",
       "    </tr>\n",
       "    <tr>\n",
       "      <th>2365</th>\n",
       "      <td>Snapperhead IPA</td>\n",
       "      <td>Butternuts Beer and Ale</td>\n",
       "      <td>Garrattsville, NY</td>\n",
       "      <td>American IPA</td>\n",
       "      <td>12 oz.</td>\n",
       "      <td>6.8</td>\n",
       "      <td>NaN</td>\n",
       "    </tr>\n",
       "    <tr>\n",
       "      <th>2366</th>\n",
       "      <td>Moo Thunder Stout</td>\n",
       "      <td>Butternuts Beer and Ale</td>\n",
       "      <td>Garrattsville, NY</td>\n",
       "      <td>Milk / Sweet Stout</td>\n",
       "      <td>12 oz.</td>\n",
       "      <td>4.9</td>\n",
       "      <td>NaN</td>\n",
       "    </tr>\n",
       "    <tr>\n",
       "      <th>2367</th>\n",
       "      <td>Porkslap Pale Ale</td>\n",
       "      <td>Butternuts Beer and Ale</td>\n",
       "      <td>Garrattsville, NY</td>\n",
       "      <td>American Pale Ale (APA)</td>\n",
       "      <td>12 oz.</td>\n",
       "      <td>4.3</td>\n",
       "      <td>NaN</td>\n",
       "    </tr>\n",
       "  </tbody>\n",
       "</table>\n",
       "<p>74 rows × 7 columns</p>\n",
       "</div>"
      ],
      "text/plain": [
       "                          Beer                  Brewery           Location  \\\n",
       "115                     4Beans      Sixpoint Craft Ales       Brooklyn, NY   \n",
       "210                     Jammer      Sixpoint Craft Ales       Brooklyn, NY   \n",
       "246                    Abigale      Sixpoint Craft Ales       Brooklyn, NY   \n",
       "404              Nomader Weiss        Evil Twin Brewing       Brooklyn, NY   \n",
       "421                        Rad      Sixpoint Craft Ales       Brooklyn, NY   \n",
       "...                        ...                      ...                ...   \n",
       "2351   Brooklyn Lager (12 oz.)         Brooklyn Brewery       Brooklyn, NY   \n",
       "2364  Heinnieweisse Weissebier  Butternuts Beer and Ale  Garrattsville, NY   \n",
       "2365           Snapperhead IPA  Butternuts Beer and Ale  Garrattsville, NY   \n",
       "2366         Moo Thunder Stout  Butternuts Beer and Ale  Garrattsville, NY   \n",
       "2367         Porkslap Pale Ale  Butternuts Beer and Ale  Garrattsville, NY   \n",
       "\n",
       "                           Style             Size   ABV  IBUs  \n",
       "115                Baltic Porter           12 oz.  10.0  52.0  \n",
       "210                         Gose  12 oz. Slimline   4.2  16.0  \n",
       "246             Belgian Pale Ale           12 oz.   8.0   NaN  \n",
       "404           Berliner Weissbier           12 oz.   4.0   NaN  \n",
       "421       Fruit / Vegetable Beer           16 oz.   3.2   7.0  \n",
       "...                          ...              ...   ...   ...  \n",
       "2351  American Amber / Red Lager           12 oz.   5.2   NaN  \n",
       "2364                  Hefeweizen           12 oz.   4.9   NaN  \n",
       "2365                American IPA           12 oz.   6.8   NaN  \n",
       "2366          Milk / Sweet Stout           12 oz.   4.9   NaN  \n",
       "2367     American Pale Ale (APA)           12 oz.   4.3   NaN  \n",
       "\n",
       "[74 rows x 7 columns]"
      ]
     },
     "execution_count": 19,
     "metadata": {},
     "output_type": "execute_result"
    }
   ],
   "source": [
    "df[df['Location'] .str.contains(\"NY\",na=False)]"
   ]
  },
  {
   "cell_type": "markdown",
   "metadata": {},
   "source": [
    "### Now *count* all of the breweries in New York state"
   ]
  },
  {
   "cell_type": "code",
   "execution_count": 20,
   "metadata": {},
   "outputs": [
    {
     "data": {
      "text/plain": [
       "16"
      ]
     },
     "execution_count": 20,
     "metadata": {},
     "output_type": "execute_result"
    }
   ],
   "source": [
    "df[df['Location'] .str.contains(\"NY\",na=False)]['Brewery'].nunique()\n"
   ]
  },
  {
   "cell_type": "markdown",
   "metadata": {},
   "source": [
    "# Measuring International Bitterness Units\n",
    "\n",
    "## Display all of the IPAs\n",
    "\n",
    "Include American IPAs, Imperial IPAs, and anything else with \"IPA in it.\"\n",
    "\n",
    "IPA stands for [India Pale Ale](https://www.bonappetit.com/story/ipa-beer-styles), and is probably the most popular kind of beer in the US for people who are drinking [craft beer](https://www.craftbeer.com/beer/what-is-craft-beer)."
   ]
  },
  {
   "cell_type": "code",
   "execution_count": 21,
   "metadata": {},
   "outputs": [
    {
     "data": {
      "application/vnd.microsoft.datawrangler.viewer.v0+json": {
       "columns": [
        {
         "name": "index",
         "rawType": "int64",
         "type": "integer"
        },
        {
         "name": "Beer",
         "rawType": "object",
         "type": "string"
        },
        {
         "name": "Brewery",
         "rawType": "object",
         "type": "string"
        },
        {
         "name": "Location",
         "rawType": "object",
         "type": "string"
        },
        {
         "name": "Style",
         "rawType": "object",
         "type": "string"
        },
        {
         "name": "Size",
         "rawType": "object",
         "type": "string"
        },
        {
         "name": "ABV",
         "rawType": "float64",
         "type": "float"
        },
        {
         "name": "IBUs",
         "rawType": "float64",
         "type": "float"
        }
       ],
       "ref": "ce87c855-aff6-4dba-9303-63e126a69447",
       "rows": [
        [
         "0",
         "Get Together",
         "NorthGate Brewing",
         "Minneapolis, MN",
         "American IPA",
         "16 oz.",
         "4.5",
         "50.0"
        ],
        [
         "6",
         "Citra Ass Down",
         "Against the Grain Brewery",
         "Louisville, KY",
         "American Double / Imperial IPA",
         "16 oz.",
         "8.0",
         "68.0"
        ],
        [
         "14",
         "Rico Sauvin",
         "Against the Grain Brewery",
         "Louisville, KY",
         "American Double / Imperial IPA",
         "16 oz.",
         "7.6",
         "68.0"
        ],
        [
         "17",
         "Pile of Face",
         "Against the Grain Brewery",
         "Louisville, KY",
         "American IPA",
         "16 oz.",
         "6.0",
         "65.0"
        ],
        [
         "24",
         "Habitus (2014)",
         "Mike Hess Brewing Company",
         "San Diego, CA",
         "American Double / Imperial IPA",
         "16 oz.",
         "8.0",
         "100.0"
        ],
        [
         "25",
         "Solis",
         "Mike Hess Brewing Company",
         "San Diego, CA",
         "American IPA",
         "16 oz.",
         "7.5",
         "85.0"
        ],
        [
         "27",
         "Habitus",
         "Mike Hess Brewing Company",
         "San Diego, CA",
         "American Double / Imperial IPA",
         "16 oz.",
         "8.0",
         "100.0"
        ],
        [
         "33",
         "Villager",
         "Fort Point Beer Company",
         "San Francisco, CA",
         "American IPA",
         "12 oz.",
         "6.3",
         "42.0"
        ],
        [
         "38",
         "HopArt",
         "COAST Brewing Company",
         "Charleston, SC",
         "American IPA",
         "16 oz.",
         "7.7",
         null
        ],
        [
         "39",
         "Boy King",
         "COAST Brewing Company",
         "Charleston, SC",
         "American Double / Imperial IPA",
         "16 oz.",
         "9.7",
         null
        ],
        [
         "43",
         "Rumble",
         "Great Divide Brewing Company",
         "Denver, CO",
         "American IPA",
         "12 oz.",
         "7.1",
         null
        ],
        [
         "45",
         "Lasso",
         "Great Divide Brewing Company",
         "Denver, CO",
         "American IPA",
         "12 oz.",
         "5.0",
         null
        ],
        [
         "48",
         "Titan IPA",
         "Great Divide Brewing Company",
         "Denver, CO",
         "American IPA",
         "12 oz.",
         "7.1",
         null
        ],
        [
         "55",
         "Nordskye",
         "Blackrocks Brewery",
         "Marquette, MI",
         "American IPA",
         "12 oz.",
         "4.8",
         "47.0"
        ],
        [
         "59",
         "98 Problems (Cuz A Hop Ain't One)",
         "Perrin Brewing Company",
         "Comstock Park, MI",
         "American IPA",
         "12 oz.",
         "6.5",
         "65.0"
        ],
        [
         "61",
         "Grapefruit IPA",
         "Perrin Brewing Company",
         "Comstock Park, MI",
         "American IPA",
         "12 oz.",
         "5.0",
         "35.0"
        ],
        [
         "62",
         "Train Hopper",
         "Witch's Hat Brewing Company",
         "South Lyon, MI",
         "American IPA",
         "12 oz.",
         "5.8",
         "72.0"
        ],
        [
         "71",
         "Thai.p.a",
         "Bare Hands Brewery",
         "Granger, IN",
         "American IPA",
         "16 oz.",
         "7.0",
         "46.0"
        ],
        [
         "78",
         "The 26th",
         "Four Fathers Brewing",
         "Valparaiso, IN",
         "American IPA",
         "16 oz.",
         "6.0",
         null
        ],
        [
         "79",
         "The Gadget",
         "Four Fathers Brewing",
         "Valparaiso, IN",
         "American IPA",
         "16 oz.",
         "6.4",
         "90.0"
        ],
        [
         "86",
         "Galaxyfest",
         "450 North Brewing Company",
         "Columbus, IN",
         "American IPA",
         "16 oz.",
         "6.5",
         null
        ],
        [
         "87",
         "Citrafest",
         "450 North Brewing Company",
         "Columbus, IN",
         "American IPA",
         "16 oz.",
         "5.0",
         "45.0"
        ],
        [
         "89",
         "Gone A-Rye",
         "Cedar Creek Brewery",
         "Seven Points, TX",
         "American Double / Imperial IPA",
         "16 oz.",
         "8.5",
         "90.0"
        ],
        [
         "92",
         "Linnaeus Mango IPA",
         "Brewery Vivant",
         "Grand Rapids, MI",
         "American IPA",
         "16 oz.",
         "6.0",
         null
        ],
        [
         "93",
         "Heavy Lifting",
         "Boulevard Brewing Company",
         "Kansas City, MO",
         "American IPA",
         "12 oz.",
         "6.2",
         "80.0"
        ],
        [
         "96",
         "Grapefruit Sculpin",
         "Ballast Point Brewing Company",
         "San Diego, CA",
         "American IPA",
         "12 oz.",
         "7.0",
         null
        ],
        [
         "97",
         "Liberty Ale",
         "Anchor Brewing Company",
         "San Francisco, CA",
         "American IPA",
         "12 oz",
         "5.9",
         null
        ],
        [
         "100",
         "Raja",
         "Avery Brewing Company",
         "Boulder, CO",
         "American Double / Imperial IPA",
         "12 oz.",
         "8.0",
         null
        ],
        [
         "104",
         "Galaxy IPA",
         "Big Muddy Brewing",
         "Murphysboro, IL",
         "American IPA",
         "16 oz.",
         "7.5",
         "60.0"
        ],
        [
         "107",
         "Mosaic Single Hop IPA",
         "Lost Nation Brewing",
         "East Fairfield, VT",
         "American IPA",
         "16 oz.",
         "5.5",
         null
        ],
        [
         "108",
         "Lost Galaxy",
         "Lost Nation Brewing",
         "East Fairfield, VT",
         "American IPA",
         "16 oz.",
         "4.5",
         null
        ],
        [
         "110",
         "Jah Mon",
         "Rivertowne Brewing Company",
         "Export, PA",
         "American IPA",
         "12 oz.",
         "5.0",
         "100.0"
        ],
        [
         "111",
         "IPA",
         "Anchor Brewing Company",
         "San Francisco, CA",
         "American IPA",
         "12 oz.",
         "6.5",
         null
        ],
        [
         "117",
         "Hop Session",
         "White Birch Brewing",
         "Hooksett, NH",
         "American IPA",
         "12 oz.",
         "5.0",
         null
        ],
        [
         "120",
         "Easy Jack",
         "Firestone Walker Brewing Company",
         "Paso Robles, CA",
         "American IPA",
         "12 oz.",
         "4.5",
         "47.0"
        ],
        [
         "123",
         "Flying Mouse 4",
         "Flying Mouse Brewery",
         "Troutville, VA",
         "American IPA",
         "12 oz.",
         "7.0",
         "70.0"
        ],
        [
         "131",
         "Moar",
         "Bent Brewstillery",
         "Roseville, MN",
         "English India Pale Ale (IPA)",
         "12 oz.",
         "4.4",
         "44.0"
        ],
        [
         "132",
         "Uber Lupin Schwarz IPA",
         "Bent Brewstillery",
         "Roseville, MN",
         "American Double / Imperial IPA",
         "16 oz.",
         "8.3",
         null
        ],
        [
         "146",
         "Todd the Axe Man",
         "Surly Brewing Company",
         "Brooklyn Center, MN",
         "American IPA",
         "16 oz.",
         "7.2",
         null
        ],
        [
         "148",
         "Barrel Aged Triomphe",
         "Brewery Vivant",
         "Grand Rapids, MI",
         "Belgian IPA",
         "16 oz.",
         "6.5",
         null
        ],
        [
         "149",
         "Citra Ass Down",
         "Against The Grain Brewery",
         "Louisville, KY",
         "American IPA",
         "16 oz.",
         "8.2",
         "68.0"
        ],
        [
         "152",
         "Monkey Dancing On A Razor Blade",
         "SlapShot Brewing Company",
         "Chicago, IL",
         "Belgian IPA",
         "24 oz.",
         "8.5",
         null
        ],
        [
         "154",
         "Vinyl Frontier",
         "Mikerphone Brewing",
         "Chicago, IL",
         "American Double / Imperial IPA",
         "24 oz.",
         "8.3",
         null
        ],
        [
         "155",
         "Disco Superfly",
         "Mikerphone Brewing",
         "Chicago, IL",
         "American IPA",
         "24 oz.",
         "8.0",
         null
        ],
        [
         "156",
         "Misty Mountain Hop",
         "Mikerphone Brewing",
         "Chicago, IL",
         "American IPA",
         "24 oz.",
         "7.5",
         null
        ],
        [
         "157",
         "One-Hit Wonderful",
         "Mikerphone Brewing",
         "Chicago, IL",
         "Belgian IPA",
         "24 oz.",
         "7.5",
         null
        ],
        [
         "160",
         "Love In An Ellavator",
         "Mikerphone Brewing",
         "Chicago, IL",
         "American IPA",
         "24 oz.",
         "7.5",
         null
        ],
        [
         "168",
         "Soul Doubt",
         "Freetail Brewing Company",
         "San Antonio, TX",
         "American IPA",
         "12 oz.",
         "5.9",
         "70.0"
        ],
        [
         "170",
         "Bimini Twist",
         "3 Daughters Brewing",
         "St Petersburg, FL",
         "American IPA",
         "12 oz.",
         "7.0",
         "82.0"
        ],
        [
         "174",
         "Pump House IPA",
         "Red Shedman Farm Brewery and Hop...",
         "Mt. Airy, MD",
         "American IPA",
         "16 oz.",
         "5.5",
         "45.0"
        ]
       ],
       "shape": {
        "columns": 7,
        "rows": 571
       }
      },
      "text/html": [
       "<div>\n",
       "<style scoped>\n",
       "    .dataframe tbody tr th:only-of-type {\n",
       "        vertical-align: middle;\n",
       "    }\n",
       "\n",
       "    .dataframe tbody tr th {\n",
       "        vertical-align: top;\n",
       "    }\n",
       "\n",
       "    .dataframe thead th {\n",
       "        text-align: right;\n",
       "    }\n",
       "</style>\n",
       "<table border=\"1\" class=\"dataframe\">\n",
       "  <thead>\n",
       "    <tr style=\"text-align: right;\">\n",
       "      <th></th>\n",
       "      <th>Beer</th>\n",
       "      <th>Brewery</th>\n",
       "      <th>Location</th>\n",
       "      <th>Style</th>\n",
       "      <th>Size</th>\n",
       "      <th>ABV</th>\n",
       "      <th>IBUs</th>\n",
       "    </tr>\n",
       "  </thead>\n",
       "  <tbody>\n",
       "    <tr>\n",
       "      <th>0</th>\n",
       "      <td>Get Together</td>\n",
       "      <td>NorthGate Brewing</td>\n",
       "      <td>Minneapolis, MN</td>\n",
       "      <td>American IPA</td>\n",
       "      <td>16 oz.</td>\n",
       "      <td>4.5</td>\n",
       "      <td>50.0</td>\n",
       "    </tr>\n",
       "    <tr>\n",
       "      <th>6</th>\n",
       "      <td>Citra Ass Down</td>\n",
       "      <td>Against the Grain Brewery</td>\n",
       "      <td>Louisville, KY</td>\n",
       "      <td>American Double / Imperial IPA</td>\n",
       "      <td>16 oz.</td>\n",
       "      <td>8.0</td>\n",
       "      <td>68.0</td>\n",
       "    </tr>\n",
       "    <tr>\n",
       "      <th>14</th>\n",
       "      <td>Rico Sauvin</td>\n",
       "      <td>Against the Grain Brewery</td>\n",
       "      <td>Louisville, KY</td>\n",
       "      <td>American Double / Imperial IPA</td>\n",
       "      <td>16 oz.</td>\n",
       "      <td>7.6</td>\n",
       "      <td>68.0</td>\n",
       "    </tr>\n",
       "    <tr>\n",
       "      <th>17</th>\n",
       "      <td>Pile of Face</td>\n",
       "      <td>Against the Grain Brewery</td>\n",
       "      <td>Louisville, KY</td>\n",
       "      <td>American IPA</td>\n",
       "      <td>16 oz.</td>\n",
       "      <td>6.0</td>\n",
       "      <td>65.0</td>\n",
       "    </tr>\n",
       "    <tr>\n",
       "      <th>24</th>\n",
       "      <td>Habitus (2014)</td>\n",
       "      <td>Mike Hess Brewing Company</td>\n",
       "      <td>San Diego, CA</td>\n",
       "      <td>American Double / Imperial IPA</td>\n",
       "      <td>16 oz.</td>\n",
       "      <td>8.0</td>\n",
       "      <td>100.0</td>\n",
       "    </tr>\n",
       "    <tr>\n",
       "      <th>...</th>\n",
       "      <td>...</td>\n",
       "      <td>...</td>\n",
       "      <td>...</td>\n",
       "      <td>...</td>\n",
       "      <td>...</td>\n",
       "      <td>...</td>\n",
       "      <td>...</td>\n",
       "    </tr>\n",
       "    <tr>\n",
       "      <th>2403</th>\n",
       "      <td>Abrasive Ale</td>\n",
       "      <td>Surly Brewing Company</td>\n",
       "      <td>Brooklyn Center, MN</td>\n",
       "      <td>American Double / Imperial IPA</td>\n",
       "      <td>16 oz.</td>\n",
       "      <td>9.7</td>\n",
       "      <td>120.0</td>\n",
       "    </tr>\n",
       "    <tr>\n",
       "      <th>2406</th>\n",
       "      <td>Furious</td>\n",
       "      <td>Surly Brewing Company</td>\n",
       "      <td>Brooklyn Center, MN</td>\n",
       "      <td>American IPA</td>\n",
       "      <td>16 oz.</td>\n",
       "      <td>6.2</td>\n",
       "      <td>99.0</td>\n",
       "    </tr>\n",
       "    <tr>\n",
       "      <th>2408</th>\n",
       "      <td>Brew Free! or Die IPA</td>\n",
       "      <td>21st Amendment Brewery</td>\n",
       "      <td>San Francisco, CA</td>\n",
       "      <td>American IPA</td>\n",
       "      <td>12 oz.</td>\n",
       "      <td>7.0</td>\n",
       "      <td>65.0</td>\n",
       "    </tr>\n",
       "    <tr>\n",
       "      <th>2412</th>\n",
       "      <td>GUBNA Imperial IPA</td>\n",
       "      <td>Oskar Blues Brewery</td>\n",
       "      <td>Longmont, CO</td>\n",
       "      <td>American Double / Imperial IPA</td>\n",
       "      <td>12 oz.</td>\n",
       "      <td>9.9</td>\n",
       "      <td>100.0</td>\n",
       "    </tr>\n",
       "    <tr>\n",
       "      <th>2414</th>\n",
       "      <td>Gordon Ale (2009)</td>\n",
       "      <td>Oskar Blues Brewery</td>\n",
       "      <td>Longmont, CO</td>\n",
       "      <td>American Double / Imperial IPA</td>\n",
       "      <td>12 oz.</td>\n",
       "      <td>8.7</td>\n",
       "      <td>85.0</td>\n",
       "    </tr>\n",
       "  </tbody>\n",
       "</table>\n",
       "<p>571 rows × 7 columns</p>\n",
       "</div>"
      ],
      "text/plain": [
       "                       Beer                    Brewery             Location  \\\n",
       "0              Get Together          NorthGate Brewing      Minneapolis, MN   \n",
       "6            Citra Ass Down  Against the Grain Brewery       Louisville, KY   \n",
       "14              Rico Sauvin  Against the Grain Brewery       Louisville, KY   \n",
       "17             Pile of Face  Against the Grain Brewery       Louisville, KY   \n",
       "24           Habitus (2014)  Mike Hess Brewing Company        San Diego, CA   \n",
       "...                     ...                        ...                  ...   \n",
       "2403           Abrasive Ale      Surly Brewing Company  Brooklyn Center, MN   \n",
       "2406                Furious      Surly Brewing Company  Brooklyn Center, MN   \n",
       "2408  Brew Free! or Die IPA     21st Amendment Brewery    San Francisco, CA   \n",
       "2412     GUBNA Imperial IPA        Oskar Blues Brewery         Longmont, CO   \n",
       "2414      Gordon Ale (2009)        Oskar Blues Brewery         Longmont, CO   \n",
       "\n",
       "                               Style    Size  ABV   IBUs  \n",
       "0                       American IPA  16 oz.  4.5   50.0  \n",
       "6     American Double / Imperial IPA  16 oz.  8.0   68.0  \n",
       "14    American Double / Imperial IPA  16 oz.  7.6   68.0  \n",
       "17                      American IPA  16 oz.  6.0   65.0  \n",
       "24    American Double / Imperial IPA  16 oz.  8.0  100.0  \n",
       "...                              ...     ...  ...    ...  \n",
       "2403  American Double / Imperial IPA  16 oz.  9.7  120.0  \n",
       "2406                    American IPA  16 oz.  6.2   99.0  \n",
       "2408                    American IPA  12 oz.  7.0   65.0  \n",
       "2412  American Double / Imperial IPA  12 oz.  9.9  100.0  \n",
       "2414  American Double / Imperial IPA  12 oz.  8.7   85.0  \n",
       "\n",
       "[571 rows x 7 columns]"
      ]
     },
     "execution_count": 21,
     "metadata": {},
     "output_type": "execute_result"
    }
   ],
   "source": [
    "df[df['Style'] .str.contains(\"IPA\", na=False)]"
   ]
  },
  {
   "cell_type": "markdown",
   "metadata": {},
   "source": [
    "IPAs are usually pretty hoppy and bitter. IBU stands for [International Bitterness Unit](http://www.thebrewenthusiast.com/ibus/), and while a lot of places like to brag about having the most bitter beer (it's an American thing!), IBUs don't necessary *mean anything*.\n",
    "\n",
    "Let's look at how different beers have different IBU measurements."
   ]
  },
  {
   "cell_type": "markdown",
   "metadata": {},
   "source": [
    "## Try to get the average IBU measurement across all beers"
   ]
  },
  {
   "cell_type": "code",
   "execution_count": 22,
   "metadata": {},
   "outputs": [
    {
     "data": {
      "text/plain": [
       "array([ 50.,  26.,  19.,  38.,  25.,  47.,  68.,  80.,  42.,  21.,  13.,\n",
       "        17.,  nan,  65.,  20.,  18.,  15.,  45., 100.,  85.,  24.,  30.,\n",
       "        28.,  16.,  75.,  35.,  54.,  12.,  10.,  40.,  72.,  90.,  46.,\n",
       "        64.,  31.,  37.,  27.,  58.,  29.,  23.,  22.,  11.,  60.,   8.,\n",
       "        34.,  52.,  70.,  51.,  44.,  33.,   5.,  82., 115.,  69.,  55.,\n",
       "        63.,  67.,  93.,  66., 126.,  61.,  36.,  87.,  88., 103.,   6.,\n",
       "         9.,  14.,  49.,  32.,  89.,  43.,  71.,   7.,  73.,  41.,  53.,\n",
       "        62.,  77.,  86., 118.,  81., 130.,  99.,  76.,  48.,  39.,  83.,\n",
       "       108.,  74., 104., 110., 111., 135.,  95.,  92.,  78., 101.,  94.,\n",
       "        98.,  57.,   4., 120., 138., 105.,  91.,  97., 113.])"
      ]
     },
     "execution_count": 22,
     "metadata": {},
     "output_type": "execute_result"
    }
   ],
   "source": [
    "df['IBUs'].unique()\n",
    "\n",
    "# df['IBUs'] = df['IBUs'].astype('int')"
   ]
  },
  {
   "cell_type": "markdown",
   "metadata": {},
   "source": [
    "### Oh no, it doesn't work!\n",
    "\n",
    "It looks like some of those values *aren't numbers*. There are two ways to fix this:\n",
    "\n",
    "- *Tip: If you use [`na_values=`](http://pandas.pydata.org/pandas-docs/version/0.23/generated/pandas.read_csv.html). be sure to go add it up top and run all of your cells again. You can also use `.replace` but I don't think that's as good of an idea.*\n",
    "- *Tip: Make sure you're giving `na_values=` a LIST, not just a string*\n",
    "\n",
    "### Now try to get the average IBUs again"
   ]
  },
  {
   "cell_type": "code",
   "execution_count": 23,
   "metadata": {},
   "outputs": [
    {
     "data": {
      "text/plain": [
       "np.float64(42.71316725978647)"
      ]
     },
     "execution_count": 23,
     "metadata": {},
     "output_type": "execute_result"
    }
   ],
   "source": [
    "df['IBUs'] = df['IBUs'].astype('Int64')\n",
    "df['IBUs'].mean()"
   ]
  },
  {
   "cell_type": "markdown",
   "metadata": {},
   "source": [
    "## Draw the distribution of IBU measurements, but with *twenty* bins instead of the default of 10\n",
    "\n",
    "- *Tip: Every time I ask for a distribution, I'm looking for a histogram*"
   ]
  },
  {
   "cell_type": "code",
   "execution_count": 24,
   "metadata": {},
   "outputs": [
    {
     "data": {
      "text/plain": [
       "<Axes: >"
      ]
     },
     "execution_count": 24,
     "metadata": {},
     "output_type": "execute_result"
    },
    {
     "data": {
      "image/png": "[encoded data removed]",
      "text/plain": [
       "<Figure size 640x480 with 1 Axes>"
      ]
     },
     "metadata": {},
     "output_type": "display_data"
    }
   ],
   "source": [
    "df['IBUs'].hist(bins=20)"
   ]
  },
  {
   "cell_type": "markdown",
   "metadata": {},
   "source": [
    "## Hm, Interesting distribution. List all of the beers with IBUs above the 75th percentile\n",
    "\n",
    "- *Tip: There's a single command that gives you the 25/50/75th percentile*\n",
    "- *Tip: You can just manually type the number when you list those beers*"
   ]
  },
  {
   "cell_type": "code",
   "execution_count": 25,
   "metadata": {},
   "outputs": [
    {
     "data": {
      "application/vnd.microsoft.datawrangler.viewer.v0+json": {
       "columns": [
        {
         "name": "index",
         "rawType": "object",
         "type": "string"
        },
        {
         "name": "IBUs",
         "rawType": "Float64",
         "type": "float"
        }
       ],
       "ref": "1ee9e230-e619-4451-8641-f5cf1ef1c5c2",
       "rows": [
        [
         "count",
         "1405.0"
        ],
        [
         "mean",
         "42.71316725978647"
        ],
        [
         "std",
         "25.954065911259313"
        ],
        [
         "min",
         "4.0"
        ],
        [
         "25%",
         "21.0"
        ],
        [
         "50%",
         "35.0"
        ],
        [
         "75%",
         "64.0"
        ],
        [
         "max",
         "138.0"
        ]
       ],
       "shape": {
        "columns": 1,
        "rows": 8
       }
      },
      "text/plain": [
       "count       1405.0\n",
       "mean     42.713167\n",
       "std      25.954066\n",
       "min            4.0\n",
       "25%           21.0\n",
       "50%           35.0\n",
       "75%           64.0\n",
       "max          138.0\n",
       "Name: IBUs, dtype: Float64"
      ]
     },
     "execution_count": 25,
     "metadata": {},
     "output_type": "execute_result"
    }
   ],
   "source": [
    "df['IBUs'].describe()"
   ]
  },
  {
   "cell_type": "code",
   "execution_count": 26,
   "metadata": {},
   "outputs": [
    {
     "data": {
      "text/plain": [
       "np.int64(64)"
      ]
     },
     "execution_count": 26,
     "metadata": {},
     "output_type": "execute_result"
    }
   ],
   "source": [
    "df['IBUs'].quantile(0.75)"
   ]
  },
  {
   "cell_type": "code",
   "execution_count": 27,
   "metadata": {},
   "outputs": [
    {
     "data": {
      "application/vnd.microsoft.datawrangler.viewer.v0+json": {
       "columns": [
        {
         "name": "index",
         "rawType": "int64",
         "type": "integer"
        },
        {
         "name": "Beer",
         "rawType": "object",
         "type": "string"
        },
        {
         "name": "Brewery",
         "rawType": "object",
         "type": "string"
        },
        {
         "name": "Location",
         "rawType": "object",
         "type": "string"
        },
        {
         "name": "Style",
         "rawType": "object",
         "type": "string"
        },
        {
         "name": "Size",
         "rawType": "object",
         "type": "string"
        },
        {
         "name": "ABV",
         "rawType": "float64",
         "type": "float"
        },
        {
         "name": "IBUs",
         "rawType": "Int64",
         "type": "integer"
        }
       ],
       "ref": "bd303d37-f113-4492-8872-051ec36ab9fb",
       "rows": [
        [
         "6",
         "Citra Ass Down",
         "Against the Grain Brewery",
         "Louisville, KY",
         "American Double / Imperial IPA",
         "16 oz.",
         "8.0",
         "68"
        ],
        [
         "7",
         "London Balling",
         "Against the Grain Brewery",
         "Louisville, KY",
         "English Barleywine",
         "16 oz.",
         "12.5",
         "80"
        ],
        [
         "14",
         "Rico Sauvin",
         "Against the Grain Brewery",
         "Louisville, KY",
         "American Double / Imperial IPA",
         "16 oz.",
         "7.6",
         "68"
        ],
        [
         "17",
         "Pile of Face",
         "Against the Grain Brewery",
         "Louisville, KY",
         "American IPA",
         "16 oz.",
         "6.0",
         "65"
        ],
        [
         "21",
         "Excess IPL",
         "Jack's Abby Craft Lagers",
         "Framingham, MA",
         "American India Pale Lager",
         "16 oz.",
         "7.2",
         "80"
        ],
        [
         "22",
         "Hoponius Union",
         "Jack's Abby Craft Lagers",
         "Framingham, MA",
         "American India Pale Lager",
         "12 oz.",
         "6.7",
         "65"
        ],
        [
         "24",
         "Habitus (2014)",
         "Mike Hess Brewing Company",
         "San Diego, CA",
         "American Double / Imperial IPA",
         "16 oz.",
         "8.0",
         "100"
        ],
        [
         "25",
         "Solis",
         "Mike Hess Brewing Company",
         "San Diego, CA",
         "American IPA",
         "16 oz.",
         "7.5",
         "85"
        ],
        [
         "27",
         "Habitus",
         "Mike Hess Brewing Company",
         "San Diego, CA",
         "American Double / Imperial IPA",
         "16 oz.",
         "8.0",
         "100"
        ],
        [
         "46",
         "Yeti Imperial Stout",
         "Great Divide Brewing Company",
         "Denver, CO",
         "Russian Imperial Stout",
         "12 oz.",
         "9.5",
         "75"
        ],
        [
         "59",
         "98 Problems (Cuz A Hop Ain't One)",
         "Perrin Brewing Company",
         "Comstock Park, MI",
         "American IPA",
         "12 oz.",
         "6.5",
         "65"
        ],
        [
         "62",
         "Train Hopper",
         "Witch's Hat Brewing Company",
         "South Lyon, MI",
         "American IPA",
         "12 oz.",
         "5.8",
         "72"
        ],
        [
         "68",
         "Csar",
         "Tin Man Brewing Company",
         "Evansville, IN",
         "Russian Imperial Stout",
         "16 oz.",
         "12.0",
         "90"
        ],
        [
         "69",
         "Saucy Intruder",
         "Black Acre Brewing Co.",
         "Indianapolis, IN",
         "Rye Beer",
         "16 oz.",
         "7.2",
         "75"
        ],
        [
         "79",
         "The Gadget",
         "Four Fathers Brewing",
         "Valparaiso, IN",
         "American IPA",
         "16 oz.",
         "6.4",
         "90"
        ],
        [
         "89",
         "Gone A-Rye",
         "Cedar Creek Brewery",
         "Seven Points, TX",
         "American Double / Imperial IPA",
         "16 oz.",
         "8.5",
         "90"
        ],
        [
         "93",
         "Heavy Lifting",
         "Boulevard Brewing Company",
         "Kansas City, MO",
         "American IPA",
         "12 oz.",
         "6.2",
         "80"
        ],
        [
         "110",
         "Jah Mon",
         "Rivertowne Brewing Company",
         "Export, PA",
         "American IPA",
         "12 oz.",
         "5.0",
         "100"
        ],
        [
         "123",
         "Flying Mouse 4",
         "Flying Mouse Brewery",
         "Troutville, VA",
         "American IPA",
         "12 oz.",
         "7.0",
         "70"
        ],
        [
         "149",
         "Citra Ass Down",
         "Against The Grain Brewery",
         "Louisville, KY",
         "American IPA",
         "16 oz.",
         "8.2",
         "68"
        ],
        [
         "168",
         "Soul Doubt",
         "Freetail Brewing Company",
         "San Antonio, TX",
         "American IPA",
         "12 oz.",
         "5.9",
         "70"
        ],
        [
         "170",
         "Bimini Twist",
         "3 Daughters Brewing",
         "St Petersburg, FL",
         "American IPA",
         "12 oz.",
         "7.0",
         "82"
        ],
        [
         "178",
         "Long Leaf",
         "Appalachian Mountain Brewery",
         "Boone, NC",
         "American IPA",
         "16 oz.",
         "7.1",
         "75"
        ],
        [
         "182",
         "Double Duckpin",
         "Union Craft Brewing",
         "Baltimore, MD",
         "American Double / Imperial IPA",
         "12 oz.",
         "8.5",
         "90"
        ],
        [
         "186",
         "Hop A-Peel",
         "Atwater Brewery",
         "Detroit, MI",
         "American Double / Imperial IPA",
         "16 oz.",
         "7.5",
         "115"
        ],
        [
         "192",
         "Wobble",
         "Two Brothers Brewing Company",
         "Warrenville, IL",
         "American IPA",
         "16 oz.",
         "6.3",
         "69"
        ],
        [
         "218",
         "Hopkick Dropkick",
         "Burn 'Em Brewing",
         "Michigan City, IN",
         "American Double / Imperial IPA",
         "12 oz.",
         "9.9",
         "115"
        ],
        [
         "226",
         "Union Jack",
         "Firestone Walker Brewing Company",
         "Paso Robles, CA",
         "American IPA",
         "12 oz.",
         "7.5",
         "75"
        ],
        [
         "229",
         "India Pale Ale",
         "Kirkwood Station Brewing Company",
         "Kirkwood, MO",
         "American IPA",
         "16 oz.",
         "6.3",
         "65"
        ],
        [
         "239",
         "Self Starter",
         "Warped Wing Brewing Company",
         "Dayton, OH",
         "American IPA",
         "16 oz.",
         "5.2",
         "67"
        ],
        [
         "245",
         "Nugget Nectar",
         "Tröegs Brewing Company",
         "Hershey, PA",
         "American Amber / Red Ale",
         "16 oz.",
         "7.5",
         "93"
        ],
        [
         "248",
         "Mission IPA",
         "Mission Brewery",
         "San Diego, CA",
         "American IPA",
         "32 oz.",
         "6.8",
         "66"
        ],
        [
         "249",
         "Bay of Bengal Double IPA (2014)",
         "Christian Moerlein Brewing Company",
         "Cincinnati, OH",
         "American Double / Imperial IPA",
         "12 oz.",
         "8.9",
         "126"
        ],
        [
         "252",
         "Newport Storm IPA",
         "Coastal Extreme Brewing Company",
         "Newport, RI",
         "American IPA",
         "12 oz.",
         "6.5",
         "75"
        ],
        [
         "263",
         "Clean Shave IPA",
         "Glabrous Brewing Company",
         "Pineland, ME",
         "American IPA",
         "12 oz.",
         "6.7",
         "70"
        ],
        [
         "265",
         "Big Star White IPA",
         "Four String Brewing Company",
         "Columbus, OH",
         "American White IPA",
         "12 oz.",
         "7.0",
         "70"
        ],
        [
         "267",
         "Firestarter India Pale Ale",
         "Bonfire Brewing Company",
         "Eagle, CO",
         "American IPA",
         "12 oz.",
         "6.6",
         "72"
        ],
        [
         "269",
         "Back Bay IPA",
         "Beer Works Brewery",
         "Lowell, MA",
         "American IPA",
         "12 oz.",
         "6.8",
         "85"
        ],
        [
         "272",
         "4000 Footer IPA",
         "Woodstock Inn, Station & Brewery",
         "North Woodstock, NH",
         "American IPA",
         "12 oz.",
         "6.5",
         "82"
        ],
        [
         "274",
         "Unchained #18 Hop Silo",
         "Summit Brewing Company",
         "St. Paul, MN",
         "American Double / Imperial IPA",
         "16 oz.",
         "8.3",
         "100"
        ],
        [
         "279",
         "Harness the Winter",
         "Bent Paddle Brewing Company",
         "Duluth, MN",
         "American IPA",
         "12 oz.",
         "7.2",
         "87"
        ],
        [
         "282",
         "Rule G IPA",
         "Smartmouth Brewing Company",
         "Norfolk, VA",
         "American IPA",
         "12 oz.",
         "7.0",
         "88"
        ],
        [
         "288",
         "Yellow Wolf Imperial IPA",
         "Alameda Brewing",
         "Portland, OR",
         "American Double / Imperial IPA",
         "12 oz.",
         "8.2",
         "103"
        ],
        [
         "303",
         "Third Eye Enlightened Pale Ale",
         "Steamworks Brewing Company",
         "Durango, CO",
         "American Pale Ale (APA)",
         "12 oz.",
         "6.5",
         "65"
        ],
        [
         "316",
         "The Green Room",
         "Uncle Billy's Brewery and Smokeh...",
         "Austin, TX",
         "American IPA",
         "16 oz.",
         "6.0",
         "75"
        ],
        [
         "326",
         "2014 IPA Cicada Series",
         "Southern Prohibition Brewing Com...",
         "Hattiesburg, MS",
         "American IPA",
         "16 oz.",
         "7.5",
         "72"
        ],
        [
         "342",
         "Sinister Minister Black IPA",
         "Southern Prohibition Brewing Com...",
         "Hattiesburg, MS",
         "American IPA",
         "16 oz.",
         "7.7",
         "65"
        ],
        [
         "345",
         "O’Malley’s IPA",
         "Weston Brewing Company",
         "Weston, MO",
         "American IPA",
         "12 oz.",
         "7.5",
         "89"
        ],
        [
         "353",
         "Perpetual Darkness",
         "Odyssey Beerwerks",
         "Arvada, CO",
         "Belgian Strong Dark Ale",
         "12 oz.",
         "9.2",
         "72"
        ],
        [
         "357",
         "Watershed IPA",
         "Oakshire Brewing",
         "Eugene, OR",
         "American IPA",
         "12 oz.",
         "6.7",
         "70"
        ]
       ],
       "shape": {
        "columns": 7,
        "rows": 346
       }
      },
      "text/html": [
       "<div>\n",
       "<style scoped>\n",
       "    .dataframe tbody tr th:only-of-type {\n",
       "        vertical-align: middle;\n",
       "    }\n",
       "\n",
       "    .dataframe tbody tr th {\n",
       "        vertical-align: top;\n",
       "    }\n",
       "\n",
       "    .dataframe thead th {\n",
       "        text-align: right;\n",
       "    }\n",
       "</style>\n",
       "<table border=\"1\" class=\"dataframe\">\n",
       "  <thead>\n",
       "    <tr style=\"text-align: right;\">\n",
       "      <th></th>\n",
       "      <th>Beer</th>\n",
       "      <th>Brewery</th>\n",
       "      <th>Location</th>\n",
       "      <th>Style</th>\n",
       "      <th>Size</th>\n",
       "      <th>ABV</th>\n",
       "      <th>IBUs</th>\n",
       "    </tr>\n",
       "  </thead>\n",
       "  <tbody>\n",
       "    <tr>\n",
       "      <th>6</th>\n",
       "      <td>Citra Ass Down</td>\n",
       "      <td>Against the Grain Brewery</td>\n",
       "      <td>Louisville, KY</td>\n",
       "      <td>American Double / Imperial IPA</td>\n",
       "      <td>16 oz.</td>\n",
       "      <td>8.0</td>\n",
       "      <td>68</td>\n",
       "    </tr>\n",
       "    <tr>\n",
       "      <th>7</th>\n",
       "      <td>London Balling</td>\n",
       "      <td>Against the Grain Brewery</td>\n",
       "      <td>Louisville, KY</td>\n",
       "      <td>English Barleywine</td>\n",
       "      <td>16 oz.</td>\n",
       "      <td>12.5</td>\n",
       "      <td>80</td>\n",
       "    </tr>\n",
       "    <tr>\n",
       "      <th>14</th>\n",
       "      <td>Rico Sauvin</td>\n",
       "      <td>Against the Grain Brewery</td>\n",
       "      <td>Louisville, KY</td>\n",
       "      <td>American Double / Imperial IPA</td>\n",
       "      <td>16 oz.</td>\n",
       "      <td>7.6</td>\n",
       "      <td>68</td>\n",
       "    </tr>\n",
       "    <tr>\n",
       "      <th>17</th>\n",
       "      <td>Pile of Face</td>\n",
       "      <td>Against the Grain Brewery</td>\n",
       "      <td>Louisville, KY</td>\n",
       "      <td>American IPA</td>\n",
       "      <td>16 oz.</td>\n",
       "      <td>6.0</td>\n",
       "      <td>65</td>\n",
       "    </tr>\n",
       "    <tr>\n",
       "      <th>21</th>\n",
       "      <td>Excess IPL</td>\n",
       "      <td>Jack's Abby Craft Lagers</td>\n",
       "      <td>Framingham, MA</td>\n",
       "      <td>American India Pale Lager</td>\n",
       "      <td>16 oz.</td>\n",
       "      <td>7.2</td>\n",
       "      <td>80</td>\n",
       "    </tr>\n",
       "    <tr>\n",
       "      <th>...</th>\n",
       "      <td>...</td>\n",
       "      <td>...</td>\n",
       "      <td>...</td>\n",
       "      <td>...</td>\n",
       "      <td>...</td>\n",
       "      <td>...</td>\n",
       "      <td>...</td>\n",
       "    </tr>\n",
       "    <tr>\n",
       "      <th>2408</th>\n",
       "      <td>Brew Free! or Die IPA</td>\n",
       "      <td>21st Amendment Brewery</td>\n",
       "      <td>San Francisco, CA</td>\n",
       "      <td>American IPA</td>\n",
       "      <td>12 oz.</td>\n",
       "      <td>7.0</td>\n",
       "      <td>65</td>\n",
       "    </tr>\n",
       "    <tr>\n",
       "      <th>2410</th>\n",
       "      <td>Ten Fidy Imperial Stout</td>\n",
       "      <td>Oskar Blues Brewery</td>\n",
       "      <td>Longmont, CO</td>\n",
       "      <td>Russian Imperial Stout</td>\n",
       "      <td>12 oz.</td>\n",
       "      <td>9.9</td>\n",
       "      <td>98</td>\n",
       "    </tr>\n",
       "    <tr>\n",
       "      <th>2412</th>\n",
       "      <td>GUBNA Imperial IPA</td>\n",
       "      <td>Oskar Blues Brewery</td>\n",
       "      <td>Longmont, CO</td>\n",
       "      <td>American Double / Imperial IPA</td>\n",
       "      <td>12 oz.</td>\n",
       "      <td>9.9</td>\n",
       "      <td>100</td>\n",
       "    </tr>\n",
       "    <tr>\n",
       "      <th>2414</th>\n",
       "      <td>Gordon Ale (2009)</td>\n",
       "      <td>Oskar Blues Brewery</td>\n",
       "      <td>Longmont, CO</td>\n",
       "      <td>American Double / Imperial IPA</td>\n",
       "      <td>12 oz.</td>\n",
       "      <td>8.7</td>\n",
       "      <td>85</td>\n",
       "    </tr>\n",
       "    <tr>\n",
       "      <th>2415</th>\n",
       "      <td>Dale's Pale Ale</td>\n",
       "      <td>Oskar Blues Brewery</td>\n",
       "      <td>Longmont, CO</td>\n",
       "      <td>American Pale Ale (APA)</td>\n",
       "      <td>12 oz.</td>\n",
       "      <td>6.5</td>\n",
       "      <td>65</td>\n",
       "    </tr>\n",
       "  </tbody>\n",
       "</table>\n",
       "<p>346 rows × 7 columns</p>\n",
       "</div>"
      ],
      "text/plain": [
       "                         Beer                    Brewery           Location  \\\n",
       "6              Citra Ass Down  Against the Grain Brewery     Louisville, KY   \n",
       "7              London Balling  Against the Grain Brewery     Louisville, KY   \n",
       "14                Rico Sauvin  Against the Grain Brewery     Louisville, KY   \n",
       "17               Pile of Face  Against the Grain Brewery     Louisville, KY   \n",
       "21                 Excess IPL   Jack's Abby Craft Lagers     Framingham, MA   \n",
       "...                       ...                        ...                ...   \n",
       "2408    Brew Free! or Die IPA     21st Amendment Brewery  San Francisco, CA   \n",
       "2410  Ten Fidy Imperial Stout        Oskar Blues Brewery       Longmont, CO   \n",
       "2412       GUBNA Imperial IPA        Oskar Blues Brewery       Longmont, CO   \n",
       "2414        Gordon Ale (2009)        Oskar Blues Brewery       Longmont, CO   \n",
       "2415          Dale's Pale Ale        Oskar Blues Brewery       Longmont, CO   \n",
       "\n",
       "                               Style    Size   ABV  IBUs  \n",
       "6     American Double / Imperial IPA  16 oz.   8.0    68  \n",
       "7                 English Barleywine  16 oz.  12.5    80  \n",
       "14    American Double / Imperial IPA  16 oz.   7.6    68  \n",
       "17                      American IPA  16 oz.   6.0    65  \n",
       "21         American India Pale Lager  16 oz.   7.2    80  \n",
       "...                              ...     ...   ...   ...  \n",
       "2408                    American IPA  12 oz.   7.0    65  \n",
       "2410          Russian Imperial Stout  12 oz.   9.9    98  \n",
       "2412  American Double / Imperial IPA  12 oz.   9.9   100  \n",
       "2414  American Double / Imperial IPA  12 oz.   8.7    85  \n",
       "2415         American Pale Ale (APA)  12 oz.   6.5    65  \n",
       "\n",
       "[346 rows x 7 columns]"
      ]
     },
     "execution_count": 27,
     "metadata": {},
     "output_type": "execute_result"
    }
   ],
   "source": [
    "\n",
    "df[df['IBUs'] > df['IBUs'].quantile(0.75)]"
   ]
  },
  {
   "cell_type": "markdown",
   "metadata": {},
   "source": [
    "## List all of the beers with IBUs below the 25th percentile"
   ]
  },
  {
   "cell_type": "code",
   "execution_count": 28,
   "metadata": {},
   "outputs": [
    {
     "data": {
      "application/vnd.microsoft.datawrangler.viewer.v0+json": {
       "columns": [
        {
         "name": "index",
         "rawType": "int64",
         "type": "integer"
        },
        {
         "name": "Beer",
         "rawType": "object",
         "type": "string"
        },
        {
         "name": "Brewery",
         "rawType": "object",
         "type": "string"
        },
        {
         "name": "Location",
         "rawType": "object",
         "type": "string"
        },
        {
         "name": "Style",
         "rawType": "object",
         "type": "unknown"
        },
        {
         "name": "Size",
         "rawType": "object",
         "type": "string"
        },
        {
         "name": "ABV",
         "rawType": "float64",
         "type": "float"
        },
        {
         "name": "IBUs",
         "rawType": "Int64",
         "type": "integer"
        }
       ],
       "ref": "591c9163-a32c-42fc-bd5b-6cf48bcaea10",
       "rows": [
        [
         "0",
         "Get Together",
         "NorthGate Brewing",
         "Minneapolis, MN",
         "American IPA",
         "16 oz.",
         "4.5",
         "50"
        ],
        [
         "1",
         "Maggie's Leap",
         "NorthGate Brewing",
         "Minneapolis, MN",
         "Milk / Sweet Stout",
         "16 oz.",
         "4.9",
         "26"
        ],
        [
         "3",
         "Pumpion",
         "NorthGate Brewing",
         "Minneapolis, MN",
         "Pumpkin Ale",
         "16 oz.",
         "6.0",
         "38"
        ],
        [
         "4",
         "Stronghold",
         "NorthGate Brewing",
         "Minneapolis, MN",
         "American Porter",
         "16 oz.",
         "6.0",
         "25"
        ],
        [
         "5",
         "Parapet ESB",
         "NorthGate Brewing",
         "Minneapolis, MN",
         "Extra Special / Strong Bitter (ESB)",
         "16 oz.",
         "5.6",
         "47"
        ],
        [
         "6",
         "Citra Ass Down",
         "Against the Grain Brewery",
         "Louisville, KY",
         "American Double / Imperial IPA",
         "16 oz.",
         "8.0",
         "68"
        ],
        [
         "7",
         "London Balling",
         "Against the Grain Brewery",
         "Louisville, KY",
         "English Barleywine",
         "16 oz.",
         "12.5",
         "80"
        ],
        [
         "8",
         "35 K",
         "Against the Grain Brewery",
         "Louisville, KY",
         "Milk / Sweet Stout",
         "16 oz.",
         "7.7",
         "25"
        ],
        [
         "9",
         "A Beer",
         "Against the Grain Brewery",
         "Louisville, KY",
         "American Pale Ale (APA)",
         "16 oz.",
         "4.2",
         "42"
        ],
        [
         "10",
         "Rules are Rules",
         "Against the Grain Brewery",
         "Louisville, KY",
         "German Pilsener",
         "16 oz.",
         "5.0",
         "25"
        ],
        [
         "14",
         "Rico Sauvin",
         "Against the Grain Brewery",
         "Louisville, KY",
         "American Double / Imperial IPA",
         "16 oz.",
         "7.6",
         "68"
        ],
        [
         "15",
         "Coq de la Marche",
         "Against the Grain Brewery",
         "Louisville, KY",
         "Saison / Farmhouse Ale",
         "16 oz.",
         "5.1",
         "38"
        ],
        [
         "17",
         "Pile of Face",
         "Against the Grain Brewery",
         "Louisville, KY",
         "American IPA",
         "16 oz.",
         "6.0",
         "65"
        ],
        [
         "21",
         "Excess IPL",
         "Jack's Abby Craft Lagers",
         "Framingham, MA",
         "American India Pale Lager",
         "16 oz.",
         "7.2",
         "80"
        ],
        [
         "22",
         "Hoponius Union",
         "Jack's Abby Craft Lagers",
         "Framingham, MA",
         "American India Pale Lager",
         "12 oz.",
         "6.7",
         "65"
        ],
        [
         "23",
         "Calyptra",
         "Jack's Abby Craft Lagers",
         "Framingham, MA",
         "American India Pale Lager",
         "12 oz.",
         "4.9",
         "45"
        ],
        [
         "24",
         "Habitus (2014)",
         "Mike Hess Brewing Company",
         "San Diego, CA",
         "American Double / Imperial IPA",
         "16 oz.",
         "8.0",
         "100"
        ],
        [
         "25",
         "Solis",
         "Mike Hess Brewing Company",
         "San Diego, CA",
         "American IPA",
         "16 oz.",
         "7.5",
         "85"
        ],
        [
         "26",
         "Jucundus",
         "Mike Hess Brewing Company",
         "San Diego, CA",
         "Wheat Ale",
         "16 oz.",
         "6.0",
         "24"
        ],
        [
         "27",
         "Habitus",
         "Mike Hess Brewing Company",
         "San Diego, CA",
         "American Double / Imperial IPA",
         "16 oz.",
         "8.0",
         "100"
        ],
        [
         "28",
         "Grazias",
         "Mike Hess Brewing Company",
         "San Diego, CA",
         "Cream Ale",
         "16 oz.",
         "6.3",
         "30"
        ],
        [
         "29",
         "Claritas",
         "Mike Hess Brewing Company",
         "San Diego, CA",
         "Kölsch",
         "16 oz.",
         "5.8",
         "28"
        ],
        [
         "33",
         "Villager",
         "Fort Point Beer Company",
         "San Francisco, CA",
         "American IPA",
         "12 oz.",
         "6.3",
         "42"
        ],
        [
         "46",
         "Yeti Imperial Stout",
         "Great Divide Brewing Company",
         "Denver, CO",
         "Russian Imperial Stout",
         "12 oz.",
         "9.5",
         "75"
        ],
        [
         "49",
         "Peck's Porter",
         "Tapistry Brewing",
         "Bridgman, MI",
         "American Porter",
         "16 oz.",
         "6.5",
         "35"
        ],
        [
         "50",
         "Dark Star",
         "Big Lake Brewing",
         "Holland, MI",
         "American Stout",
         "16 oz.",
         "8.0",
         "54"
        ],
        [
         "55",
         "Nordskye",
         "Blackrocks Brewery",
         "Marquette, MI",
         "American IPA",
         "12 oz.",
         "4.8",
         "47"
        ],
        [
         "59",
         "98 Problems (Cuz A Hop Ain't One)",
         "Perrin Brewing Company",
         "Comstock Park, MI",
         "American IPA",
         "12 oz.",
         "6.5",
         "65"
        ],
        [
         "60",
         "Veteran’s Pale Ale (VPA)",
         "Perrin Brewing Company",
         "Comstock Park, MI",
         "American Pale Ale (APA)",
         "12 oz.",
         "5.0",
         "40"
        ],
        [
         "61",
         "Grapefruit IPA",
         "Perrin Brewing Company",
         "Comstock Park, MI",
         "American IPA",
         "12 oz.",
         "5.0",
         "35"
        ],
        [
         "62",
         "Train Hopper",
         "Witch's Hat Brewing Company",
         "South Lyon, MI",
         "American IPA",
         "12 oz.",
         "5.8",
         "72"
        ],
        [
         "64",
         "Dirty Bastard",
         "Founders Brewing Company",
         "Grand Rapids, MI",
         "Scotch Ale / Wee Heavy",
         "12 oz.",
         "8.5",
         "50"
        ],
        [
         "68",
         "Csar",
         "Tin Man Brewing Company",
         "Evansville, IN",
         "Russian Imperial Stout",
         "16 oz.",
         "12.0",
         "90"
        ],
        [
         "69",
         "Saucy Intruder",
         "Black Acre Brewing Co.",
         "Indianapolis, IN",
         "Rye Beer",
         "16 oz.",
         "7.2",
         "75"
        ],
        [
         "71",
         "Thai.p.a",
         "Bare Hands Brewery",
         "Granger, IN",
         "American IPA",
         "16 oz.",
         "7.0",
         "46"
        ],
        [
         "72",
         "Citra Faced",
         "Three Pints Brewing",
         "Martinsville, IN",
         "American Pale Wheat Ale",
         "16 oz.",
         "5.5",
         "64"
        ],
        [
         "73",
         "Pole Barn Stout",
         "Three Pints Brewing",
         "Martinsville, IN",
         "Oatmeal Stout",
         "16 oz.",
         "5.5",
         "31"
        ],
        [
         "74",
         "Pale",
         "Three Pints Brewing",
         "Martinsville, IN",
         "American Pale Ale (APA)",
         "16 oz.",
         "5.4",
         "37"
        ],
        [
         "75",
         "Yoshi's Nectar",
         "Three Pints Brewing",
         "Martinsville, IN",
         "California Common / Steam Beer",
         "16 oz.",
         "5.3",
         "27"
        ],
        [
         "79",
         "The Gadget",
         "Four Fathers Brewing",
         "Valparaiso, IN",
         "American IPA",
         "16 oz.",
         "6.4",
         "90"
        ],
        [
         "80",
         "Tribute",
         "Indiana City Brewing",
         "Indianapolis, IN",
         "American Pale Ale (APA)",
         "12 oz.",
         "5.8",
         "58"
        ],
        [
         "84",
         "Tip Off",
         "Sun King Brewing Company",
         "Indianapolis, IN",
         "Altbier",
         "16 oz.",
         "5.2",
         "29"
        ],
        [
         "85",
         "Blonde Czich",
         "Evil Czech Brewery",
         "Mishawaka, IN",
         "American Blonde Ale",
         "16 oz.",
         "4.9",
         "23"
        ],
        [
         "87",
         "Citrafest",
         "450 North Brewing Company",
         "Columbus, IN",
         "American IPA",
         "16 oz.",
         "5.0",
         "45"
        ],
        [
         "88",
         "Deduction",
         "Taxman Brewing Company",
         "Bargersville, IN",
         "Dubbel",
         "12 oz.",
         "8.0",
         "22"
        ],
        [
         "89",
         "Gone A-Rye",
         "Cedar Creek Brewery",
         "Seven Points, TX",
         "American Double / Imperial IPA",
         "16 oz.",
         "8.5",
         "90"
        ],
        [
         "93",
         "Heavy Lifting",
         "Boulevard Brewing Company",
         "Kansas City, MO",
         "American IPA",
         "12 oz.",
         "6.2",
         "80"
        ],
        [
         "95",
         "Surfrider",
         "The Dudes' Brewing Company",
         "Torrance, CA",
         "American Pale Ale (APA)",
         "16 oz.",
         "5.2",
         "35"
        ],
        [
         "99",
         "Czech Yo Self",
         "Figueroa Mountain Brewing Company",
         "Buellton, CA",
         "Czech Pilsener",
         "12 oz.",
         "5.5",
         "45"
        ],
        [
         "101",
         "Cow Creek",
         "Twisted X Brewing Company",
         "Dripping Springs, TX",
         "American Amber / Red Lager",
         "12 oz.",
         "5.4",
         "26"
        ]
       ],
       "shape": {
        "columns": 7,
        "rows": 1045
       }
      },
      "text/html": [
       "<div>\n",
       "<style scoped>\n",
       "    .dataframe tbody tr th:only-of-type {\n",
       "        vertical-align: middle;\n",
       "    }\n",
       "\n",
       "    .dataframe tbody tr th {\n",
       "        vertical-align: top;\n",
       "    }\n",
       "\n",
       "    .dataframe thead th {\n",
       "        text-align: right;\n",
       "    }\n",
       "</style>\n",
       "<table border=\"1\" class=\"dataframe\">\n",
       "  <thead>\n",
       "    <tr style=\"text-align: right;\">\n",
       "      <th></th>\n",
       "      <th>Beer</th>\n",
       "      <th>Brewery</th>\n",
       "      <th>Location</th>\n",
       "      <th>Style</th>\n",
       "      <th>Size</th>\n",
       "      <th>ABV</th>\n",
       "      <th>IBUs</th>\n",
       "    </tr>\n",
       "  </thead>\n",
       "  <tbody>\n",
       "    <tr>\n",
       "      <th>0</th>\n",
       "      <td>Get Together</td>\n",
       "      <td>NorthGate Brewing</td>\n",
       "      <td>Minneapolis, MN</td>\n",
       "      <td>American IPA</td>\n",
       "      <td>16 oz.</td>\n",
       "      <td>4.5</td>\n",
       "      <td>50</td>\n",
       "    </tr>\n",
       "    <tr>\n",
       "      <th>1</th>\n",
       "      <td>Maggie's Leap</td>\n",
       "      <td>NorthGate Brewing</td>\n",
       "      <td>Minneapolis, MN</td>\n",
       "      <td>Milk / Sweet Stout</td>\n",
       "      <td>16 oz.</td>\n",
       "      <td>4.9</td>\n",
       "      <td>26</td>\n",
       "    </tr>\n",
       "    <tr>\n",
       "      <th>3</th>\n",
       "      <td>Pumpion</td>\n",
       "      <td>NorthGate Brewing</td>\n",
       "      <td>Minneapolis, MN</td>\n",
       "      <td>Pumpkin Ale</td>\n",
       "      <td>16 oz.</td>\n",
       "      <td>6.0</td>\n",
       "      <td>38</td>\n",
       "    </tr>\n",
       "    <tr>\n",
       "      <th>4</th>\n",
       "      <td>Stronghold</td>\n",
       "      <td>NorthGate Brewing</td>\n",
       "      <td>Minneapolis, MN</td>\n",
       "      <td>American Porter</td>\n",
       "      <td>16 oz.</td>\n",
       "      <td>6.0</td>\n",
       "      <td>25</td>\n",
       "    </tr>\n",
       "    <tr>\n",
       "      <th>5</th>\n",
       "      <td>Parapet ESB</td>\n",
       "      <td>NorthGate Brewing</td>\n",
       "      <td>Minneapolis, MN</td>\n",
       "      <td>Extra Special / Strong Bitter (ESB)</td>\n",
       "      <td>16 oz.</td>\n",
       "      <td>5.6</td>\n",
       "      <td>47</td>\n",
       "    </tr>\n",
       "    <tr>\n",
       "      <th>...</th>\n",
       "      <td>...</td>\n",
       "      <td>...</td>\n",
       "      <td>...</td>\n",
       "      <td>...</td>\n",
       "      <td>...</td>\n",
       "      <td>...</td>\n",
       "      <td>...</td>\n",
       "    </tr>\n",
       "    <tr>\n",
       "      <th>2411</th>\n",
       "      <td>Mama's Little Yella Pils</td>\n",
       "      <td>Oskar Blues Brewery</td>\n",
       "      <td>Longmont, CO</td>\n",
       "      <td>Czech Pilsener</td>\n",
       "      <td>12 oz.</td>\n",
       "      <td>5.3</td>\n",
       "      <td>35</td>\n",
       "    </tr>\n",
       "    <tr>\n",
       "      <th>2412</th>\n",
       "      <td>GUBNA Imperial IPA</td>\n",
       "      <td>Oskar Blues Brewery</td>\n",
       "      <td>Longmont, CO</td>\n",
       "      <td>American Double / Imperial IPA</td>\n",
       "      <td>12 oz.</td>\n",
       "      <td>9.9</td>\n",
       "      <td>100</td>\n",
       "    </tr>\n",
       "    <tr>\n",
       "      <th>2413</th>\n",
       "      <td>Old Chub</td>\n",
       "      <td>Oskar Blues Brewery</td>\n",
       "      <td>Longmont, CO</td>\n",
       "      <td>Scottish Ale</td>\n",
       "      <td>12 oz.</td>\n",
       "      <td>8.0</td>\n",
       "      <td>35</td>\n",
       "    </tr>\n",
       "    <tr>\n",
       "      <th>2414</th>\n",
       "      <td>Gordon Ale (2009)</td>\n",
       "      <td>Oskar Blues Brewery</td>\n",
       "      <td>Longmont, CO</td>\n",
       "      <td>American Double / Imperial IPA</td>\n",
       "      <td>12 oz.</td>\n",
       "      <td>8.7</td>\n",
       "      <td>85</td>\n",
       "    </tr>\n",
       "    <tr>\n",
       "      <th>2415</th>\n",
       "      <td>Dale's Pale Ale</td>\n",
       "      <td>Oskar Blues Brewery</td>\n",
       "      <td>Longmont, CO</td>\n",
       "      <td>American Pale Ale (APA)</td>\n",
       "      <td>12 oz.</td>\n",
       "      <td>6.5</td>\n",
       "      <td>65</td>\n",
       "    </tr>\n",
       "  </tbody>\n",
       "</table>\n",
       "<p>1045 rows × 7 columns</p>\n",
       "</div>"
      ],
      "text/plain": [
       "                          Beer              Brewery         Location  \\\n",
       "0                 Get Together    NorthGate Brewing  Minneapolis, MN   \n",
       "1                Maggie's Leap    NorthGate Brewing  Minneapolis, MN   \n",
       "3                      Pumpion    NorthGate Brewing  Minneapolis, MN   \n",
       "4                   Stronghold    NorthGate Brewing  Minneapolis, MN   \n",
       "5                  Parapet ESB    NorthGate Brewing  Minneapolis, MN   \n",
       "...                        ...                  ...              ...   \n",
       "2411  Mama's Little Yella Pils  Oskar Blues Brewery     Longmont, CO   \n",
       "2412        GUBNA Imperial IPA  Oskar Blues Brewery     Longmont, CO   \n",
       "2413                  Old Chub  Oskar Blues Brewery     Longmont, CO   \n",
       "2414         Gordon Ale (2009)  Oskar Blues Brewery     Longmont, CO   \n",
       "2415           Dale's Pale Ale  Oskar Blues Brewery     Longmont, CO   \n",
       "\n",
       "                                    Style    Size  ABV  IBUs  \n",
       "0                            American IPA  16 oz.  4.5    50  \n",
       "1                      Milk / Sweet Stout  16 oz.  4.9    26  \n",
       "3                             Pumpkin Ale  16 oz.  6.0    38  \n",
       "4                         American Porter  16 oz.  6.0    25  \n",
       "5     Extra Special / Strong Bitter (ESB)  16 oz.  5.6    47  \n",
       "...                                   ...     ...  ...   ...  \n",
       "2411                       Czech Pilsener  12 oz.  5.3    35  \n",
       "2412       American Double / Imperial IPA  12 oz.  9.9   100  \n",
       "2413                         Scottish Ale  12 oz.  8.0    35  \n",
       "2414       American Double / Imperial IPA  12 oz.  8.7    85  \n",
       "2415              American Pale Ale (APA)  12 oz.  6.5    65  \n",
       "\n",
       "[1045 rows x 7 columns]"
      ]
     },
     "execution_count": 28,
     "metadata": {},
     "output_type": "execute_result"
    }
   ],
   "source": [
    "df[df['IBUs'] > df['IBUs'].quantile(0.25)]"
   ]
  },
  {
   "cell_type": "markdown",
   "metadata": {},
   "source": [
    "## List the median IBUs of each type of beer. Graph it.\n",
    "\n",
    "Put the highest at the top, and the missing ones at the bottom.\n",
    "\n",
    "- Tip: Look at the options for `sort_values` to figure out the `NaN` thing. The `?` probably won't help you here."
   ]
  },
  {
   "cell_type": "code",
   "execution_count": 29,
   "metadata": {},
   "outputs": [
    {
     "data": {
      "application/vnd.microsoft.datawrangler.viewer.v0+json": {
       "columns": [
        {
         "name": "Style",
         "rawType": "object",
         "type": "string"
        },
        {
         "name": "IBUs",
         "rawType": "Float64",
         "type": "float"
        }
       ],
       "ref": "422f59fe-75d5-4523-9594-81aa669017ec",
       "rows": [
        [
         "American Barleywine",
         "96.0"
        ],
        [
         "Russian Imperial Stout",
         "94.0"
        ],
        [
         "American Double / Imperial IPA",
         "91.0"
        ],
        [
         "American Double / Imperial Pilsner",
         "85.0"
        ],
        [
         "American Black Ale",
         "73.0"
        ],
        [
         "Belgian Strong Dark Ale",
         "72.0"
        ],
        [
         "American Strong Ale",
         "70.0"
        ],
        [
         "American IPA",
         "69.0"
        ],
        [
         "English Stout",
         "66.0"
        ],
        [
         "American India Pale Lager",
         "65.0"
        ],
        [
         "Belgian IPA",
         "61.0"
        ],
        [
         "English Barleywine",
         "60.0"
        ],
        [
         "Rye Beer",
         "57.0"
        ],
        [
         "English Strong Ale",
         "52.0"
        ],
        [
         "Baltic Porter",
         "52.0"
        ],
        [
         "American Double / Imperial Stout",
         "51.0"
        ],
        [
         "English India Pale Ale (IPA)",
         "47.0"
        ],
        [
         "American White IPA",
         "45.0"
        ],
        [
         "American Pale Ale (APA)",
         "44.0"
        ],
        [
         "Extra Special / Strong Bitter (ESB)",
         "41.0"
        ],
        [
         "California Common / Steam Beer",
         "41.0"
        ],
        [
         "Old Ale",
         "40.0"
        ],
        [
         "American Stout",
         "40.0"
        ],
        [
         "Altbier",
         "36.5"
        ],
        [
         "Foreign / Export Stout",
         "36.0"
        ],
        [
         "Belgian Dark Ale",
         "35.0"
        ],
        [
         "Smoked Beer",
         "35.0"
        ],
        [
         "German Pilsener",
         "35.0"
        ],
        [
         "Irish Dry Stout",
         "34.0"
        ],
        [
         "Czech Pilsener",
         "33.0"
        ],
        [
         "American Amber / Red Ale",
         "31.0"
        ],
        [
         "American Porter",
         "31.0"
        ],
        [
         "English Pale Ale",
         "30.0"
        ],
        [
         "Schwarzbier",
         "30.0"
        ],
        [
         "Saison / Farmhouse Ale",
         "30.0"
        ],
        [
         "Oatmeal Stout",
         "29.0"
        ],
        [
         "English Bitter",
         "28.0"
        ],
        [
         "Tripel",
         "27.5"
        ],
        [
         "Maibock / Helles Bock",
         "27.5"
        ],
        [
         "American Wild Ale",
         "27.0"
        ],
        [
         "Irish Red Ale",
         "26.5"
        ],
        [
         "American Brown Ale",
         "26.0"
        ],
        [
         "Milk / Sweet Stout",
         "25.5"
        ],
        [
         "Bock",
         "25.0"
        ],
        [
         "Grisette",
         "25.0"
        ],
        [
         "Belgian Strong Pale Ale",
         "25.0"
        ],
        [
         "American Dark Wheat Ale",
         "25.0"
        ],
        [
         "Doppelbock",
         "24.5"
        ],
        [
         "Dortmunder / Export Lager",
         "24.0"
        ],
        [
         "Wheat Ale",
         "24.0"
        ]
       ],
       "shape": {
        "columns": 1,
        "rows": 99
       }
      },
      "text/plain": [
       "Style\n",
       "American Barleywine                   96.0\n",
       "Russian Imperial Stout                94.0\n",
       "American Double / Imperial IPA        91.0\n",
       "American Double / Imperial Pilsner    85.0\n",
       "American Black Ale                    73.0\n",
       "                                      ... \n",
       "Kristalweizen                         <NA>\n",
       "Low Alcohol Beer                      <NA>\n",
       "Mead                                  <NA>\n",
       "Rauchbier                             <NA>\n",
       "Shandy                                <NA>\n",
       "Name: IBUs, Length: 99, dtype: Float64"
      ]
     },
     "execution_count": 29,
     "metadata": {},
     "output_type": "execute_result"
    }
   ],
   "source": [
    "df.groupby('Style')['IBUs'].median().sort_values(na_position= 'last', ascending=False)"
   ]
  },
  {
   "cell_type": "code",
   "execution_count": null,
   "metadata": {},
   "outputs": [],
   "source": []
  },
  {
   "cell_type": "markdown",
   "metadata": {},
   "source": [
    "## Hmmmm, it looks like they are generally different styles. What are the most common 5 styles of high-IBU beer vs. low-IBU beer?\n",
    "\n",
    "- *Tip: You'll want to think about it in three pieces - filtering to only find the specific beers beers, then finding out what the most common styles are, then getting the top 5.*\n",
    "- *Tip: You CANNOT do this in one command. It's going to be one command for the high and one for the low.*\n",
    "- *Tip: \"High IBU\" means higher than 75th percentile, \"Low IBU\" is under 25th percentile*"
   ]
  },
  {
   "cell_type": "code",
   "execution_count": 30,
   "metadata": {},
   "outputs": [
    {
     "data": {
      "application/vnd.microsoft.datawrangler.viewer.v0+json": {
       "columns": [
        {
         "name": "Style",
         "rawType": "object",
         "type": "string"
        },
        {
         "name": "IBUs",
         "rawType": "Float64",
         "type": "float"
        }
       ],
       "ref": "e6aad2d0-f8db-436a-8686-e79a2799e1e8",
       "rows": [
        [
         "American Barleywine",
         "96.0"
        ],
        [
         "Russian Imperial Stout",
         "94.0"
        ],
        [
         "American Double / Imperial IPA",
         "91.0"
        ],
        [
         "American Double / Imperial Pilsner",
         "85.0"
        ],
        [
         "American Black Ale",
         "73.0"
        ],
        [
         "Belgian Strong Dark Ale",
         "72.0"
        ],
        [
         "American Strong Ale",
         "70.0"
        ],
        [
         "American IPA",
         "69.0"
        ],
        [
         "English Stout",
         "66.0"
        ],
        [
         "American India Pale Lager",
         "65.0"
        ],
        [
         "Belgian IPA",
         "61.0"
        ],
        [
         "English Barleywine",
         "60.0"
        ],
        [
         "Rye Beer",
         "57.0"
        ],
        [
         "English Strong Ale",
         "52.0"
        ],
        [
         "Baltic Porter",
         "52.0"
        ],
        [
         "American Double / Imperial Stout",
         "51.0"
        ],
        [
         "English India Pale Ale (IPA)",
         "47.0"
        ],
        [
         "American White IPA",
         "45.0"
        ],
        [
         "American Pale Ale (APA)",
         "44.0"
        ],
        [
         "Extra Special / Strong Bitter (ESB)",
         "41.0"
        ],
        [
         "California Common / Steam Beer",
         "41.0"
        ],
        [
         "Old Ale",
         "40.0"
        ],
        [
         "American Stout",
         "40.0"
        ],
        [
         "Altbier",
         "36.5"
        ],
        [
         "Foreign / Export Stout",
         "36.0"
        ],
        [
         "Belgian Dark Ale",
         "35.0"
        ],
        [
         "Smoked Beer",
         "35.0"
        ],
        [
         "German Pilsener",
         "35.0"
        ],
        [
         "Irish Dry Stout",
         "34.0"
        ],
        [
         "Czech Pilsener",
         "33.0"
        ],
        [
         "American Amber / Red Ale",
         "31.0"
        ],
        [
         "American Porter",
         "31.0"
        ],
        [
         "English Pale Ale",
         "30.0"
        ],
        [
         "Schwarzbier",
         "30.0"
        ],
        [
         "Saison / Farmhouse Ale",
         "30.0"
        ],
        [
         "Oatmeal Stout",
         "29.0"
        ],
        [
         "English Bitter",
         "28.0"
        ],
        [
         "Tripel",
         "27.5"
        ],
        [
         "Maibock / Helles Bock",
         "27.5"
        ],
        [
         "American Wild Ale",
         "27.0"
        ],
        [
         "Irish Red Ale",
         "26.5"
        ],
        [
         "American Brown Ale",
         "26.0"
        ],
        [
         "Milk / Sweet Stout",
         "25.5"
        ],
        [
         "Bock",
         "25.0"
        ],
        [
         "Grisette",
         "25.0"
        ],
        [
         "Belgian Strong Pale Ale",
         "25.0"
        ],
        [
         "American Dark Wheat Ale",
         "25.0"
        ],
        [
         "Doppelbock",
         "24.5"
        ],
        [
         "Dortmunder / Export Lager",
         "24.0"
        ],
        [
         "Wheat Ale",
         "24.0"
        ]
       ],
       "shape": {
        "columns": 1,
        "rows": 99
       }
      },
      "text/plain": [
       "Style\n",
       "American Barleywine                   96.0\n",
       "Russian Imperial Stout                94.0\n",
       "American Double / Imperial IPA        91.0\n",
       "American Double / Imperial Pilsner    85.0\n",
       "American Black Ale                    73.0\n",
       "                                      ... \n",
       "Kristalweizen                         <NA>\n",
       "Low Alcohol Beer                      <NA>\n",
       "Mead                                  <NA>\n",
       "Rauchbier                             <NA>\n",
       "Shandy                                <NA>\n",
       "Name: IBUs, Length: 99, dtype: Float64"
      ]
     },
     "execution_count": 30,
     "metadata": {},
     "output_type": "execute_result"
    }
   ],
   "source": [
    "# Create a series\n",
    "df_ibu = df.groupby('Style')['IBUs'].median().sort_values(na_position= 'last', ascending=False)\n",
    "df_ibu"
   ]
  },
  {
   "cell_type": "code",
   "execution_count": 31,
   "metadata": {},
   "outputs": [],
   "source": [
    "# Create lists for high et low ibus to filter\n",
    "\n",
    "df_ibu_high = df_ibu[df_ibu > df_ibu.quantile(0.75)].index\n",
    "df_ibu_low = df_ibu[df_ibu < df_ibu.quantile(0.25)].index"
   ]
  },
  {
   "cell_type": "code",
   "execution_count": 32,
   "metadata": {},
   "outputs": [
    {
     "data": {
      "application/vnd.microsoft.datawrangler.viewer.v0+json": {
       "columns": [
        {
         "name": "Style",
         "rawType": "object",
         "type": "string"
        },
        {
         "name": "0",
         "rawType": "int64",
         "type": "integer"
        }
       ],
       "ref": "9d676fc2-9562-49b6-9dc9-25350a4e32f1",
       "rows": [
        [
         "American IPA",
         "424"
        ],
        [
         "American Pale Ale (APA)",
         "245"
        ],
        [
         "American Double / Imperial IPA",
         "105"
        ],
        [
         "American Stout",
         "39"
        ],
        [
         "American Black Ale",
         "36"
        ]
       ],
       "shape": {
        "columns": 1,
        "rows": 5
       }
      },
      "text/plain": [
       "Style\n",
       "American IPA                      424\n",
       "American Pale Ale (APA)           245\n",
       "American Double / Imperial IPA    105\n",
       "American Stout                     39\n",
       "American Black Ale                 36\n",
       "dtype: int64"
      ]
     },
     "execution_count": 32,
     "metadata": {},
     "output_type": "execute_result"
    }
   ],
   "source": [
    "# Top 5 bears with high ibus\n",
    "(\n",
    "df[df['Style'].isin(df_ibu_high)]\n",
    ".groupby('Style')\n",
    ".size()\n",
    ".sort_values(ascending=False)\n",
    ".head(n=5)\n",
    ")\n"
   ]
  },
  {
   "cell_type": "code",
   "execution_count": 33,
   "metadata": {},
   "outputs": [
    {
     "data": {
      "application/vnd.microsoft.datawrangler.viewer.v0+json": {
       "columns": [
        {
         "name": "Style",
         "rawType": "object",
         "type": "string"
        },
        {
         "name": "0",
         "rawType": "int64",
         "type": "integer"
        }
       ],
       "ref": "0ec66836-c5ac-4216-bcf4-501d845abe71",
       "rows": [
        [
         "American Blonde Ale",
         "108"
        ],
        [
         "American Pale Wheat Ale",
         "97"
        ],
        [
         "Witbier",
         "51"
        ],
        [
         "Fruit / Vegetable Beer",
         "49"
        ],
        [
         "Hefeweizen",
         "40"
        ]
       ],
       "shape": {
        "columns": 1,
        "rows": 5
       }
      },
      "text/plain": [
       "Style\n",
       "American Blonde Ale        108\n",
       "American Pale Wheat Ale     97\n",
       "Witbier                     51\n",
       "Fruit / Vegetable Beer      49\n",
       "Hefeweizen                  40\n",
       "dtype: int64"
      ]
     },
     "execution_count": 33,
     "metadata": {},
     "output_type": "execute_result"
    }
   ],
   "source": [
    "# Top 5 bears with low ibus\n",
    "(\n",
    "df[df['Style'].isin(df_ibu_low)]\n",
    ".groupby('Style')\n",
    ".size()\n",
    ".sort_values(ascending=False)\n",
    ".head(n=5)\n",
    ")"
   ]
  },
  {
   "cell_type": "markdown",
   "metadata": {},
   "source": [
    "## Get the average IBU of \"Witbier\", \"Hefeweizen\" and \"American Pale Wheat Ale\" styles\n",
    "\n",
    "I'm counting these as wheat beers. If you see any other wheat beer categories, feel free to include them. I want ONE measurement and ONE graph, not three separate ones. And 20 to 30 bins in the histogram, please.\n",
    "\n",
    "- *Tip: I hope that `isin` is in your toolbox*"
   ]
  },
  {
   "cell_type": "code",
   "execution_count": 34,
   "metadata": {},
   "outputs": [
    {
     "data": {
      "text/plain": [
       "np.float64(18.982142857142858)"
      ]
     },
     "execution_count": 34,
     "metadata": {},
     "output_type": "execute_result"
    }
   ],
   "source": [
    "style_list = [\"Witbier\", \"Hefeweizen\", \"American Pale Wheat Ale\"]\n",
    "\n",
    "(\n",
    "    df[df['Style'].isin(style_list)]['IBUs']\n",
    "    .mean()\n",
    ")\n"
   ]
  },
  {
   "cell_type": "markdown",
   "metadata": {},
   "source": [
    "## Draw a histogram of the IBUs of those beers"
   ]
  },
  {
   "cell_type": "code",
   "execution_count": 35,
   "metadata": {},
   "outputs": [
    {
     "data": {
      "text/plain": [
       "<Axes: >"
      ]
     },
     "execution_count": 35,
     "metadata": {},
     "output_type": "execute_result"
    },
    {
     "data": {
      "image/png": "[encoded data removed]",
      "text/plain": [
       "<Figure size 640x480 with 1 Axes>"
      ]
     },
     "metadata": {},
     "output_type": "display_data"
    }
   ],
   "source": [
    "df[df['Style'].isin(style_list)]['IBUs'].hist(bins = 20)\n"
   ]
  },
  {
   "cell_type": "markdown",
   "metadata": {},
   "source": [
    "## Get the average IBU of any style with \"IPA\" in it (also draw a histogram)"
   ]
  },
  {
   "cell_type": "code",
   "execution_count": 36,
   "metadata": {},
   "outputs": [
    {
     "data": {
      "text/plain": [
       "np.float64(93.32)"
      ]
     },
     "execution_count": 36,
     "metadata": {},
     "output_type": "execute_result"
    }
   ],
   "source": [
    "# I take this IPA which has a lot of beers\n",
    "df[df['Style'] == \"American Double / Imperial IPA\"]['IBUs'].mean() "
   ]
  },
  {
   "cell_type": "code",
   "execution_count": 37,
   "metadata": {},
   "outputs": [
    {
     "data": {
      "text/plain": [
       "<Axes: >"
      ]
     },
     "execution_count": 37,
     "metadata": {},
     "output_type": "execute_result"
    },
    {
     "data": {
      "image/png": "[encoded data removed]",
      "text/plain": [
       "<Figure size 640x480 with 1 Axes>"
      ]
     },
     "metadata": {},
     "output_type": "display_data"
    }
   ],
   "source": [
    "df[df['Style'] == \"American Double / Imperial IPA\"]['IBUs'].hist(bins=15)"
   ]
  },
  {
   "cell_type": "markdown",
   "metadata": {},
   "source": [
    "## Plot those two histograms in the same cell!\n",
    "\n",
    "I swear the behavior of this changes every year. Does it make two charts? Does it overlap them in one?"
   ]
  },
  {
   "cell_type": "code",
   "execution_count": 38,
   "metadata": {},
   "outputs": [
    {
     "data": {
      "text/plain": [
       "<Axes: >"
      ]
     },
     "execution_count": 38,
     "metadata": {},
     "output_type": "execute_result"
    },
    {
     "data": {
      "image/png": "[encoded data removed]",
      "text/plain": [
       "<Figure size 640x480 with 1 Axes>"
      ]
     },
     "metadata": {},
     "output_type": "display_data"
    }
   ],
   "source": [
    "df[df['Style'].isin(style_list)]['IBUs'].hist(bins = 20)\n",
    "df[df['Style'] == \"American Double / Imperial IPA\"]['IBUs'].hist(bins=15)"
   ]
  },
  {
   "cell_type": "markdown",
   "metadata": {},
   "source": [
    "## Compare the ABV of wheat beers vs. IPAs : their IBUs were really different, but how about their alcohol percentage?\n",
    "\n",
    "Wheat beers might include witbier, hefeweizen, American Pale Wheat Ale, and anything else you think is wheaty. IPAs probably have \"IPA\" in their name."
   ]
  },
  {
   "cell_type": "code",
   "execution_count": 39,
   "metadata": {},
   "outputs": [
    {
     "ename": "AttributeError",
     "evalue": "Can only use .str accessor with string values!",
     "output_type": "error",
     "traceback": [
      "\u001b[31m---------------------------------------------------------------------------\u001b[39m",
      "\u001b[31mAttributeError\u001b[39m                            Traceback (most recent call last)",
      "\u001b[36mCell\u001b[39m\u001b[36m \u001b[39m\u001b[32mIn[39]\u001b[39m\u001b[32m, line 5\u001b[39m\n\u001b[32m      1\u001b[39m \u001b[38;5;66;03m# Check the values to see if str.replace() possible\u001b[39;00m\n\u001b[32m      2\u001b[39m df[\u001b[33m'\u001b[39m\u001b[33mABV\u001b[39m\u001b[33m'\u001b[39m].unique()\n\u001b[32m----> \u001b[39m\u001b[32m5\u001b[39m df[\u001b[33m'\u001b[39m\u001b[33mABV\u001b[39m\u001b[33m'\u001b[39m] = \u001b[43mdf\u001b[49m\u001b[43m[\u001b[49m\u001b[33;43m'\u001b[39;49m\u001b[33;43mABV\u001b[39;49m\u001b[33;43m'\u001b[39;49m\u001b[43m]\u001b[49m\u001b[43m.\u001b[49m\u001b[43mstr\u001b[49m.replace(\u001b[33m\"\u001b[39m\u001b[33m%\u001b[39m\u001b[33m\"\u001b[39m, \u001b[33m\"\u001b[39m\u001b[33m\"\u001b[39m).astype(\u001b[38;5;28mfloat\u001b[39m)\n",
      "\u001b[36mFile \u001b[39m\u001b[32m~/.pyenv/versions/3.12.2/lib/python3.12/site-packages/pandas/core/generic.py:6318\u001b[39m, in \u001b[36mNDFrame.__getattr__\u001b[39m\u001b[34m(self, name)\u001b[39m\n\u001b[32m   6311\u001b[39m \u001b[38;5;28;01mif\u001b[39;00m (\n\u001b[32m   6312\u001b[39m     name \u001b[38;5;129;01mnot\u001b[39;00m \u001b[38;5;129;01min\u001b[39;00m \u001b[38;5;28mself\u001b[39m._internal_names_set\n\u001b[32m   6313\u001b[39m     \u001b[38;5;129;01mand\u001b[39;00m name \u001b[38;5;129;01mnot\u001b[39;00m \u001b[38;5;129;01min\u001b[39;00m \u001b[38;5;28mself\u001b[39m._metadata\n\u001b[32m   6314\u001b[39m     \u001b[38;5;129;01mand\u001b[39;00m name \u001b[38;5;129;01mnot\u001b[39;00m \u001b[38;5;129;01min\u001b[39;00m \u001b[38;5;28mself\u001b[39m._accessors\n\u001b[32m   6315\u001b[39m     \u001b[38;5;129;01mand\u001b[39;00m \u001b[38;5;28mself\u001b[39m._info_axis._can_hold_identifiers_and_holds_name(name)\n\u001b[32m   6316\u001b[39m ):\n\u001b[32m   6317\u001b[39m     \u001b[38;5;28;01mreturn\u001b[39;00m \u001b[38;5;28mself\u001b[39m[name]\n\u001b[32m-> \u001b[39m\u001b[32m6318\u001b[39m \u001b[38;5;28;01mreturn\u001b[39;00m \u001b[38;5;28;43mobject\u001b[39;49m\u001b[43m.\u001b[49m\u001b[34;43m__getattribute__\u001b[39;49m\u001b[43m(\u001b[49m\u001b[38;5;28;43mself\u001b[39;49m\u001b[43m,\u001b[49m\u001b[43m \u001b[49m\u001b[43mname\u001b[49m\u001b[43m)\u001b[49m\n",
      "\u001b[36mFile \u001b[39m\u001b[32m~/.pyenv/versions/3.12.2/lib/python3.12/site-packages/pandas/core/accessor.py:224\u001b[39m, in \u001b[36mCachedAccessor.__get__\u001b[39m\u001b[34m(self, obj, cls)\u001b[39m\n\u001b[32m    221\u001b[39m \u001b[38;5;28;01mif\u001b[39;00m obj \u001b[38;5;129;01mis\u001b[39;00m \u001b[38;5;28;01mNone\u001b[39;00m:\n\u001b[32m    222\u001b[39m     \u001b[38;5;66;03m# we're accessing the attribute of the class, i.e., Dataset.geo\u001b[39;00m\n\u001b[32m    223\u001b[39m     \u001b[38;5;28;01mreturn\u001b[39;00m \u001b[38;5;28mself\u001b[39m._accessor\n\u001b[32m--> \u001b[39m\u001b[32m224\u001b[39m accessor_obj = \u001b[38;5;28;43mself\u001b[39;49m\u001b[43m.\u001b[49m\u001b[43m_accessor\u001b[49m\u001b[43m(\u001b[49m\u001b[43mobj\u001b[49m\u001b[43m)\u001b[49m\n\u001b[32m    225\u001b[39m \u001b[38;5;66;03m# Replace the property with the accessor object. Inspired by:\u001b[39;00m\n\u001b[32m    226\u001b[39m \u001b[38;5;66;03m# https://www.pydanny.com/cached-property.html\u001b[39;00m\n\u001b[32m    227\u001b[39m \u001b[38;5;66;03m# We need to use object.__setattr__ because we overwrite __setattr__ on\u001b[39;00m\n\u001b[32m    228\u001b[39m \u001b[38;5;66;03m# NDFrame\u001b[39;00m\n\u001b[32m    229\u001b[39m \u001b[38;5;28mobject\u001b[39m.\u001b[34m__setattr__\u001b[39m(obj, \u001b[38;5;28mself\u001b[39m._name, accessor_obj)\n",
      "\u001b[36mFile \u001b[39m\u001b[32m~/.pyenv/versions/3.12.2/lib/python3.12/site-packages/pandas/core/strings/accessor.py:194\u001b[39m, in \u001b[36mStringMethods.__init__\u001b[39m\u001b[34m(self, data)\u001b[39m\n\u001b[32m    191\u001b[39m \u001b[38;5;28;01mdef\u001b[39;00m\u001b[38;5;250m \u001b[39m\u001b[34m__init__\u001b[39m(\u001b[38;5;28mself\u001b[39m, data) -> \u001b[38;5;28;01mNone\u001b[39;00m:\n\u001b[32m    192\u001b[39m     \u001b[38;5;28;01mfrom\u001b[39;00m\u001b[38;5;250m \u001b[39m\u001b[34;01mpandas\u001b[39;00m\u001b[34;01m.\u001b[39;00m\u001b[34;01mcore\u001b[39;00m\u001b[34;01m.\u001b[39;00m\u001b[34;01marrays\u001b[39;00m\u001b[34;01m.\u001b[39;00m\u001b[34;01mstring_\u001b[39;00m\u001b[38;5;250m \u001b[39m\u001b[38;5;28;01mimport\u001b[39;00m StringDtype\n\u001b[32m--> \u001b[39m\u001b[32m194\u001b[39m     \u001b[38;5;28mself\u001b[39m._inferred_dtype = \u001b[38;5;28;43mself\u001b[39;49m\u001b[43m.\u001b[49m\u001b[43m_validate\u001b[49m\u001b[43m(\u001b[49m\u001b[43mdata\u001b[49m\u001b[43m)\u001b[49m\n\u001b[32m    195\u001b[39m     \u001b[38;5;28mself\u001b[39m._is_categorical = \u001b[38;5;28misinstance\u001b[39m(data.dtype, CategoricalDtype)\n\u001b[32m    196\u001b[39m     \u001b[38;5;28mself\u001b[39m._is_string = \u001b[38;5;28misinstance\u001b[39m(data.dtype, StringDtype)\n",
      "\u001b[36mFile \u001b[39m\u001b[32m~/.pyenv/versions/3.12.2/lib/python3.12/site-packages/pandas/core/strings/accessor.py:248\u001b[39m, in \u001b[36mStringMethods._validate\u001b[39m\u001b[34m(data)\u001b[39m\n\u001b[32m    245\u001b[39m inferred_dtype = lib.infer_dtype(values, skipna=\u001b[38;5;28;01mTrue\u001b[39;00m)\n\u001b[32m    247\u001b[39m \u001b[38;5;28;01mif\u001b[39;00m inferred_dtype \u001b[38;5;129;01mnot\u001b[39;00m \u001b[38;5;129;01min\u001b[39;00m allowed_types:\n\u001b[32m--> \u001b[39m\u001b[32m248\u001b[39m     \u001b[38;5;28;01mraise\u001b[39;00m \u001b[38;5;167;01mAttributeError\u001b[39;00m(\u001b[33m\"\u001b[39m\u001b[33mCan only use .str accessor with string values!\u001b[39m\u001b[33m\"\u001b[39m)\n\u001b[32m    249\u001b[39m \u001b[38;5;28;01mreturn\u001b[39;00m inferred_dtype\n",
      "\u001b[31mAttributeError\u001b[39m: Can only use .str accessor with string values!"
     ]
    }
   ],
   "source": [
    "# Check the values to see if str.replace() possible\n",
    "df['ABV'].unique()\n",
    "\n",
    "\n",
    "df['ABV'] = df['ABV'].str.replace(\"%\", \"\").astype(float)"
   ]
  },
  {
   "cell_type": "code",
   "execution_count": null,
   "metadata": {},
   "outputs": [],
   "source": [
    "df_ipa = df[df['Style'].str.contains(\"IPA\", na=False)]\n",
    "\n",
    "df_wheat = df[df['Style'].isin(style_list)]"
   ]
  },
  {
   "cell_type": "code",
   "execution_count": null,
   "metadata": {},
   "outputs": [
    {
     "name": "stdout",
     "output_type": "stream",
     "text": [
      "IPA mean = 6.9% \n",
      "Wheat mean = 5.0%\n"
     ]
    }
   ],
   "source": [
    "print(f\"IPA mean = {df_ipa['ABV'].mean():.1f}% \\nWheat mean = {df_wheat['ABV'].mean():.1f}%\")"
   ]
  },
  {
   "cell_type": "markdown",
   "metadata": {
    "collapsed": true,
    "jupyter": {
     "outputs_hidden": true
    }
   },
   "source": [
    "## Good work!"
   ]
  },
  {
   "cell_type": "code",
   "execution_count": null,
   "metadata": {},
   "outputs": [],
   "source": []
  }
 ],
 "metadata": {
  "kernelspec": {
   "display_name": "Python 3",
   "language": "python",
   "name": "python3"
  },
  "language_info": {
   "codemirror_mode": {
    "name": "ipython",
    "version": 3
   },
   "file_extension": ".py",
   "mimetype": "text/x-python",
   "name": "python",
   "nbconvert_exporter": "python",
   "pygments_lexer": "ipython3",
   "version": "3.12.2"
  }
 },
 "nbformat": 4,
 "nbformat_minor": 4
}
